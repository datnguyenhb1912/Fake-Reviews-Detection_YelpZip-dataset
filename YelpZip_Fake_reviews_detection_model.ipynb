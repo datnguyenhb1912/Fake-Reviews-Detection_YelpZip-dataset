{
  "cells": [
    {
      "cell_type": "markdown",
      "metadata": {
        "id": "VtRXz08Moz0W"
      },
      "source": [
        "# YELPZIP - FAKE REVIEWS DETECTION MODEL\n",
        "\n",
        "The dataset: YelpZip\n",
        "Link: https://www.kaggle.com/datasets/yelp-dataset/yelp-dataset/discussion/156218\n"
      ]
    },
    {
      "cell_type": "markdown",
      "metadata": {
        "id": "QEL18rZGhFkc"
      },
      "source": [
        "##  (1) Data Exploration"
      ]
    },
    {
      "cell_type": "markdown",
      "metadata": {
        "id": "OuN71Nl6hQtX"
      },
      "source": [
        "### Import libraries and the dataset from Google Drive"
      ]
    },
    {
      "cell_type": "code",
      "execution_count": null,
      "metadata": {
        "id": "DVujb7-ZS_Ja"
      },
      "outputs": [],
      "source": [
        "import pandas as pd\n",
        "import numpy as np\n",
        "import json\n",
        "import os\n",
        "\n",
        "# library to clean data\n",
        "import re\n",
        "\n",
        "import string\n",
        "import matplotlib.pyplot as plt\n",
        "\n",
        "import warnings\n",
        "warnings.simplefilter(action='ignore', category=FutureWarning)"
      ]
    },
    {
      "cell_type": "code",
      "execution_count": null,
      "metadata": {
        "colab": {
          "base_uri": "https://localhost:8080/"
        },
        "id": "IMNLdDQMXTCE",
        "outputId": "e65cb1c4-989b-430f-ef88-e73fb73e0d12"
      },
      "outputs": [
        {
          "output_type": "stream",
          "name": "stdout",
          "text": [
            "Mounted at /content/gdrive\n"
          ]
        }
      ],
      "source": [
        "#colab mount drive\n",
        "from google.colab import drive\n",
        "drive.mount('/content/gdrive')"
      ]
    },
    {
      "cell_type": "code",
      "execution_count": null,
      "metadata": {
        "colab": {
          "base_uri": "https://localhost:8080/"
        },
        "id": "6juWxCBMnUjs",
        "outputId": "81952165-dbc8-424b-c8b9-cf0f2dd7d1b3"
      },
      "outputs": [
        {
          "output_type": "execute_result",
          "data": {
            "text/plain": [
              "['Labelled Yelp Dataset.csv',\n",
              " 'userIdMapping',\n",
              " 'productIdMapping',\n",
              " 'reviewContent',\n",
              " 'reviewGraph',\n",
              " 'readmeYelp.txt',\n",
              " 'metadata',\n",
              " 'merged_data.csv',\n",
              " 'features_dataset.csv',\n",
              " 'test_reviews.csv',\n",
              " 'test_profiles.txt',\n",
              " 'test_labels.txt',\n",
              " 'train_reviews.csv',\n",
              " 'train_profiles.txt',\n",
              " 'train_labels.txt',\n",
              " 'all_profiles.txt',\n",
              " 'profiles.txt',\n",
              " 'labels.txt',\n",
              " 'all_labels.txt',\n",
              " 'YZ2_labels.txt',\n",
              " 'YZ2_profiles.txt',\n",
              " 'YZ3_labels.txt',\n",
              " 'YZ3_profiles.txt',\n",
              " 'YZ4_labels.txt',\n",
              " 'YZ4_profiles.txt']"
            ]
          },
          "metadata": {},
          "execution_count": 4
        }
      ],
      "source": [
        "#Load directory\n",
        "os.chdir(\"/content/gdrive/My Drive/Thesis B/Fake Review Model/YelpZip\")\n",
        "os.listdir()"
      ]
    },
    {
      "cell_type": "code",
      "execution_count": null,
      "metadata": {
        "colab": {
          "base_uri": "https://localhost:8080/"
        },
        "id": "3jwB0jiUS_Jh",
        "outputId": "763a4495-3199-48ed-b538-6ca2ded4a10a"
      },
      "outputs": [
        {
          "output_type": "stream",
          "name": "stdout",
          "text": [
            "   user_id  prod_id  rating  label        date\n",
            "0     5044        0     1.0     -1  2014-11-16\n",
            "1     5045        0     1.0     -1  2014-09-08\n",
            "2     5046        0     3.0     -1  2013-10-06\n",
            "3     5047        0     5.0     -1  2014-11-30\n",
            "4     5048        0     5.0     -1  2014-08-28\n",
            "             user_id        prod_id         rating          label\n",
            "count  608598.000000  608598.000000  608598.000000  608598.000000\n",
            "mean    89642.634603    2564.991760       3.923595       0.735569\n",
            "std     73873.157594    1447.929346       1.147472       0.677450\n",
            "min      5044.000000       0.000000       1.000000      -1.000000\n",
            "25%     25495.250000    1345.000000       3.000000       1.000000\n",
            "50%     66770.000000    2616.000000       4.000000       1.000000\n",
            "75%    142269.000000    3768.000000       5.000000       1.000000\n",
            "max    265320.000000    5043.000000       5.000000       1.000000\n"
          ]
        }
      ],
      "source": [
        "col_metadata=['user_id', 'prod_id', 'rating', 'label', 'date']\n",
        "metadata = pd.read_csv('metadata', sep='\\t', names=col_metadata, header=None)\n",
        "print(metadata.head())\n",
        "#Class 1 = Not spam, -1 = spam\n",
        "print(metadata.describe())"
      ]
    },
    {
      "cell_type": "code",
      "execution_count": null,
      "metadata": {
        "colab": {
          "base_uri": "https://localhost:8080/"
        },
        "id": "nMymYz9qe-bk",
        "outputId": "ba1cb301-d4b2-471d-e82e-b3b993756fad"
      },
      "outputs": [
        {
          "output_type": "stream",
          "name": "stdout",
          "text": [
            "   user_id  prod_id        date  \\\n",
            "0     5044        0  2014-11-16   \n",
            "1     5045        0  2014-09-08   \n",
            "2     5046        0  2013-10-06   \n",
            "3     5047        0  2014-11-30   \n",
            "4     5048        0  2014-08-28   \n",
            "\n",
            "                                              review  \n",
            "0  Drinks were bad, the hot chocolate was watered...  \n",
            "1  This was the worst experience I've ever had a ...  \n",
            "2  This is located on the site of the old Spruce ...  \n",
            "3  I enjoyed coffee and breakfast twice at Toast ...  \n",
            "4  I love Toast! The food choices are fantastic -...  \n"
          ]
        }
      ],
      "source": [
        "col_reviewContent=['user_id', 'prod_id', 'date', 'review']\n",
        "reviewContent = pd.read_csv('reviewContent', sep='\\t', names=col_reviewContent, header=None)\n",
        "print(reviewContent.head())"
      ]
    },
    {
      "cell_type": "code",
      "execution_count": null,
      "metadata": {
        "colab": {
          "base_uri": "https://localhost:8080/"
        },
        "id": "9FfobsnJgLiM",
        "outputId": "a18b228d-147a-4445-dc55-a5c81f6d1c3d"
      },
      "outputs": [
        {
          "output_type": "stream",
          "name": "stdout",
          "text": [
            "                         prod_name  prod_id\n",
            "0                            Toast        0\n",
            "1    Big Apple Lounge & Restaurant        1\n",
            "2                       La Carreta        2\n",
            "3                      Just Subs 6     2780\n",
            "4  Formosa Asian Fusion Restaurant        4\n"
          ]
        }
      ],
      "source": [
        "col_productIdMapping=['prod_name', 'prod_id']\n",
        "productIdMapping = pd.read_csv('productIdMapping', sep='\\t', names=col_productIdMapping, header=None)\n",
        "print(productIdMapping.head())"
      ]
    },
    {
      "cell_type": "code",
      "execution_count": null,
      "metadata": {
        "colab": {
          "base_uri": "https://localhost:8080/",
          "height": 206
        },
        "id": "5a_OEtrXgxfM",
        "outputId": "1841ac13-854e-4794-82a9-2efaa1ef0886"
      },
      "outputs": [
        {
          "output_type": "execute_result",
          "data": {
            "text/plain": [
              "   user_id  prod_id  rating  label        date  \\\n",
              "0     5044        0     1.0     -1  2014-11-16   \n",
              "1     5045        0     1.0     -1  2014-09-08   \n",
              "2     5046        0     3.0     -1  2013-10-06   \n",
              "3     5047        0     5.0     -1  2014-11-30   \n",
              "4     5048        0     5.0     -1  2014-08-28   \n",
              "\n",
              "                                              review prod_name  \n",
              "0  Drinks were bad, the hot chocolate was watered...     Toast  \n",
              "1  This was the worst experience I've ever had a ...     Toast  \n",
              "2  This is located on the site of the old Spruce ...     Toast  \n",
              "3  I enjoyed coffee and breakfast twice at Toast ...     Toast  \n",
              "4  I love Toast! The food choices are fantastic -...     Toast  "
            ],
            "text/html": [
              "\n",
              "  <div id=\"df-211829a4-a3e0-4d73-9996-6391b0d4df8c\">\n",
              "    <div class=\"colab-df-container\">\n",
              "      <div>\n",
              "<style scoped>\n",
              "    .dataframe tbody tr th:only-of-type {\n",
              "        vertical-align: middle;\n",
              "    }\n",
              "\n",
              "    .dataframe tbody tr th {\n",
              "        vertical-align: top;\n",
              "    }\n",
              "\n",
              "    .dataframe thead th {\n",
              "        text-align: right;\n",
              "    }\n",
              "</style>\n",
              "<table border=\"1\" class=\"dataframe\">\n",
              "  <thead>\n",
              "    <tr style=\"text-align: right;\">\n",
              "      <th></th>\n",
              "      <th>user_id</th>\n",
              "      <th>prod_id</th>\n",
              "      <th>rating</th>\n",
              "      <th>label</th>\n",
              "      <th>date</th>\n",
              "      <th>review</th>\n",
              "      <th>prod_name</th>\n",
              "    </tr>\n",
              "  </thead>\n",
              "  <tbody>\n",
              "    <tr>\n",
              "      <th>0</th>\n",
              "      <td>5044</td>\n",
              "      <td>0</td>\n",
              "      <td>1.0</td>\n",
              "      <td>-1</td>\n",
              "      <td>2014-11-16</td>\n",
              "      <td>Drinks were bad, the hot chocolate was watered...</td>\n",
              "      <td>Toast</td>\n",
              "    </tr>\n",
              "    <tr>\n",
              "      <th>1</th>\n",
              "      <td>5045</td>\n",
              "      <td>0</td>\n",
              "      <td>1.0</td>\n",
              "      <td>-1</td>\n",
              "      <td>2014-09-08</td>\n",
              "      <td>This was the worst experience I've ever had a ...</td>\n",
              "      <td>Toast</td>\n",
              "    </tr>\n",
              "    <tr>\n",
              "      <th>2</th>\n",
              "      <td>5046</td>\n",
              "      <td>0</td>\n",
              "      <td>3.0</td>\n",
              "      <td>-1</td>\n",
              "      <td>2013-10-06</td>\n",
              "      <td>This is located on the site of the old Spruce ...</td>\n",
              "      <td>Toast</td>\n",
              "    </tr>\n",
              "    <tr>\n",
              "      <th>3</th>\n",
              "      <td>5047</td>\n",
              "      <td>0</td>\n",
              "      <td>5.0</td>\n",
              "      <td>-1</td>\n",
              "      <td>2014-11-30</td>\n",
              "      <td>I enjoyed coffee and breakfast twice at Toast ...</td>\n",
              "      <td>Toast</td>\n",
              "    </tr>\n",
              "    <tr>\n",
              "      <th>4</th>\n",
              "      <td>5048</td>\n",
              "      <td>0</td>\n",
              "      <td>5.0</td>\n",
              "      <td>-1</td>\n",
              "      <td>2014-08-28</td>\n",
              "      <td>I love Toast! The food choices are fantastic -...</td>\n",
              "      <td>Toast</td>\n",
              "    </tr>\n",
              "  </tbody>\n",
              "</table>\n",
              "</div>\n",
              "      <button class=\"colab-df-convert\" onclick=\"convertToInteractive('df-211829a4-a3e0-4d73-9996-6391b0d4df8c')\"\n",
              "              title=\"Convert this dataframe to an interactive table.\"\n",
              "              style=\"display:none;\">\n",
              "        \n",
              "  <svg xmlns=\"http://www.w3.org/2000/svg\" height=\"24px\"viewBox=\"0 0 24 24\"\n",
              "       width=\"24px\">\n",
              "    <path d=\"M0 0h24v24H0V0z\" fill=\"none\"/>\n",
              "    <path d=\"M18.56 5.44l.94 2.06.94-2.06 2.06-.94-2.06-.94-.94-2.06-.94 2.06-2.06.94zm-11 1L8.5 8.5l.94-2.06 2.06-.94-2.06-.94L8.5 2.5l-.94 2.06-2.06.94zm10 10l.94 2.06.94-2.06 2.06-.94-2.06-.94-.94-2.06-.94 2.06-2.06.94z\"/><path d=\"M17.41 7.96l-1.37-1.37c-.4-.4-.92-.59-1.43-.59-.52 0-1.04.2-1.43.59L10.3 9.45l-7.72 7.72c-.78.78-.78 2.05 0 2.83L4 21.41c.39.39.9.59 1.41.59.51 0 1.02-.2 1.41-.59l7.78-7.78 2.81-2.81c.8-.78.8-2.07 0-2.86zM5.41 20L4 18.59l7.72-7.72 1.47 1.35L5.41 20z\"/>\n",
              "  </svg>\n",
              "      </button>\n",
              "      \n",
              "  <style>\n",
              "    .colab-df-container {\n",
              "      display:flex;\n",
              "      flex-wrap:wrap;\n",
              "      gap: 12px;\n",
              "    }\n",
              "\n",
              "    .colab-df-convert {\n",
              "      background-color: #E8F0FE;\n",
              "      border: none;\n",
              "      border-radius: 50%;\n",
              "      cursor: pointer;\n",
              "      display: none;\n",
              "      fill: #1967D2;\n",
              "      height: 32px;\n",
              "      padding: 0 0 0 0;\n",
              "      width: 32px;\n",
              "    }\n",
              "\n",
              "    .colab-df-convert:hover {\n",
              "      background-color: #E2EBFA;\n",
              "      box-shadow: 0px 1px 2px rgba(60, 64, 67, 0.3), 0px 1px 3px 1px rgba(60, 64, 67, 0.15);\n",
              "      fill: #174EA6;\n",
              "    }\n",
              "\n",
              "    [theme=dark] .colab-df-convert {\n",
              "      background-color: #3B4455;\n",
              "      fill: #D2E3FC;\n",
              "    }\n",
              "\n",
              "    [theme=dark] .colab-df-convert:hover {\n",
              "      background-color: #434B5C;\n",
              "      box-shadow: 0px 1px 3px 1px rgba(0, 0, 0, 0.15);\n",
              "      filter: drop-shadow(0px 1px 2px rgba(0, 0, 0, 0.3));\n",
              "      fill: #FFFFFF;\n",
              "    }\n",
              "  </style>\n",
              "\n",
              "      <script>\n",
              "        const buttonEl =\n",
              "          document.querySelector('#df-211829a4-a3e0-4d73-9996-6391b0d4df8c button.colab-df-convert');\n",
              "        buttonEl.style.display =\n",
              "          google.colab.kernel.accessAllowed ? 'block' : 'none';\n",
              "\n",
              "        async function convertToInteractive(key) {\n",
              "          const element = document.querySelector('#df-211829a4-a3e0-4d73-9996-6391b0d4df8c');\n",
              "          const dataTable =\n",
              "            await google.colab.kernel.invokeFunction('convertToInteractive',\n",
              "                                                     [key], {});\n",
              "          if (!dataTable) return;\n",
              "\n",
              "          const docLinkHtml = 'Like what you see? Visit the ' +\n",
              "            '<a target=\"_blank\" href=https://colab.research.google.com/notebooks/data_table.ipynb>data table notebook</a>'\n",
              "            + ' to learn more about interactive tables.';\n",
              "          element.innerHTML = '';\n",
              "          dataTable['output_type'] = 'display_data';\n",
              "          await google.colab.output.renderOutput(dataTable, element);\n",
              "          const docLink = document.createElement('div');\n",
              "          docLink.innerHTML = docLinkHtml;\n",
              "          element.appendChild(docLink);\n",
              "        }\n",
              "      </script>\n",
              "    </div>\n",
              "  </div>\n",
              "  "
            ]
          },
          "metadata": {},
          "execution_count": 7
        }
      ],
      "source": [
        "df = pd.merge(metadata, reviewContent, on=['user_id', 'prod_id', 'date']).merge(productIdMapping, on=['prod_id'])\n",
        "df.head()"
      ]
    },
    {
      "cell_type": "code",
      "execution_count": null,
      "metadata": {
        "id": "idA49fSWq5vQ"
      },
      "outputs": [],
      "source": [
        "# Export to CSV\n",
        "# df.to_csv('merged_data.csv')"
      ]
    },
    {
      "cell_type": "markdown",
      "metadata": {
        "id": "-Z0Ep5dhhsQl"
      },
      "source": [
        "### Examine the dataset\n",
        "\n",
        "*   Check the data type and missing values\n",
        "*   Count the number of 2 review classes ( 1 = Genuine review, -1 = Fake/Spam review)\n",
        "* Check the relationship between reviews labelled as fake and numeric rating\n",
        "* Create wordclouds for the first 50,000 fake and real reviews\n",
        "\n",
        "\n"
      ]
    },
    {
      "cell_type": "code",
      "source": [
        "#Take a look at the first 20 real reviews:\n",
        "pd.set_option('max_colwidth', 400)\n",
        "df.loc[df['label'] == 1]['review'].head(20)"
      ],
      "metadata": {
        "colab": {
          "base_uri": "https://localhost:8080/"
        },
        "id": "Wsa8PP6Z4Rje",
        "outputId": "3537f1c3-93e4-456c-aac8-6842be7d1f78"
      },
      "execution_count": null,
      "outputs": [
        {
          "output_type": "execute_result",
          "data": {
            "text/plain": [
              "7       Extremely slow kitchen. I went with an hour to eat before my shift and told the server that information as well. I got canned fruit and an omelette over 45 minutes later. I boxed it and left. About 2 weeks later I was waiting for quick hem and asked for the fastest thing they could make, bagel and cream cheese was the answer. That took over 15 minutes. Don't come here with any time constraints.\n",
              "8     I really wanted to love toast. It's quaint and cozy, and it was a perfect place to hop on a call while on my layover in Philadelphia. I figured I'd get a latte and some food while there. The latte was upwards of $4 for a small. I also ordered a turkey sausage grilled cheese, which I believe was around $10. We sat down and availed ourselves to the free wifi (great perk) while waiting for our fo...\n",
              "9     First brunch experience here in Philly (actually in my entire life), and oh man, I can see why now brunch is such a thing. My friends and I initially planned on Green Eggs Café, but because we would have had to wait 45 minutes for a table, we came here instead. Not only did the waitress seat us quickly, but the place also provided a very toasty ambience. (No pun intended.) I ordered a plate of...\n",
              "10    Coffee is great and I live close so it's convenient! I've been here a handful of times but only eaten there twice. Their homemade English muffins are delish! I had mine with some jam. I've also had their avocado toast. It's poached eggs on homemade bread and alfalfa sprouts with plenty of avocado on the side. It comes with a side salad as well. It's really good but heavy on the alfalfa sprouts...\n",
              "11    My family and I found this hidden gem while we were looking for a place to park and get some breakfast after traveling all day. We loved everything! The space is cute. The food was amazing! The juice and coffee were nice and fresh! We were impressed with Alex, the guy who took our order at the counter, delivered our food to our table, he also cleared other tables and seem to keep the line at t...\n",
              "12    So many great things to say about this place . They are open early!! That's the first draw if you need to get some work done before your day starts. They have great drinks and the food is really good too. Plenty of space sit with huge windows so you can look outside as you work. Perfect ambience with light music that is soothing and not distracting. The staff was incredibly friendly and respon...\n",
              "13    .. I wanted to love this place... I stopped by for brunch as i found it while roaming. I was excited for the omelette of the day but did not receive it. The staff was friendly, the tea was good. The omelette was just not tasty. Not sure if it was lack of technique of cooking or lack of seasoning but the spinach tasted really bad. Food: 2/5 Service: 4/5 Location; 4/5 - Super cure place. Nice an...\n",
              "14                                                                                                                                                                                                                                          The coffee is just better hear than all of the options in the area, I now actually walk out of my way to just get my iced lattes here. The food is pretty darn tasty too.\n",
              "15                                                                                               Toast was very good for breakfast when you want something hearty but not to filling. There egg toast (pretty much eggs Benedict) is very good and they have it in many different forms. I had the egg toast with avocado and my wife had the one with salmon. I'm not a huge fish guy but she said it was very good.\n",
              "16                                                                                                                                                                                                                                                                                                                                    Great Location, Love the vibe, food and love the service, highly recommended!!!\n",
              "17    Toast is a comfortable and artistic environment with good food and very affordable prices. You can spend under $5 on a home made English muffin and coffee or go for a larger plate for under $15. My chia tea was brewed on site instead of from a mix (hooray!) and exceptionally creamy. My truffled egg sandwich was just the right portion and had fresh salad on the side with strawberries. They have...\n",
              "18    I stopped into Toast on my way to work to use my pc  and decided to try  the eggs benedict  as i was hungry and had some time to kill....What a surprise !This was by far the very best EB\"'s  I've had in this city so far. They use real baked  ham and have a wonderful salad rather than the usual home fries as the side..  Ive been back many times since then and have not been disappointed yet.  A+...\n",
              "19    Toast is ok. My goat cheese, tomato and spinach omelet was actually pretty good and the coffee was pretty good too. I had the hummus plate and the hummus was pretty good. But it's kind of expensive and although it's pretty good it's not great. Which is the whole thing. It's fine. There's nothing wrong with it but it's just not exciting in any way. I was kind of pissed that they wouldn't make m...\n",
              "20                                                                                                                                                                                                                          Really didn't see any vegan items on the menu. Soy milk wasn't even listed as an option on the board. I got a decent soy cappuccino but I have had better. I don't need to go here again.\n",
              "21                                                                                                                                                                                                                                                                                                                                                                                                 The Toast of town!\n",
              "22                                                                                                                                                                                                                                                                                         NOISE! Good food, OK coffee, moderate price but much too noisy from a terrible heating/AC system to enjoy a peaceful meal.\n",
              "23    Fantastic time at Toast! The omelet of the day had spinach, goat cheese and Capri tomatoes--Yum! Spritzers were fab and the perfect quencher for a warm day. I also had a bowl of fresh fruit and unlike some cafés the fruit was FRESH! It hadn't been in the fridge dying an icy death but perfect strawberries, blueberries, blackberries and banana. My kids (3 x 13y + 1(24y) 1 gal pal (13y)) ate ever...\n",
              "24    I would give toast 3.5 stars, but it is not an option, so I'll round up to 4.  The food is pretty good, although very basic. Their menu doesn't have tons of options. The place fills up quickly on weekends, but if you come here during a weekday afternoon you can study or get some work done.  I felt that their french toast tasted kind of plain and they didn't have scrambled eggs on the menu (at ...\n",
              "25                                                                  Solid little tea selection here, plus they carry sip n' glo juices (they are expensive, but good)!  The hours are very convenient, too (Monday to Friday 7-7 and Saturday/Sunday 8-6).  The hummus wrap looked delightful, but sadly, I wasn't hungry enough when I stopped in.  I will definitely be back to try it and will update accordingly!\n",
              "26    Toast has the potential to be amazing - the food was excellent as was the coffee, but the service is lacking. Came here with two of my friends for brunch on a Sunday. We were seated immediately and though our host wasn't friendly, he wasn't rude either. I'm a hostess though and he could've done A LOT better. Anyway, my friends ordered lattes and I ordered a double shot of espresso. It took 20 ...\n",
              "Name: review, dtype: object"
            ]
          },
          "metadata": {},
          "execution_count": 16
        }
      ]
    },
    {
      "cell_type": "code",
      "source": [
        "#Take a look at the first 20 real reviews:\n",
        "pd.set_option('max_colwidth', 400)\n",
        "df.loc[df['label'] == -1]['review'].head(20)"
      ],
      "metadata": {
        "colab": {
          "base_uri": "https://localhost:8080/"
        },
        "id": "XKN_d0LL6zBt",
        "outputId": "e307015c-4c72-4c0e-941e-c60aea39669d"
      },
      "execution_count": null,
      "outputs": [
        {
          "output_type": "execute_result",
          "data": {
            "text/plain": [
              "0                                                                                                                                                                                                                          Drinks were bad, the hot chocolate was watered down and the latte had a burnt taste to it. The food was also poor quality, but the service was the worst part, their cashier was very rude.\n",
              "1      This was the worst experience I've ever had a casual coffee/light fare place.  The server disappeared for 20 minutes, just talking to his friend by the window as my girlfriend and I sat dumbfounded that this dude had the nerve to do that on the job.  We're trying to make eye contact, but clearly getting paid to talk to his bud was more important to him. My girlfriend went up to the counter onc...\n",
              "2                                                                                                                                                    This is located on the site of the old Spruce St. Video.  The mild cofee is very good and the pastris are great.  At times, the service is slow even when it is not busy and at other times some patrons receive a complimentary mimosa drink.  The WIFI is good.\n",
              "3      I enjoyed coffee and breakfast twice at Toast during my recent visit to Philly. The first morning I enjoyed the Omelette du Jour which had a savory filling of roast tomato, portobello, artichoke, goat cheese, and wilted spinach. It was accompanied by a crisp small side salad of baby greens, tomato, and berries. The house dressing was light and complementary, not at all over powering. I just HA...\n",
              "4      I love Toast! The food choices are fantastic - I love that they serve brunch all day, and their coffee is well brewed and prepared. I'm a fan of the large windows - it's the perfect location to sit and people watch for a little while. Nestled in Center City, Toast provides people like me who travel into the city for work a little haven to de-stress and kick back a little bit. The staff is wond...\n",
              "5      The egg on an English muffin (their take on eggs Benedict) was fantastic. Service was quick and pleasant. They have multiple roasters providing their coffee and the barista knew how to make a good cup. They have a La Marzocco Strada for espresso and then you can choose between a Chemex, French Press, or Fetco for filter coffee. There was plenty of seating, it's well lot, and comfortable. Free ...\n",
              "6                                                                                                                                                                                                                 wonderful relaxed vibe and fantastic homemade English muffins. best Earl Grey tea in Center City.....looking forward to the outdoor seating in the Spring. friendly and helpful staff are a delight!\n",
              "88                                                                 well if that picture of mimi m.\"pigging out \" above isn't enough to ruin your appetite the food will  . it tastes like R&L  frozen crap , when you change things be aware that a lot of people will notice ...the pizza is ok but used to be better ,  . the pizza is about the only thing edible.    mimi please no more pics while your eating  !\n",
              "89                                                                                                                                                                                                                                                                                                                                                                                 racist rock bar typical bayonne bar\n",
              "90                                                                                                                        This place is truly terrible ....as a boy growing up I enjoyed there food specially there buffalo wings now the food is just nasty.....maybe they hired a different cook or something but they need to invest in a new cook or something .....food was nowhere near as good as it use to be.\n",
              "91     HORRIBLE SERVICE!!!!! I tried taking my teenage daughter there last summer to celebrate her winning a cheerleading competetion. We were immediatly seated & told our server would be right with us.We waited almost 10min. & a (I assume) manager asked if we were ok. I told her we were dying of thirst! She asked us what we would like then walked to a server & told her what to get us. The server tha...\n",
              "92                                                                                                                                                                                                                                                                                                                                                               pizza is alright but the other food is pretty tough .\n",
              "93                                                                                                                                                                                                                                                                                                                                                                                    Try the thin pizza, best around!\n",
              "94                                                                                                                                                                                                                                                         I love their thin pizza and thier grilled chicken salad - not to mention their french onion soup.  A really fun place, fresh food, and great entertainment.\n",
              "95                                                                                                                                                                                                                                                       Just moved into area from Florida what a great find. Sports lounge, pool table, free WiFi, great bartender( Stacy ) just a short walk away from home Great!!!\n",
              "96     This place is one of my favorite bars in New Jersey to go and have a drink. They always have a good beer selection and the bartenders are cool with you if they have seen you a few times and will take care of you. It's a great place to watch sporting events of any type, and it's got a really nice outdoor tiki lounge to chill out in the summer. The clientele is definitely colorful but that's wha...\n",
              "97     The bar side is great tvs everywhere, outsides a nice feature, food is amazing Specially after 3 drinks, this is the bar to be at in bayonne. Convenient, a nice pool table for a good time with your friends. Also the servers are on par, and if u go ask for chris. He\"s an upcoming comedian.  Also ask for kim she's hotttt. And of course your drink is never empty, what more would u want from a spo...\n",
              "98                    Probably the best pizza you will find in town.  If you are going to the Big Apple, you have to try their famous thin crust Pizza, its the best around.  Toni and Vin run a great Sports Bar and the restaurant next to it is equally well run.  The service is always fast and the food is always served hot.  I have been there with my family several times and we always enjoy the big apple.\n",
              "113    VEGETARIANS BEWARE!!!!!!!!!! My boyfriend and I are regulars to the State Street location and usually very satisfied.  They are fast, reasonably priced and good.  But tonight we had one of the worst experiences ever. We ordered our usual, which is vegetable chimichangas with everything (meaning rice, black beans, guac and pico de gallo) hot sauce and sour cream and beef chimichangas with every...\n",
              "114    We went to La Carreta for lunch but it was closed. So we went there again for dinner, and fortunately, after a long trudge, we finally sat around a table. The restaurant is located in a residential area, quiet and peaceful, with an obscure deep green signboard. It was not convenient to get there, and there were few customers in (to be more exact, zero before we entered). The environment had no...\n",
              "Name: review, dtype: object"
            ]
          },
          "metadata": {},
          "execution_count": 18
        }
      ]
    },
    {
      "cell_type": "markdown",
      "source": [
        "#### Check the datatype and missing values"
      ],
      "metadata": {
        "id": "yn_u4F72-X2m"
      }
    },
    {
      "cell_type": "code",
      "execution_count": null,
      "metadata": {
        "colab": {
          "base_uri": "https://localhost:8080/"
        },
        "id": "NvfQ1MzggOVg",
        "outputId": "8e0b4155-8e23-4a65-eb7f-85bc8e40f366"
      },
      "outputs": [
        {
          "output_type": "execute_result",
          "data": {
            "text/plain": [
              "user_id        int64\n",
              "prod_id        int64\n",
              "rating       float64\n",
              "label          int64\n",
              "date          object\n",
              "review        object\n",
              "prod_name     object\n",
              "dtype: object"
            ]
          },
          "metadata": {},
          "execution_count": 8
        }
      ],
      "source": [
        "#Check datatype:\n",
        "df.dtypes"
      ]
    },
    {
      "cell_type": "code",
      "execution_count": null,
      "metadata": {
        "colab": {
          "base_uri": "https://localhost:8080/"
        },
        "id": "tAgkEuVhsKsQ",
        "outputId": "12c9ce90-ec1c-4cdb-e7b7-7d6694a43580"
      },
      "outputs": [
        {
          "output_type": "stream",
          "name": "stdout",
          "text": [
            " \n",
            "Total NaN at each column: \n",
            " user_id      0\n",
            "prod_id      0\n",
            "rating       0\n",
            "label        0\n",
            "date         0\n",
            "review       0\n",
            "prod_name    0\n",
            "dtype: int64\n"
          ]
        }
      ],
      "source": [
        "#Count number of missing values:\n",
        "print(\" \\nTotal NaN at each column: \\n\", df.isnull().sum())"
      ]
    },
    {
      "cell_type": "markdown",
      "source": [
        "#### Calculate numbers of reviews and reviewers"
      ],
      "metadata": {
        "id": "n59zhq40-iZ8"
      }
    },
    {
      "cell_type": "code",
      "execution_count": null,
      "metadata": {
        "colab": {
          "base_uri": "https://localhost:8080/",
          "height": 386
        },
        "id": "UUgv4kv7FesP",
        "outputId": "5b00f24c-612a-4883-a992-2c38d930f170"
      },
      "outputs": [
        {
          "output_type": "stream",
          "name": "stdout",
          "text": [
            "Number of reviews in the dataset:  608458\n",
            "Number of fake and real reviews:\n",
            "label\n",
            "-1     80439\n",
            " 1    528019\n",
            "dtype: int64\n"
          ]
        },
        {
          "output_type": "execute_result",
          "data": {
            "text/plain": [
              "<matplotlib.axes._subplots.AxesSubplot at 0x7faf8eea70d0>"
            ]
          },
          "metadata": {},
          "execution_count": 11
        },
        {
          "output_type": "display_data",
          "data": {
            "text/plain": [
              "<Figure size 432x288 with 1 Axes>"
            ],
            "image/png": "[encoded data removed]"
          },
          "metadata": {}
        }
      ],
      "source": [
        "#Number of reviews:\n",
        "print(\"Number of reviews in the dataset: \", df['review'].count())\n",
        "\n",
        "#Count the reviews of 2 classes (Genuine/Fake)\n",
        "print('Number of fake and real reviews:')\n",
        "print(df.groupby('label').size())\n",
        "\n",
        "#Create pie chart\n",
        "import matplotlib.pyplot as plt\n",
        "df.groupby('label').size().plot(kind='pie', autopct='%1.0f%%',\n",
        "                                colors = ['red', 'pink', 'steelblue'],\n",
        "                                title='Percentages of real and fake reviews')"
      ]
    },
    {
      "cell_type": "code",
      "execution_count": null,
      "metadata": {
        "colab": {
          "base_uri": "https://localhost:8080/"
        },
        "id": "MHQPPTAoeFE9",
        "outputId": "c654928c-67a2-49bb-868b-708b1a5dbdaf"
      },
      "outputs": [
        {
          "output_type": "stream",
          "name": "stdout",
          "text": [
            "Number of fake reviews with rating < 3:  17760\n",
            "Number of fake reviews with rating > 3:  56344\n"
          ]
        }
      ],
      "source": [
        "print(\"Number of fake reviews with rating < 3: \", len(df[(df['label'] == -1) & (df['rating'] < 3)]))\n",
        "print(\"Number of fake reviews with rating > 3: \",len(df[(df['label'] == -1) & (df['rating'] > 3)]))"
      ]
    },
    {
      "cell_type": "code",
      "execution_count": null,
      "metadata": {
        "colab": {
          "base_uri": "https://localhost:8080/",
          "height": 285
        },
        "id": "1auCAMwrtGLf",
        "outputId": "77e506ed-b07a-442b-b27a-032d60eb2821"
      },
      "outputs": [
        {
          "output_type": "display_data",
          "data": {
            "text/plain": [
              "<Figure size 432x288 with 1 Axes>"
            ],
            "image/png": "[encoded data removed]"
          },
          "metadata": {}
        }
      ],
      "source": [
        "import seaborn as sns\n",
        "\n",
        "sns.set_theme(style=\"darkgrid\")\n",
        "ax = sns.countplot(x=\"rating\", hue=\"label\", data=df)"
      ]
    },
    {
      "cell_type": "code",
      "source": [
        "#Number of reviewers:\n",
        "print(\"Number of reviewers in the dataset: \", df['user_id'].nunique())\n",
        "\n",
        "#Number of reviewers who wrote fake reviews:\n",
        "print(\"Number of fake review authors in the dataset: \", df.query('label == -1')['user_id'].nunique())\n",
        "print(\"Number of real review authors in the dataset: \", df.query('label == 1')['user_id'].nunique())\n",
        "print(\"Number of reviewers that write only genuine reviews in the dataset: \", df['user_id'].nunique() - df.query('label == -1')['user_id'].nunique())\n",
        "print(\"Number of reviewers that write both fake and real reviews in the dataset: \", df.query('label == 1')['user_id'].nunique() +\n",
        "      df.query('label == -1')['user_id'].nunique() - \n",
        "      df['user_id'].nunique())\n",
        "\n",
        "df.groupby(['label'])['user_id'].nunique().plot(kind='pie', autopct='%1.0f%%',\n",
        "                                colors = ['orange', 'pink', 'steelblue'],\n",
        "                                title='Percentages of reviewers that write fake and real reviews')"
      ],
      "metadata": {
        "colab": {
          "base_uri": "https://localhost:8080/",
          "height": 368
        },
        "id": "TU58DvrzzXeI",
        "outputId": "6a1624eb-5f06-4d68-cec4-6959fd1ef57b"
      },
      "execution_count": null,
      "outputs": [
        {
          "output_type": "stream",
          "name": "stdout",
          "text": [
            "Number of reviewers in the dataset:  260239\n",
            "Number of fake review authors in the dataset:  62214\n",
            "Number of real review authors in the dataset:  200146\n",
            "Number of reviewers that write only genuine reviews in the dataset:  198025\n",
            "Number of reviewers that write both fake and real reviews in the dataset:  2121\n"
          ]
        },
        {
          "output_type": "execute_result",
          "data": {
            "text/plain": [
              "<matplotlib.axes._subplots.AxesSubplot at 0x7fe10a3a0490>"
            ]
          },
          "metadata": {},
          "execution_count": 88
        },
        {
          "output_type": "display_data",
          "data": {
            "text/plain": [
              "<Figure size 432x288 with 1 Axes>"
            ],
            "image/png": "[encoded data removed]"
          },
          "metadata": {}
        }
      ]
    },
    {
      "cell_type": "code",
      "source": [
        "#Number of products that have real and fake reviews:\n",
        "print(\"Number of products in the dataset: \", df['prod_id'].nunique())\n",
        "print(\"Number of products with fake reviews in the dataset: \", df.query('label == -1')['prod_id'].nunique())\n",
        "print(\"Number of products with only real reviews in the dataset: \", df['prod_id'].nunique() - df.query('label == -1')['prod_id'].nunique())"
      ],
      "metadata": {
        "colab": {
          "base_uri": "https://localhost:8080/"
        },
        "id": "Ca_ZdWKF-sTO",
        "outputId": "7576b862-9718-46db-fc1f-e93cd92b315e"
      },
      "execution_count": null,
      "outputs": [
        {
          "output_type": "stream",
          "name": "stdout",
          "text": [
            "Number of products in the dataset:  5044\n",
            "Number of products with fake reviews in the dataset:  4336\n",
            "Number of products with only real reviews in the dataset:  708\n"
          ]
        }
      ]
    },
    {
      "cell_type": "markdown",
      "source": [
        "#### Create wordcloud for real reviews and fake reviews:"
      ],
      "metadata": {
        "id": "TSdk2Mxe98BF"
      }
    },
    {
      "cell_type": "code",
      "execution_count": null,
      "metadata": {
        "id": "AHlrcn0785QS"
      },
      "outputs": [],
      "source": [
        "from os import path\n",
        "from PIL import Image\n",
        "from wordcloud import WordCloud, STOPWORDS, ImageColorGenerator"
      ]
    },
    {
      "cell_type": "code",
      "execution_count": null,
      "metadata": {
        "colab": {
          "base_uri": "https://localhost:8080/"
        },
        "id": "kUUoMRXU7mQC",
        "outputId": "b724450a-031b-456c-bd3e-efa7e5cd4f37"
      },
      "outputs": [
        {
          "output_type": "stream",
          "name": "stdout",
          "text": [
            "There are 86132037 words in the combination of all genuine reviews.\n",
            "There are 38222925 words in the combination of all fake reviews.\n"
          ]
        }
      ],
      "source": [
        "real_text = \" \".join(review for review in df[(df.label == 1)].review.head(100000))\n",
        "print (\"There are {} words in the combination of all genuine reviews.\".format(len(real_text)))\n",
        "\n",
        "fake_text = \" \".join(review for review in df[(df.label == -1)].review)\n",
        "print (\"There are {} words in the combination of all fake reviews.\".format(len(fake_text)))"
      ]
    },
    {
      "cell_type": "code",
      "execution_count": null,
      "metadata": {
        "colab": {
          "base_uri": "https://localhost:8080/",
          "height": 198
        },
        "id": "LQb3n__x8auO",
        "outputId": "7192b837-fa8a-42d8-d6c3-d304425e3364"
      },
      "outputs": [
        {
          "output_type": "display_data",
          "data": {
            "text/plain": [
              "<Figure size 432x288 with 1 Axes>"
            ],
            "image/png": "[encoded data removed]"
          },
          "metadata": {}
        }
      ],
      "source": [
        "# Create stopword list:\n",
        "stopwords = set(STOPWORDS)\n",
        "\n",
        "# Generate a word cloud image for genuine reviews\n",
        "realReview_wordcloud = WordCloud(stopwords=stopwords, background_color=\"white\").generate(real_text)\n",
        "\n",
        "# Display the generated image:\n",
        "# the matplotlib way:\n",
        "plt.imshow(realReview_wordcloud, interpolation='bilinear')\n",
        "plt.axis(\"off\")\n",
        "plt.show()"
      ]
    },
    {
      "cell_type": "code",
      "execution_count": null,
      "metadata": {
        "colab": {
          "base_uri": "https://localhost:8080/",
          "height": 198
        },
        "id": "-34G1rGU90i6",
        "outputId": "135c4de8-284b-4d5f-f1cb-71cebfdf7aa3"
      },
      "outputs": [
        {
          "output_type": "display_data",
          "data": {
            "text/plain": [
              "<Figure size 432x288 with 1 Axes>"
            ],
            "image/png": "[encoded data removed]"
          },
          "metadata": {}
        }
      ],
      "source": [
        "# Generate a word cloud image for fake reviews\n",
        "fakeReview_wordcloud = WordCloud(stopwords=stopwords, background_color=\"black\").generate(fake_text)\n",
        "\n",
        "# Display the generated image:\n",
        "# the matplotlib way:\n",
        "plt.imshow(fakeReview_wordcloud, interpolation='bilinear')\n",
        "plt.axis(\"off\")\n",
        "plt.show()"
      ]
    },
    {
      "cell_type": "markdown",
      "metadata": {
        "id": "RaXsEY2WjYzD"
      },
      "source": [
        "## (2) Features Extraction\n",
        "\n"
      ]
    },
    {
      "cell_type": "markdown",
      "metadata": {
        "id": "8R4ftJztjhQD"
      },
      "source": [
        "### Behavioral Features (reviewer features)\n",
        "These are features related to reviewer behavior. They are calculated based on all the reviews that each user has written, not on a specific review. Therefore, to extract these features, a new dataframe will be created with each row corresponding to a particular reviewer. These features are then added to the original dataset.\n",
        "\n",
        "Each feature will be accompanied by a description. Differences in construction and calculation between this document and the original study will also be addressed."
      ]
    },
    {
      "cell_type": "markdown",
      "metadata": {
        "id": "LcPrL8tYnlfE"
      },
      "source": [
        "#### a. Review Count (RC):\n",
        "\n",
        "The feature calculates the number of reviews that each author has posted in the dataset."
      ]
    },
    {
      "cell_type": "code",
      "execution_count": null,
      "metadata": {
        "colab": {
          "base_uri": "https://localhost:8080/"
        },
        "id": "_U6kSYJMJ8W3",
        "outputId": "2b834046-cdbe-4095-c2e9-c2f796c67e52"
      },
      "outputs": [
        {
          "output_type": "stream",
          "name": "stdout",
          "text": [
            "   user_id  reviewCount\n",
            "0     8367          197\n",
            "1     9501          185\n",
            "2     7871          178\n",
            "3     8225          159\n",
            "4    10934          155\n"
          ]
        }
      ],
      "source": [
        "#REVIEW COUNT (RC)\n",
        "# find out the number of reviews written by the authors\n",
        "\n",
        "#Create a new dataframe with reviewerID and a count column:\n",
        "pd.set_option('max_colwidth', 50)\n",
        "reviewerdf = df['user_id'].value_counts().to_frame('reviewCount').rename_axis('user_id').reset_index()\n",
        "print(reviewerdf.head())"
      ]
    },
    {
      "cell_type": "code",
      "source": [
        "reviewerdf['reviewCount'].sum()"
      ],
      "metadata": {
        "colab": {
          "base_uri": "https://localhost:8080/"
        },
        "id": "zUJbBNkxyYWU",
        "outputId": "3c1d3780-8ef7-4620-b5df-1f5574ec92d1"
      },
      "execution_count": null,
      "outputs": [
        {
          "output_type": "execute_result",
          "data": {
            "text/plain": [
              "608458"
            ]
          },
          "metadata": {},
          "execution_count": 31
        }
      ]
    },
    {
      "cell_type": "markdown",
      "metadata": {
        "id": "x6nSkv-kpCAb"
      },
      "source": [
        "#### b. Activity Window (AW)\n",
        "calculates the difference between the timestamps of the first and last reviews of an author"
      ]
    },
    {
      "cell_type": "code",
      "execution_count": null,
      "metadata": {
        "colab": {
          "base_uri": "https://localhost:8080/"
        },
        "id": "65QkkdhSDqiw",
        "outputId": "11347482-f721-4620-c4c9-fa8c23dcdd11"
      },
      "outputs": [
        {
          "output_type": "stream",
          "name": "stdout",
          "text": [
            "   user_id  prod_id  rating  label       date  \\\n",
            "0     5044        0     1.0     -1 2014-11-16   \n",
            "1     5045        0     1.0     -1 2014-09-08   \n",
            "2     5046        0     3.0     -1 2013-10-06   \n",
            "3     5047        0     5.0     -1 2014-11-30   \n",
            "4     5048        0     5.0     -1 2014-08-28   \n",
            "\n",
            "                                              review prod_name  \n",
            "0  Drinks were bad, the hot chocolate was watered...     Toast  \n",
            "1  This was the worst experience I've ever had a ...     Toast  \n",
            "2  This is located on the site of the old Spruce ...     Toast  \n",
            "3  I enjoyed coffee and breakfast twice at Toast ...     Toast  \n",
            "4  I love Toast! The food choices are fantastic -...     Toast  \n"
          ]
        }
      ],
      "source": [
        "df[\"date\"]= pd.to_datetime(df[\"date\"])\n",
        "print(df.head())"
      ]
    },
    {
      "cell_type": "code",
      "execution_count": null,
      "metadata": {
        "colab": {
          "base_uri": "https://localhost:8080/"
        },
        "id": "UhYB2NZ7X5ob",
        "outputId": "eeac7e5c-4d6e-4110-9415-5fcb5480493d"
      },
      "outputs": [
        {
          "output_type": "stream",
          "name": "stdout",
          "text": [
            "   user_id  reviewCount   firstDay    lastDay  daysInSystem\n",
            "0     8367          197 2014-11-16 2014-11-16             0\n",
            "1     9501          185 2014-09-08 2014-09-08             0\n",
            "2     7871          178 2013-10-01 2013-11-02            32\n",
            "3     8225          159 2014-11-30 2014-11-30             0\n",
            "4    10934          155 2014-08-28 2014-08-28             0\n"
          ]
        }
      ],
      "source": [
        "#ACTIVITY WINDOW (AW)\n",
        "#calculates the difference between the timestamps of the first and last reviews of an author\n",
        "reviewerdf['firstDay'] = df.groupby('user_id')[\"date\"].transform('min')\n",
        "reviewerdf['lastDay'] = df.groupby('user_id')[\"date\"].transform('max')\n",
        "reviewerdf['daysInSystem'] = (reviewerdf['lastDay'] - reviewerdf['firstDay']).dt.days\n",
        "print(reviewerdf.head())"
      ]
    },
    {
      "cell_type": "code",
      "execution_count": null,
      "metadata": {
        "colab": {
          "base_uri": "https://localhost:8080/"
        },
        "id": "W250SKDmwJhX",
        "outputId": "78e5a66d-472f-44f2-d5ca-8be337832736"
      },
      "outputs": [
        {
          "output_type": "stream",
          "name": "stdout",
          "text": [
            "   user_id  prod_id  rating  label       date  \\\n",
            "0     8367     3889     4.0      1 2013-01-23   \n",
            "1     8367     2857     4.0      1 2011-02-23   \n",
            "2     8367       46     4.0      1 2013-05-20   \n",
            "3     8367       57     3.0      1 2011-01-30   \n",
            "4     8367      113     3.0      1 2011-05-25   \n",
            "\n",
            "                                              review             prod_name  \\\n",
            "0  I had a hankering for Thai and Jasmine Rice wa...          Jasmine Rice   \n",
            "1  Knock fills the much-needed niche of the class...                 Knock   \n",
            "2  So a pitcher of margaritas will set you back f...       Las Bugambilias   \n",
            "3  In all honesty, I really do like Continental M...  Continental Mid-town   \n",
            "4  Everyone always told me how much better Vietna...    Vietnam Restaurant   \n",
            "\n",
            "   reviewCount  daysInSystem  \n",
            "0          197             0  \n",
            "1          197             0  \n",
            "2          197             0  \n",
            "3          197             0  \n",
            "4          197             0  \n"
          ]
        }
      ],
      "source": [
        "#Adding features from reviewerdf into df\n",
        "df = df.merge(reviewerdf[['user_id','reviewCount','daysInSystem']], on='user_id', how='right')\n",
        "\n",
        "print(df.head())"
      ]
    },
    {
      "cell_type": "markdown",
      "source": [
        "#### c. Number of Positive Ratings (PR)"
      ],
      "metadata": {
        "id": "HthQ85B4tAd-"
      }
    },
    {
      "cell_type": "code",
      "execution_count": null,
      "metadata": {
        "colab": {
          "base_uri": "https://localhost:8080/"
        },
        "id": "2rNXUEzF909p",
        "outputId": "52df6210-c168-4379-a667-54386a03001b"
      },
      "outputs": [
        {
          "output_type": "stream",
          "name": "stdout",
          "text": [
            "   user_id  prod_id  rating  label       date  \\\n",
            "0     8367     3889     4.0      1 2013-01-23   \n",
            "1     8367     2857     4.0      1 2011-02-23   \n",
            "2     8367       46     4.0      1 2013-05-20   \n",
            "3     8367       57     3.0      1 2011-01-30   \n",
            "4     8367      113     3.0      1 2011-05-25   \n",
            "\n",
            "                                              review             prod_name  \\\n",
            "0  I had a hankering for Thai and Jasmine Rice wa...          Jasmine Rice   \n",
            "1  Knock fills the much-needed niche of the class...                 Knock   \n",
            "2  So a pitcher of margaritas will set you back f...       Las Bugambilias   \n",
            "3  In all honesty, I really do like Continental M...  Continental Mid-town   \n",
            "4  Everyone always told me how much better Vietna...    Vietnam Restaurant   \n",
            "\n",
            "   reviewCount  daysInSystem     PR  \n",
            "0          197             0  148.0  \n",
            "1          197             0  148.0  \n",
            "2          197             0  148.0  \n",
            "3          197             0  148.0  \n",
            "4          197             0  148.0  \n"
          ]
        }
      ],
      "source": [
        "# THE NUMBER OF POSITIVE REVIEWS (PR)\n",
        "# approach calculates the percentage of positive reviews (reviews with 4 and 5 ratings) by an author\n",
        "\n",
        "df['PR']=df[df['rating'] > 3].groupby('user_id')['rating'].count().reindex(df.user_id).values\n",
        "\n",
        "print(df.head())"
      ]
    },
    {
      "cell_type": "markdown",
      "source": [
        "#### d. Number of Negative ratings (NR)"
      ],
      "metadata": {
        "id": "PKVa6dR3tLyF"
      }
    },
    {
      "cell_type": "code",
      "execution_count": null,
      "metadata": {
        "colab": {
          "base_uri": "https://localhost:8080/"
        },
        "id": "nMtx8aihcSzJ",
        "outputId": "119381d2-f5c4-4329-a4db-f0603c71083c"
      },
      "outputs": [
        {
          "output_type": "stream",
          "name": "stdout",
          "text": [
            "   user_id  prod_id  rating  label       date  \\\n",
            "0     8367     3889     4.0      1 2013-01-23   \n",
            "1     8367     2857     4.0      1 2011-02-23   \n",
            "2     8367       46     4.0      1 2013-05-20   \n",
            "3     8367       57     3.0      1 2011-01-30   \n",
            "4     8367      113     3.0      1 2011-05-25   \n",
            "\n",
            "                                              review             prod_name  \\\n",
            "0  I had a hankering for Thai and Jasmine Rice wa...          Jasmine Rice   \n",
            "1  Knock fills the much-needed niche of the class...                 Knock   \n",
            "2  So a pitcher of margaritas will set you back f...       Las Bugambilias   \n",
            "3  In all honesty, I really do like Continental M...  Continental Mid-town   \n",
            "4  Everyone always told me how much better Vietna...    Vietnam Restaurant   \n",
            "\n",
            "   reviewCount  daysInSystem     PR    NR  \n",
            "0          197             0  148.0  12.0  \n",
            "1          197             0  148.0  12.0  \n",
            "2          197             0  148.0  12.0  \n",
            "3          197             0  148.0  12.0  \n",
            "4          197             0  148.0  12.0  \n"
          ]
        }
      ],
      "source": [
        "# NUMBER OF NEGATIVE RATING (NR)\n",
        "df['NR']=df[df['rating'] < 3].groupby('user_id')['rating'].count().reindex(df.user_id).values\n",
        "print(df.head())"
      ]
    },
    {
      "cell_type": "markdown",
      "source": [
        "#### e. Mean Product Rating (MPR)"
      ],
      "metadata": {
        "id": "LlLX3fIqtdTA"
      }
    },
    {
      "cell_type": "code",
      "source": [
        "# MEAN PRODUCT RATING (MPR)\n",
        "df['MPR']=df.groupby('prod_id')['rating'].mean().reindex(df.prod_id).values\n",
        "print(df.head())"
      ],
      "metadata": {
        "colab": {
          "base_uri": "https://localhost:8080/"
        },
        "id": "h1ykOsQeO5oW",
        "outputId": "0ede0cab-7b45-45c7-dc12-9715485eed5d"
      },
      "execution_count": null,
      "outputs": [
        {
          "output_type": "stream",
          "name": "stdout",
          "text": [
            "   user_id  prod_id  rating  label       date  \\\n",
            "0     8367     3889     4.0      1 2013-01-23   \n",
            "1     8367     2857     4.0      1 2011-02-23   \n",
            "2     8367       46     4.0      1 2013-05-20   \n",
            "3     8367       57     3.0      1 2011-01-30   \n",
            "4     8367      113     3.0      1 2011-05-25   \n",
            "\n",
            "                                              review             prod_name  \\\n",
            "0  I had a hankering for Thai and Jasmine Rice wa...          Jasmine Rice   \n",
            "1  Knock fills the much-needed niche of the class...                 Knock   \n",
            "2  So a pitcher of margaritas will set you back f...       Las Bugambilias   \n",
            "3  In all honesty, I really do like Continental M...  Continental Mid-town   \n",
            "4  Everyone always told me how much better Vietna...    Vietnam Restaurant   \n",
            "\n",
            "   reviewCount  daysInSystem     PR    NR       MPR  \n",
            "0          197             0  148.0  12.0  3.753731  \n",
            "1          197             0  148.0  12.0  3.561404  \n",
            "2          197             0  148.0  12.0  4.048889  \n",
            "3          197             0  148.0  12.0  3.606776  \n",
            "4          197             0  148.0  12.0  3.742138  \n"
          ]
        }
      ]
    },
    {
      "cell_type": "markdown",
      "metadata": {
        "id": "HAZ1AS-F37bv"
      },
      "source": [
        "#### f. Order of Review (OOR)"
      ]
    },
    {
      "cell_type": "code",
      "execution_count": null,
      "metadata": {
        "colab": {
          "base_uri": "https://localhost:8080/"
        },
        "id": "ilwLfNo8NmEh",
        "outputId": "ddb5503a-751a-499c-bc66-375c3ee1c878"
      },
      "outputs": [
        {
          "output_type": "stream",
          "name": "stdout",
          "text": [
            "   user_id  prod_id  rating  label       date  \\\n",
            "0     8367     3889     4.0      1 2013-01-23   \n",
            "1     8367     2857     4.0      1 2011-02-23   \n",
            "2     8367       46     4.0      1 2013-05-20   \n",
            "3     8367       57     3.0      1 2011-01-30   \n",
            "4     8367      113     3.0      1 2011-05-25   \n",
            "\n",
            "                                              review             prod_name  \\\n",
            "0  I had a hankering for Thai and Jasmine Rice wa...          Jasmine Rice   \n",
            "1  Knock fills the much-needed niche of the class...                 Knock   \n",
            "2  So a pitcher of margaritas will set you back f...       Las Bugambilias   \n",
            "3  In all honesty, I really do like Continental M...  Continental Mid-town   \n",
            "4  Everyone always told me how much better Vietna...    Vietnam Restaurant   \n",
            "\n",
            "   reviewCount  daysInSystem     PR    NR       MPR    RL       RCL   RD  \\\n",
            "0          197             0  148.0  12.0  3.753731   661  0.027231  0.0   \n",
            "1          197             0  148.0  12.0  3.561404   652  0.026074  0.0   \n",
            "2          197             0  148.0  12.0  4.048889   583  0.018868  0.0   \n",
            "3          197             0  148.0  12.0  3.606776  1619  0.027177  0.0   \n",
            "4          197             0  148.0  12.0  3.742138   843  0.018980  0.0   \n",
            "\n",
            "     OOR  \n",
            "0   54.0  \n",
            "1   40.0  \n",
            "2  165.0  \n",
            "3  290.0  \n",
            "4  154.0  \n"
          ]
        }
      ],
      "source": [
        "#ORDER OF REVIEW FOR A PRODUCT (OOR)\n",
        "df[\"OOR\"] = df.groupby(\"prod_id\")[\"date\"].rank(\"dense\", ascending=True)\n",
        "print(df.head())\n"
      ]
    },
    {
      "cell_type": "markdown",
      "metadata": {
        "id": "9xMSkfWJqmuq"
      },
      "source": [
        "### Lingustic Features (review features)"
      ]
    },
    {
      "cell_type": "markdown",
      "metadata": {
        "id": "8jVJnFut2CJ2"
      },
      "source": [
        "#### a. WORD COUNT (WC)"
      ]
    },
    {
      "cell_type": "code",
      "execution_count": null,
      "metadata": {
        "colab": {
          "base_uri": "https://localhost:8080/"
        },
        "id": "dGxta2mIwue-",
        "outputId": "cacd34c1-f9ea-43f1-c122-8d4d8b89daa2"
      },
      "outputs": [
        {
          "output_type": "stream",
          "name": "stdout",
          "text": [
            "   user_id  prod_id  rating  label       date  \\\n",
            "0     8367     3889     4.0      1 2013-01-23   \n",
            "1     8367     2857     4.0      1 2011-02-23   \n",
            "2     8367       46     4.0      1 2013-05-20   \n",
            "3     8367       57     3.0      1 2011-01-30   \n",
            "4     8367      113     3.0      1 2011-05-25   \n",
            "\n",
            "                                              review             prod_name  \\\n",
            "0  I had a hankering for Thai and Jasmine Rice wa...          Jasmine Rice   \n",
            "1  Knock fills the much-needed niche of the class...                 Knock   \n",
            "2  So a pitcher of margaritas will set you back f...       Las Bugambilias   \n",
            "3  In all honesty, I really do like Continental M...  Continental Mid-town   \n",
            "4  Everyone always told me how much better Vietna...    Vietnam Restaurant   \n",
            "\n",
            "   reviewCount  daysInSystem     PR    NR       MPR   RL       RCL   RD  \\\n",
            "0          197             0  148.0  12.0  3.753731  126  0.027231  0.0   \n",
            "1          197             0  148.0  12.0  3.561404  117  0.026074  0.0   \n",
            "2          197             0  148.0  12.0  4.048889  106  0.018868  0.0   \n",
            "3          197             0  148.0  12.0  3.606776  287  0.027177  0.0   \n",
            "4          197             0  148.0  12.0  3.742138  155  0.018980  0.0   \n",
            "\n",
            "     OOR   WC  \n",
            "0   54.0  126  \n",
            "1   40.0  117  \n",
            "2  165.0  106  \n",
            "3  290.0  287  \n",
            "4  154.0  155  \n"
          ]
        }
      ],
      "source": [
        "# WORD COUNT(WC)\n",
        "df['WC'] = df['review'].str.split().apply(len)\n",
        "print(df.head())"
      ]
    },
    {
      "cell_type": "markdown",
      "metadata": {
        "id": "ZH6i4wzz3zVh"
      },
      "source": [
        "#### b. The Ratio of Capital Letters (RCL)"
      ]
    },
    {
      "cell_type": "code",
      "execution_count": null,
      "metadata": {
        "colab": {
          "base_uri": "https://localhost:8080/"
        },
        "id": "ZxYGCkyvzMVn",
        "outputId": "17ddcd6d-66ed-44bb-da94-5a1a1a2c3500"
      },
      "outputs": [
        {
          "output_type": "stream",
          "name": "stdout",
          "text": [
            "   user_id  prod_id  rating  label       date  \\\n",
            "0     8367     3889     4.0      1 2013-01-23   \n",
            "1     8367     2857     4.0      1 2011-02-23   \n",
            "2     8367       46     4.0      1 2013-05-20   \n",
            "3     8367       57     3.0      1 2011-01-30   \n",
            "4     8367      113     3.0      1 2011-05-25   \n",
            "\n",
            "                                              review             prod_name  \\\n",
            "0  I had a hankering for Thai and Jasmine Rice wa...          Jasmine Rice   \n",
            "1  Knock fills the much-needed niche of the class...                 Knock   \n",
            "2  So a pitcher of margaritas will set you back f...       Las Bugambilias   \n",
            "3  In all honesty, I really do like Continental M...  Continental Mid-town   \n",
            "4  Everyone always told me how much better Vietna...    Vietnam Restaurant   \n",
            "\n",
            "   reviewCount  daysInSystem     PR    NR       MPR    RL       RCL  \n",
            "0          197             0  148.0  12.0  3.753731   661  0.027231  \n",
            "1          197             0  148.0  12.0  3.561404   652  0.026074  \n",
            "2          197             0  148.0  12.0  4.048889   583  0.018868  \n",
            "3          197             0  148.0  12.0  3.606776  1619  0.027177  \n",
            "4          197             0  148.0  12.0  3.742138   843  0.018980  \n"
          ]
        }
      ],
      "source": [
        "#THE RATIO OF CAPITAL LETTERS (RCL)\n",
        "df['RCL'] = (df['review'].str.findall(r'[A-Z]').str.len())/df['RL']\n",
        "print(df.head())"
      ]
    },
    {
      "cell_type": "markdown",
      "source": [
        "#### c. The Ratio of Digits (RD)"
      ],
      "metadata": {
        "id": "0XD4Im5XSK2P"
      }
    },
    {
      "cell_type": "code",
      "source": [
        "#THE RATIO OF DIGITS (RD)\n",
        "df['RD'] = (df['review'].str.findall(r'[0-9]').str.len())/df['RL']\n",
        "print(df.head())"
      ],
      "metadata": {
        "colab": {
          "base_uri": "https://localhost:8080/"
        },
        "id": "v0mJ3st_RfAk",
        "outputId": "c985c2f6-becc-480f-b743-9d9de1576f59"
      },
      "execution_count": null,
      "outputs": [
        {
          "output_type": "stream",
          "name": "stdout",
          "text": [
            "   user_id  prod_id  rating  label       date  \\\n",
            "0     8367     3889     4.0      1 2013-01-23   \n",
            "1     8367     2857     4.0      1 2011-02-23   \n",
            "2     8367       46     4.0      1 2013-05-20   \n",
            "3     8367       57     3.0      1 2011-01-30   \n",
            "4     8367      113     3.0      1 2011-05-25   \n",
            "\n",
            "                                              review             prod_name  \\\n",
            "0  I had a hankering for Thai and Jasmine Rice wa...          Jasmine Rice   \n",
            "1  Knock fills the much-needed niche of the class...                 Knock   \n",
            "2  So a pitcher of margaritas will set you back f...       Las Bugambilias   \n",
            "3  In all honesty, I really do like Continental M...  Continental Mid-town   \n",
            "4  Everyone always told me how much better Vietna...    Vietnam Restaurant   \n",
            "\n",
            "   reviewCount  daysInSystem     PR    NR       MPR    RL       RCL   RD  \n",
            "0          197             0  148.0  12.0  3.753731   661  0.027231  0.0  \n",
            "1          197             0  148.0  12.0  3.561404   652  0.026074  0.0  \n",
            "2          197             0  148.0  12.0  4.048889   583  0.018868  0.0  \n",
            "3          197             0  148.0  12.0  3.606776  1619  0.027177  0.0  \n",
            "4          197             0  148.0  12.0  3.742138   843  0.018980  0.0  \n"
          ]
        }
      ]
    },
    {
      "cell_type": "markdown",
      "metadata": {
        "id": "EztkX_ai4DsU"
      },
      "source": [
        "#### d. Sentiment analysis features using VADERS: Compound, neg, neu, pov"
      ]
    },
    {
      "cell_type": "code",
      "source": [
        "import nltk\n",
        "nltk.download('vader_lexicon')\n",
        "from nltk.sentiment.vader import SentimentIntensityAnalyzer\n",
        "\n",
        "analyzer = SentimentIntensityAnalyzer()\n",
        "df['compound'] = [analyzer.polarity_scores(x)['compound'] for x in df['review']]\n",
        "df['neg'] = [analyzer.polarity_scores(x)['neg'] for x in df['review']]\n",
        "df['neu'] = [analyzer.polarity_scores(x)['neu'] for x in df['review']]\n",
        "df['pos'] = [analyzer.polarity_scores(x)['pos'] for x in df['review']]"
      ],
      "metadata": {
        "colab": {
          "base_uri": "https://localhost:8080/"
        },
        "id": "5Tv5jn2BODx2",
        "outputId": "1888b384-8723-4aec-a892-643d7f6dada4"
      },
      "execution_count": null,
      "outputs": [
        {
          "output_type": "stream",
          "name": "stdout",
          "text": [
            "[nltk_data] Downloading package vader_lexicon to /root/nltk_data...\n",
            "[nltk_data]   Package vader_lexicon is already up-to-date!\n"
          ]
        }
      ]
    },
    {
      "cell_type": "code",
      "source": [
        "df.head()"
      ],
      "metadata": {
        "colab": {
          "base_uri": "https://localhost:8080/",
          "height": 699
        },
        "id": "Tcsl85gb44lW",
        "outputId": "5f25b101-2883-4b3d-cdaf-e41f5aa882ba"
      },
      "execution_count": null,
      "outputs": [
        {
          "output_type": "execute_result",
          "data": {
            "text/plain": [
              "   user_id  prod_id  rating  label       date  \\\n",
              "0     8367     3889     4.0      1 2013-01-23   \n",
              "1     8367     2857     4.0      1 2011-02-23   \n",
              "2     8367       46     4.0      1 2013-05-20   \n",
              "3     8367       57     3.0      1 2011-01-30   \n",
              "4     8367      113     3.0      1 2011-05-25   \n",
              "\n",
              "                                              review             prod_name  \\\n",
              "0  I had a hankering for Thai and Jasmine Rice wa...          Jasmine Rice   \n",
              "1  Knock fills the much-needed niche of the class...                 Knock   \n",
              "2  So a pitcher of margaritas will set you back f...       Las Bugambilias   \n",
              "3  In all honesty, I really do like Continental M...  Continental Mid-town   \n",
              "4  Everyone always told me how much better Vietna...    Vietnam Restaurant   \n",
              "\n",
              "   reviewCount  daysInSystem     PR  ...       MPR   RL       RCL   RD    OOR  \\\n",
              "0          197             0  148.0  ...  3.753731  126  0.027231  0.0   54.0   \n",
              "1          197             0  148.0  ...  3.561404  117  0.026074  0.0   40.0   \n",
              "2          197             0  148.0  ...  4.048889  106  0.018868  0.0  165.0   \n",
              "3          197             0  148.0  ...  3.606776  287  0.027177  0.0  290.0   \n",
              "4          197             0  148.0  ...  3.742138  155  0.018980  0.0  154.0   \n",
              "\n",
              "    WC  compound    neg    neu    pos  \n",
              "0  126    0.9199  0.000  0.869  0.131  \n",
              "1  117    0.9647  0.033  0.765  0.201  \n",
              "2  106    0.8858  0.000  0.896  0.104  \n",
              "3  287    0.9270  0.062  0.837  0.101  \n",
              "4  155    0.9926  0.022  0.719  0.259  \n",
              "\n",
              "[5 rows x 21 columns]"
            ],
            "text/html": [
              "\n",
              "  <div id=\"df-6d95f135-a675-42fe-90c4-f7aa78239f69\">\n",
              "    <div class=\"colab-df-container\">\n",
              "      <div>\n",
              "<style scoped>\n",
              "    .dataframe tbody tr th:only-of-type {\n",
              "        vertical-align: middle;\n",
              "    }\n",
              "\n",
              "    .dataframe tbody tr th {\n",
              "        vertical-align: top;\n",
              "    }\n",
              "\n",
              "    .dataframe thead th {\n",
              "        text-align: right;\n",
              "    }\n",
              "</style>\n",
              "<table border=\"1\" class=\"dataframe\">\n",
              "  <thead>\n",
              "    <tr style=\"text-align: right;\">\n",
              "      <th></th>\n",
              "      <th>user_id</th>\n",
              "      <th>prod_id</th>\n",
              "      <th>rating</th>\n",
              "      <th>label</th>\n",
              "      <th>date</th>\n",
              "      <th>review</th>\n",
              "      <th>prod_name</th>\n",
              "      <th>reviewCount</th>\n",
              "      <th>daysInSystem</th>\n",
              "      <th>PR</th>\n",
              "      <th>...</th>\n",
              "      <th>MPR</th>\n",
              "      <th>RL</th>\n",
              "      <th>RCL</th>\n",
              "      <th>RD</th>\n",
              "      <th>OOR</th>\n",
              "      <th>WC</th>\n",
              "      <th>compound</th>\n",
              "      <th>neg</th>\n",
              "      <th>neu</th>\n",
              "      <th>pos</th>\n",
              "    </tr>\n",
              "  </thead>\n",
              "  <tbody>\n",
              "    <tr>\n",
              "      <th>0</th>\n",
              "      <td>8367</td>\n",
              "      <td>3889</td>\n",
              "      <td>4.0</td>\n",
              "      <td>1</td>\n",
              "      <td>2013-01-23</td>\n",
              "      <td>I had a hankering for Thai and Jasmine Rice wa...</td>\n",
              "      <td>Jasmine Rice</td>\n",
              "      <td>197</td>\n",
              "      <td>0</td>\n",
              "      <td>148.0</td>\n",
              "      <td>...</td>\n",
              "      <td>3.753731</td>\n",
              "      <td>126</td>\n",
              "      <td>0.027231</td>\n",
              "      <td>0.0</td>\n",
              "      <td>54.0</td>\n",
              "      <td>126</td>\n",
              "      <td>0.9199</td>\n",
              "      <td>0.000</td>\n",
              "      <td>0.869</td>\n",
              "      <td>0.131</td>\n",
              "    </tr>\n",
              "    <tr>\n",
              "      <th>1</th>\n",
              "      <td>8367</td>\n",
              "      <td>2857</td>\n",
              "      <td>4.0</td>\n",
              "      <td>1</td>\n",
              "      <td>2011-02-23</td>\n",
              "      <td>Knock fills the much-needed niche of the class...</td>\n",
              "      <td>Knock</td>\n",
              "      <td>197</td>\n",
              "      <td>0</td>\n",
              "      <td>148.0</td>\n",
              "      <td>...</td>\n",
              "      <td>3.561404</td>\n",
              "      <td>117</td>\n",
              "      <td>0.026074</td>\n",
              "      <td>0.0</td>\n",
              "      <td>40.0</td>\n",
              "      <td>117</td>\n",
              "      <td>0.9647</td>\n",
              "      <td>0.033</td>\n",
              "      <td>0.765</td>\n",
              "      <td>0.201</td>\n",
              "    </tr>\n",
              "    <tr>\n",
              "      <th>2</th>\n",
              "      <td>8367</td>\n",
              "      <td>46</td>\n",
              "      <td>4.0</td>\n",
              "      <td>1</td>\n",
              "      <td>2013-05-20</td>\n",
              "      <td>So a pitcher of margaritas will set you back f...</td>\n",
              "      <td>Las Bugambilias</td>\n",
              "      <td>197</td>\n",
              "      <td>0</td>\n",
              "      <td>148.0</td>\n",
              "      <td>...</td>\n",
              "      <td>4.048889</td>\n",
              "      <td>106</td>\n",
              "      <td>0.018868</td>\n",
              "      <td>0.0</td>\n",
              "      <td>165.0</td>\n",
              "      <td>106</td>\n",
              "      <td>0.8858</td>\n",
              "      <td>0.000</td>\n",
              "      <td>0.896</td>\n",
              "      <td>0.104</td>\n",
              "    </tr>\n",
              "    <tr>\n",
              "      <th>3</th>\n",
              "      <td>8367</td>\n",
              "      <td>57</td>\n",
              "      <td>3.0</td>\n",
              "      <td>1</td>\n",
              "      <td>2011-01-30</td>\n",
              "      <td>In all honesty, I really do like Continental M...</td>\n",
              "      <td>Continental Mid-town</td>\n",
              "      <td>197</td>\n",
              "      <td>0</td>\n",
              "      <td>148.0</td>\n",
              "      <td>...</td>\n",
              "      <td>3.606776</td>\n",
              "      <td>287</td>\n",
              "      <td>0.027177</td>\n",
              "      <td>0.0</td>\n",
              "      <td>290.0</td>\n",
              "      <td>287</td>\n",
              "      <td>0.9270</td>\n",
              "      <td>0.062</td>\n",
              "      <td>0.837</td>\n",
              "      <td>0.101</td>\n",
              "    </tr>\n",
              "    <tr>\n",
              "      <th>4</th>\n",
              "      <td>8367</td>\n",
              "      <td>113</td>\n",
              "      <td>3.0</td>\n",
              "      <td>1</td>\n",
              "      <td>2011-05-25</td>\n",
              "      <td>Everyone always told me how much better Vietna...</td>\n",
              "      <td>Vietnam Restaurant</td>\n",
              "      <td>197</td>\n",
              "      <td>0</td>\n",
              "      <td>148.0</td>\n",
              "      <td>...</td>\n",
              "      <td>3.742138</td>\n",
              "      <td>155</td>\n",
              "      <td>0.018980</td>\n",
              "      <td>0.0</td>\n",
              "      <td>154.0</td>\n",
              "      <td>155</td>\n",
              "      <td>0.9926</td>\n",
              "      <td>0.022</td>\n",
              "      <td>0.719</td>\n",
              "      <td>0.259</td>\n",
              "    </tr>\n",
              "  </tbody>\n",
              "</table>\n",
              "<p>5 rows × 21 columns</p>\n",
              "</div>\n",
              "      <button class=\"colab-df-convert\" onclick=\"convertToInteractive('df-6d95f135-a675-42fe-90c4-f7aa78239f69')\"\n",
              "              title=\"Convert this dataframe to an interactive table.\"\n",
              "              style=\"display:none;\">\n",
              "        \n",
              "  <svg xmlns=\"http://www.w3.org/2000/svg\" height=\"24px\"viewBox=\"0 0 24 24\"\n",
              "       width=\"24px\">\n",
              "    <path d=\"M0 0h24v24H0V0z\" fill=\"none\"/>\n",
              "    <path d=\"M18.56 5.44l.94 2.06.94-2.06 2.06-.94-2.06-.94-.94-2.06-.94 2.06-2.06.94zm-11 1L8.5 8.5l.94-2.06 2.06-.94-2.06-.94L8.5 2.5l-.94 2.06-2.06.94zm10 10l.94 2.06.94-2.06 2.06-.94-2.06-.94-.94-2.06-.94 2.06-2.06.94z\"/><path d=\"M17.41 7.96l-1.37-1.37c-.4-.4-.92-.59-1.43-.59-.52 0-1.04.2-1.43.59L10.3 9.45l-7.72 7.72c-.78.78-.78 2.05 0 2.83L4 21.41c.39.39.9.59 1.41.59.51 0 1.02-.2 1.41-.59l7.78-7.78 2.81-2.81c.8-.78.8-2.07 0-2.86zM5.41 20L4 18.59l7.72-7.72 1.47 1.35L5.41 20z\"/>\n",
              "  </svg>\n",
              "      </button>\n",
              "      \n",
              "  <style>\n",
              "    .colab-df-container {\n",
              "      display:flex;\n",
              "      flex-wrap:wrap;\n",
              "      gap: 12px;\n",
              "    }\n",
              "\n",
              "    .colab-df-convert {\n",
              "      background-color: #E8F0FE;\n",
              "      border: none;\n",
              "      border-radius: 50%;\n",
              "      cursor: pointer;\n",
              "      display: none;\n",
              "      fill: #1967D2;\n",
              "      height: 32px;\n",
              "      padding: 0 0 0 0;\n",
              "      width: 32px;\n",
              "    }\n",
              "\n",
              "    .colab-df-convert:hover {\n",
              "      background-color: #E2EBFA;\n",
              "      box-shadow: 0px 1px 2px rgba(60, 64, 67, 0.3), 0px 1px 3px 1px rgba(60, 64, 67, 0.15);\n",
              "      fill: #174EA6;\n",
              "    }\n",
              "\n",
              "    [theme=dark] .colab-df-convert {\n",
              "      background-color: #3B4455;\n",
              "      fill: #D2E3FC;\n",
              "    }\n",
              "\n",
              "    [theme=dark] .colab-df-convert:hover {\n",
              "      background-color: #434B5C;\n",
              "      box-shadow: 0px 1px 3px 1px rgba(0, 0, 0, 0.15);\n",
              "      filter: drop-shadow(0px 1px 2px rgba(0, 0, 0, 0.3));\n",
              "      fill: #FFFFFF;\n",
              "    }\n",
              "  </style>\n",
              "\n",
              "      <script>\n",
              "        const buttonEl =\n",
              "          document.querySelector('#df-6d95f135-a675-42fe-90c4-f7aa78239f69 button.colab-df-convert');\n",
              "        buttonEl.style.display =\n",
              "          google.colab.kernel.accessAllowed ? 'block' : 'none';\n",
              "\n",
              "        async function convertToInteractive(key) {\n",
              "          const element = document.querySelector('#df-6d95f135-a675-42fe-90c4-f7aa78239f69');\n",
              "          const dataTable =\n",
              "            await google.colab.kernel.invokeFunction('convertToInteractive',\n",
              "                                                     [key], {});\n",
              "          if (!dataTable) return;\n",
              "\n",
              "          const docLinkHtml = 'Like what you see? Visit the ' +\n",
              "            '<a target=\"_blank\" href=https://colab.research.google.com/notebooks/data_table.ipynb>data table notebook</a>'\n",
              "            + ' to learn more about interactive tables.';\n",
              "          element.innerHTML = '';\n",
              "          dataTable['output_type'] = 'display_data';\n",
              "          await google.colab.output.renderOutput(dataTable, element);\n",
              "          const docLink = document.createElement('div');\n",
              "          docLink.innerHTML = docLinkHtml;\n",
              "          element.appendChild(docLink);\n",
              "        }\n",
              "      </script>\n",
              "    </div>\n",
              "  </div>\n",
              "  "
            ]
          },
          "metadata": {},
          "execution_count": 116
        }
      ]
    },
    {
      "cell_type": "markdown",
      "source": [
        "### Extract final dataset with features CSV\n"
      ],
      "metadata": {
        "id": "fdsTbp7zt4ir"
      }
    },
    {
      "cell_type": "code",
      "source": [
        "df.to_csv('features_dataset.csv')"
      ],
      "metadata": {
        "id": "FPHIaH9HtzSv"
      },
      "execution_count": null,
      "outputs": []
    },
    {
      "cell_type": "markdown",
      "source": [
        "## (3) Extract the dataset to be used in SDLib"
      ],
      "metadata": {
        "id": "asPDsse_q4zF"
      }
    },
    {
      "cell_type": "markdown",
      "source": [
        "### Scenario 1: Original dataset, all fake review authors are labeled as fake users"
      ],
      "metadata": {
        "id": "cSQaIBpyHSVY"
      }
    },
    {
      "cell_type": "markdown",
      "source": [
        "#### Extracting data"
      ],
      "metadata": {
        "id": "VPlW2OSDIYN7"
      }
    },
    {
      "cell_type": "code",
      "source": [
        "#Extract profiles.txt for shilling attack models:\n",
        "profiles = metadata[['user_id', 'prod_id', 'rating']]\n",
        "print(profiles.head())\n",
        "profiles.to_csv('profiles.txt', header=None, index=None, sep=' ', mode='a')"
      ],
      "metadata": {
        "colab": {
          "base_uri": "https://localhost:8080/"
        },
        "id": "UOx7VStyVoQO",
        "outputId": "4aab7f8f-bdd1-49ab-b0d9-f7f83a0cd6f9"
      },
      "execution_count": null,
      "outputs": [
        {
          "output_type": "stream",
          "name": "stdout",
          "text": [
            "   user_id  prod_id  rating\n",
            "0     5044        0     1.0\n",
            "1     5045        0     1.0\n",
            "2     5046        0     3.0\n",
            "3     5047        0     5.0\n",
            "4     5048        0     5.0\n"
          ]
        }
      ]
    },
    {
      "cell_type": "code",
      "source": [
        "#Extract labels.txt for shilling attack models:\n",
        "labels = metadata[['user_id', 'label']].drop_duplicates().sort_values(by='label', ascending=True).drop_duplicates(subset='user_id', keep=\"first\")\n",
        "\n",
        "#replace -1 by 1, 1 by 0:\n",
        "labels.label.replace([-1, 1], [1, 0], inplace=True)\n",
        "print(labels.head(), '\\n')\n",
        "print(labels.label.describe())\n",
        "\n",
        "labels.to_csv('labels.txt', header=None, index=None, sep=' ', mode='a')"
      ],
      "metadata": {
        "colab": {
          "base_uri": "https://localhost:8080/"
        },
        "id": "eU40HllQC1yW",
        "outputId": "533e6ec7-b755-4f8e-93ff-ef27257f635c"
      },
      "execution_count": null,
      "outputs": [
        {
          "output_type": "stream",
          "name": "stdout",
          "text": [
            "        user_id  label\n",
            "0          5044      1\n",
            "117601    26185      1\n",
            "117600    13107      1\n",
            "117586    83702      1\n",
            "117585    83701      1 \n",
            "\n",
            "count    260277.000000\n",
            "mean          0.239084\n",
            "std           0.426525\n",
            "min           0.000000\n",
            "25%           0.000000\n",
            "50%           0.000000\n",
            "75%           0.000000\n",
            "max           1.000000\n",
            "Name: label, dtype: float64\n"
          ]
        }
      ]
    },
    {
      "cell_type": "markdown",
      "source": [
        "#### Data exploration"
      ],
      "metadata": {
        "id": "k1CtVEHTIb2j"
      }
    },
    {
      "cell_type": "code",
      "source": [
        "#Number of users:\n",
        "print(\"Number of users in the dataset: \", labels['user_id'].count())\n",
        "\n",
        "#Count the users of 2 classes (Genuine/Fake)\n",
        "print('Number of fake and real users:')\n",
        "print(labels.groupby('label').size())\n",
        "\n",
        "#Create pie chart\n",
        "import matplotlib.pyplot as plt\n",
        "labels.groupby('label').size().plot(kind='pie', autopct='%1.0f%%',\n",
        "                                colors = ['red', 'pink', 'steelblue'],\n",
        "                                title='Percentages of real and fake reviews')"
      ],
      "metadata": {
        "colab": {
          "base_uri": "https://localhost:8080/",
          "height": 386
        },
        "id": "QolEjZw-wkJB",
        "outputId": "f31c3227-10ca-4e86-e0cc-73351f222100"
      },
      "execution_count": null,
      "outputs": [
        {
          "output_type": "stream",
          "name": "stdout",
          "text": [
            "Number of users in the dataset:  260277\n",
            "Number of fake and real users:\n",
            "label\n",
            "0    198049\n",
            "1     62228\n",
            "dtype: int64\n"
          ]
        },
        {
          "output_type": "execute_result",
          "data": {
            "text/plain": [
              "<matplotlib.axes._subplots.AxesSubplot at 0x7f1e1df3e750>"
            ]
          },
          "metadata": {},
          "execution_count": 60
        },
        {
          "output_type": "display_data",
          "data": {
            "text/plain": [
              "<Figure size 432x288 with 1 Axes>"
            ],
            "image/png": "[encoded data removed]"
          },
          "metadata": {}
        }
      ]
    },
    {
      "cell_type": "code",
      "source": [
        "#Number of ratings:\n",
        "print(\"Number of rating in the dataset: \", profiles['rating'].count())\n",
        "\n",
        "#Count the number of ratings\n",
        "print('Number of ratings:')\n",
        "print(profiles.groupby('rating').size())\n",
        "\n",
        "#Create pie chart\n",
        "import matplotlib.pyplot as plt\n",
        "profiles.groupby('rating').size().plot(kind='pie', autopct='%1.0f%%',\n",
        "                                title='Percentages of ratings')"
      ],
      "metadata": {
        "colab": {
          "base_uri": "https://localhost:8080/",
          "height": 438
        },
        "id": "_j_RlxH1w-Ro",
        "outputId": "3a9aa549-e47c-431a-8d96-6b3f2929d3ae"
      },
      "execution_count": null,
      "outputs": [
        {
          "output_type": "stream",
          "name": "stdout",
          "text": [
            "Number of rating in the dataset:  608598\n",
            "Number of ratings:\n",
            "rating\n",
            "1.0     35600\n",
            "2.0     42985\n",
            "3.0     83139\n",
            "4.0    217465\n",
            "5.0    229409\n",
            "dtype: int64\n"
          ]
        },
        {
          "output_type": "execute_result",
          "data": {
            "text/plain": [
              "<matplotlib.axes._subplots.AxesSubplot at 0x7f1e1e360b50>"
            ]
          },
          "metadata": {},
          "execution_count": 61
        },
        {
          "output_type": "display_data",
          "data": {
            "text/plain": [
              "<Figure size 432x288 with 1 Axes>"
            ],
            "image/png": "[encoded data removed]"
          },
          "metadata": {}
        }
      ]
    },
    {
      "cell_type": "code",
      "source": [
        "#Calculate rating count:\n",
        "# find out the number of ratings by users\n",
        "\n",
        "#Create a new dataframe with user_id and a count column:\n",
        "pd.set_option('max_colwidth', 50)\n",
        "userdf = profiles['user_id'].value_counts().to_frame('ratingCount').rename_axis('user_id').reset_index().sort_values(by='ratingCount',ascending=False)\n",
        "print(userdf.head(20))"
      ],
      "metadata": {
        "colab": {
          "base_uri": "https://localhost:8080/"
        },
        "id": "HGVsyrKAgf4h",
        "outputId": "24d0af76-80b2-460f-97fe-d482cad9dbcd"
      },
      "execution_count": null,
      "outputs": [
        {
          "output_type": "stream",
          "name": "stdout",
          "text": [
            "    user_id  ratingCount\n",
            "0      8367          197\n",
            "1      9501          185\n",
            "2      7871          178\n",
            "3      8225          159\n",
            "4     10934          155\n",
            "5      8351          142\n",
            "6      7781          142\n",
            "7      7777          136\n",
            "8      8467          135\n",
            "9      8011          133\n",
            "10     9105          132\n",
            "11     8337          132\n",
            "12    19044          131\n",
            "13    18780          127\n",
            "14    13937          126\n",
            "15    12874          123\n",
            "16    14510          121\n",
            "17    25871          118\n",
            "18    14255          116\n",
            "19     5095          112\n"
          ]
        }
      ]
    },
    {
      "cell_type": "code",
      "source": [
        "ratingcountdf = userdf['ratingCount'].value_counts().to_frame('countFrequent').rename_axis('ratingCount').reset_index().sort_values(by='countFrequent',ascending=False)\n",
        "print(ratingcountdf.head(20))"
      ],
      "metadata": {
        "colab": {
          "base_uri": "https://localhost:8080/"
        },
        "id": "8C3SXQe8gw-4",
        "outputId": "c920e298-575b-4e26-f6ff-0d591d1e586f"
      },
      "execution_count": null,
      "outputs": [
        {
          "output_type": "stream",
          "name": "stdout",
          "text": [
            "    ratingCount  countFrequent\n",
            "0             1         170098\n",
            "1             2          40160\n",
            "2             3          17232\n",
            "3             4           8956\n",
            "4             5           5792\n",
            "5             6           3706\n",
            "6             7           2557\n",
            "7             8           1830\n",
            "8             9           1491\n",
            "9            10           1119\n",
            "10           11            842\n",
            "11           12            743\n",
            "12           13            628\n",
            "13           14            499\n",
            "14           15            473\n",
            "15           16            378\n",
            "16           17            313\n",
            "17           18            286\n",
            "18           19            281\n",
            "19           20            237\n"
          ]
        }
      ]
    },
    {
      "cell_type": "code",
      "source": [
        "#merge:\n",
        "YZ1 = pd.merge(profiles, labels, on=['user_id'])\n",
        "YZ1.head()"
      ],
      "metadata": {
        "colab": {
          "base_uri": "https://localhost:8080/",
          "height": 206
        },
        "id": "TxeJdSOrItwn",
        "outputId": "45ec8339-7fa1-48dc-be05-5b3f64261558"
      },
      "execution_count": null,
      "outputs": [
        {
          "output_type": "execute_result",
          "data": {
            "text/plain": [
              "   user_id  prod_id  rating  label\n",
              "0     5044        0     1.0      1\n",
              "1     5045        0     1.0      1\n",
              "2     5046        0     3.0      1\n",
              "3     5046      376     3.0      1\n",
              "4     5046      716     3.0      1"
            ],
            "text/html": [
              "\n",
              "  <div id=\"df-ec8660dc-4371-4164-a89b-ad6450271d8c\">\n",
              "    <div class=\"colab-df-container\">\n",
              "      <div>\n",
              "<style scoped>\n",
              "    .dataframe tbody tr th:only-of-type {\n",
              "        vertical-align: middle;\n",
              "    }\n",
              "\n",
              "    .dataframe tbody tr th {\n",
              "        vertical-align: top;\n",
              "    }\n",
              "\n",
              "    .dataframe thead th {\n",
              "        text-align: right;\n",
              "    }\n",
              "</style>\n",
              "<table border=\"1\" class=\"dataframe\">\n",
              "  <thead>\n",
              "    <tr style=\"text-align: right;\">\n",
              "      <th></th>\n",
              "      <th>user_id</th>\n",
              "      <th>prod_id</th>\n",
              "      <th>rating</th>\n",
              "      <th>label</th>\n",
              "    </tr>\n",
              "  </thead>\n",
              "  <tbody>\n",
              "    <tr>\n",
              "      <th>0</th>\n",
              "      <td>5044</td>\n",
              "      <td>0</td>\n",
              "      <td>1.0</td>\n",
              "      <td>1</td>\n",
              "    </tr>\n",
              "    <tr>\n",
              "      <th>1</th>\n",
              "      <td>5045</td>\n",
              "      <td>0</td>\n",
              "      <td>1.0</td>\n",
              "      <td>1</td>\n",
              "    </tr>\n",
              "    <tr>\n",
              "      <th>2</th>\n",
              "      <td>5046</td>\n",
              "      <td>0</td>\n",
              "      <td>3.0</td>\n",
              "      <td>1</td>\n",
              "    </tr>\n",
              "    <tr>\n",
              "      <th>3</th>\n",
              "      <td>5046</td>\n",
              "      <td>376</td>\n",
              "      <td>3.0</td>\n",
              "      <td>1</td>\n",
              "    </tr>\n",
              "    <tr>\n",
              "      <th>4</th>\n",
              "      <td>5046</td>\n",
              "      <td>716</td>\n",
              "      <td>3.0</td>\n",
              "      <td>1</td>\n",
              "    </tr>\n",
              "  </tbody>\n",
              "</table>\n",
              "</div>\n",
              "      <button class=\"colab-df-convert\" onclick=\"convertToInteractive('df-ec8660dc-4371-4164-a89b-ad6450271d8c')\"\n",
              "              title=\"Convert this dataframe to an interactive table.\"\n",
              "              style=\"display:none;\">\n",
              "        \n",
              "  <svg xmlns=\"http://www.w3.org/2000/svg\" height=\"24px\"viewBox=\"0 0 24 24\"\n",
              "       width=\"24px\">\n",
              "    <path d=\"M0 0h24v24H0V0z\" fill=\"none\"/>\n",
              "    <path d=\"M18.56 5.44l.94 2.06.94-2.06 2.06-.94-2.06-.94-.94-2.06-.94 2.06-2.06.94zm-11 1L8.5 8.5l.94-2.06 2.06-.94-2.06-.94L8.5 2.5l-.94 2.06-2.06.94zm10 10l.94 2.06.94-2.06 2.06-.94-2.06-.94-.94-2.06-.94 2.06-2.06.94z\"/><path d=\"M17.41 7.96l-1.37-1.37c-.4-.4-.92-.59-1.43-.59-.52 0-1.04.2-1.43.59L10.3 9.45l-7.72 7.72c-.78.78-.78 2.05 0 2.83L4 21.41c.39.39.9.59 1.41.59.51 0 1.02-.2 1.41-.59l7.78-7.78 2.81-2.81c.8-.78.8-2.07 0-2.86zM5.41 20L4 18.59l7.72-7.72 1.47 1.35L5.41 20z\"/>\n",
              "  </svg>\n",
              "      </button>\n",
              "      \n",
              "  <style>\n",
              "    .colab-df-container {\n",
              "      display:flex;\n",
              "      flex-wrap:wrap;\n",
              "      gap: 12px;\n",
              "    }\n",
              "\n",
              "    .colab-df-convert {\n",
              "      background-color: #E8F0FE;\n",
              "      border: none;\n",
              "      border-radius: 50%;\n",
              "      cursor: pointer;\n",
              "      display: none;\n",
              "      fill: #1967D2;\n",
              "      height: 32px;\n",
              "      padding: 0 0 0 0;\n",
              "      width: 32px;\n",
              "    }\n",
              "\n",
              "    .colab-df-convert:hover {\n",
              "      background-color: #E2EBFA;\n",
              "      box-shadow: 0px 1px 2px rgba(60, 64, 67, 0.3), 0px 1px 3px 1px rgba(60, 64, 67, 0.15);\n",
              "      fill: #174EA6;\n",
              "    }\n",
              "\n",
              "    [theme=dark] .colab-df-convert {\n",
              "      background-color: #3B4455;\n",
              "      fill: #D2E3FC;\n",
              "    }\n",
              "\n",
              "    [theme=dark] .colab-df-convert:hover {\n",
              "      background-color: #434B5C;\n",
              "      box-shadow: 0px 1px 3px 1px rgba(0, 0, 0, 0.15);\n",
              "      filter: drop-shadow(0px 1px 2px rgba(0, 0, 0, 0.3));\n",
              "      fill: #FFFFFF;\n",
              "    }\n",
              "  </style>\n",
              "\n",
              "      <script>\n",
              "        const buttonEl =\n",
              "          document.querySelector('#df-ec8660dc-4371-4164-a89b-ad6450271d8c button.colab-df-convert');\n",
              "        buttonEl.style.display =\n",
              "          google.colab.kernel.accessAllowed ? 'block' : 'none';\n",
              "\n",
              "        async function convertToInteractive(key) {\n",
              "          const element = document.querySelector('#df-ec8660dc-4371-4164-a89b-ad6450271d8c');\n",
              "          const dataTable =\n",
              "            await google.colab.kernel.invokeFunction('convertToInteractive',\n",
              "                                                     [key], {});\n",
              "          if (!dataTable) return;\n",
              "\n",
              "          const docLinkHtml = 'Like what you see? Visit the ' +\n",
              "            '<a target=\"_blank\" href=https://colab.research.google.com/notebooks/data_table.ipynb>data table notebook</a>'\n",
              "            + ' to learn more about interactive tables.';\n",
              "          element.innerHTML = '';\n",
              "          dataTable['output_type'] = 'display_data';\n",
              "          await google.colab.output.renderOutput(dataTable, element);\n",
              "          const docLink = document.createElement('div');\n",
              "          docLink.innerHTML = docLinkHtml;\n",
              "          element.appendChild(docLink);\n",
              "        }\n",
              "      </script>\n",
              "    </div>\n",
              "  </div>\n",
              "  "
            ]
          },
          "metadata": {},
          "execution_count": 35
        }
      ]
    },
    {
      "cell_type": "code",
      "source": [
        "import seaborn as sns\n",
        "\n",
        "sns.set_theme(style=\"darkgrid\")\n",
        "YZ1_chart = sns.countplot(x=\"rating\", hue=\"label\", data=YZ1)"
      ],
      "metadata": {
        "colab": {
          "base_uri": "https://localhost:8080/",
          "height": 285
        },
        "id": "LgjjjEr7fVOW",
        "outputId": "4c0e0079-00f1-48d4-e977-165b269fdb0f"
      },
      "execution_count": null,
      "outputs": [
        {
          "output_type": "display_data",
          "data": {
            "text/plain": [
              "<Figure size 432x288 with 1 Axes>"
            ],
            "image/png": "[encoded data removed]"
          },
          "metadata": {}
        }
      ]
    },
    {
      "cell_type": "code",
      "source": [
        "#Count the number of ratings\n",
        "print(\"Number of rating by fake users: \", YZ1[(YZ1.label == 1)]['rating'].count())\n",
        "print('Number of ratings for fake users:')\n",
        "print(YZ1[(YZ1.label == 1)].groupby('rating').size())"
      ],
      "metadata": {
        "colab": {
          "base_uri": "https://localhost:8080/"
        },
        "id": "wbUYVM_kiAvJ",
        "outputId": "415f7ce0-a5ff-4162-b065-5a9e8865d4e7"
      },
      "execution_count": null,
      "outputs": [
        {
          "output_type": "stream",
          "name": "stdout",
          "text": [
            "Number of rating by fake users:  87896\n",
            "Number of ratings for fake users:\n",
            "rating\n",
            "1.0    11977\n",
            "2.0     6861\n",
            "3.0     7510\n",
            "4.0    23125\n",
            "5.0    38423\n",
            "dtype: int64\n"
          ]
        }
      ]
    },
    {
      "cell_type": "code",
      "source": [
        "#Count the number of ratings\n",
        "print(\"Number of rating by real users: \", YZ1[(YZ1.label == 0)]['rating'].count())\n",
        "print('Number of ratings for real users:')\n",
        "print(YZ1[(YZ1.label == 0)].groupby('rating').size())"
      ],
      "metadata": {
        "colab": {
          "base_uri": "https://localhost:8080/"
        },
        "id": "aSbfDvV_jV_A",
        "outputId": "ab94f69c-b444-41f2-a52c-e55fa149dd31"
      },
      "execution_count": null,
      "outputs": [
        {
          "output_type": "stream",
          "name": "stdout",
          "text": [
            "Number of rating by real users:  520702\n",
            "Number of ratings for real users:\n",
            "rating\n",
            "1.0     23623\n",
            "2.0     36124\n",
            "3.0     75629\n",
            "4.0    194340\n",
            "5.0    190986\n",
            "dtype: int64\n"
          ]
        }
      ]
    },
    {
      "cell_type": "markdown",
      "source": [
        "### Scenario 2: Remove users with less than 10 reviews"
      ],
      "metadata": {
        "id": "u6Rl8Mcpk36b"
      }
    },
    {
      "cell_type": "markdown",
      "source": [
        "#### Extracting data"
      ],
      "metadata": {
        "id": "jLKqsi_3WNma"
      }
    },
    {
      "cell_type": "code",
      "source": [
        "#Load data:\n",
        "df = pd.read_csv('features_dataset.csv')\n",
        "print(df.head())"
      ],
      "metadata": {
        "colab": {
          "base_uri": "https://localhost:8080/"
        },
        "id": "KdlfQqrnrCjF",
        "outputId": "5e2200a9-2db7-4e05-e6ac-853f75ea7a02"
      },
      "execution_count": null,
      "outputs": [
        {
          "output_type": "stream",
          "name": "stdout",
          "text": [
            "   Unnamed: 0  user_id  prod_id  rating  label        date  \\\n",
            "0           0     8367     3889     4.0      1  2013-01-23   \n",
            "1           1     8367     2857     4.0      1  2011-02-23   \n",
            "2           2     8367       46     4.0      1  2013-05-20   \n",
            "3           3     8367       57     3.0      1  2011-01-30   \n",
            "4           4     8367      113     3.0      1  2011-05-25   \n",
            "\n",
            "                                              review             prod_name  \\\n",
            "0  I had a hankering for Thai and Jasmine Rice wa...          Jasmine Rice   \n",
            "1  Knock fills the much-needed niche of the class...                 Knock   \n",
            "2  So a pitcher of margaritas will set you back f...       Las Bugambilias   \n",
            "3  In all honesty, I really do like Continental M...  Continental Mid-town   \n",
            "4  Everyone always told me how much better Vietna...    Vietnam Restaurant   \n",
            "\n",
            "   reviewCount  daysInSystem  ...       MPR   RL       RCL   RD    OOR   WC  \\\n",
            "0          197             0  ...  3.753731  126  0.027231  0.0   54.0  126   \n",
            "1          197             0  ...  3.561404  117  0.026074  0.0   40.0  117   \n",
            "2          197             0  ...  4.048889  106  0.018868  0.0  165.0  106   \n",
            "3          197             0  ...  3.606776  287  0.027177  0.0  290.0  287   \n",
            "4          197             0  ...  3.742138  155  0.018980  0.0  154.0  155   \n",
            "\n",
            "   compound    neg    neu    pos  \n",
            "0    0.9199  0.000  0.869  0.131  \n",
            "1    0.9647  0.033  0.765  0.201  \n",
            "2    0.8858  0.000  0.896  0.104  \n",
            "3    0.9270  0.062  0.837  0.101  \n",
            "4    0.9926  0.022  0.719  0.259  \n",
            "\n",
            "[5 rows x 22 columns]\n"
          ]
        }
      ]
    },
    {
      "cell_type": "code",
      "source": [
        "# Check number of reviews\n",
        "df.shape[0]"
      ],
      "metadata": {
        "colab": {
          "base_uri": "https://localhost:8080/"
        },
        "id": "yLnIeyPHrXPm",
        "outputId": "632598ba-01e0-4692-c3a0-eb69057b7c7a"
      },
      "execution_count": null,
      "outputs": [
        {
          "output_type": "execute_result",
          "data": {
            "text/plain": [
              "608458"
            ]
          },
          "metadata": {},
          "execution_count": 11
        }
      ]
    },
    {
      "cell_type": "code",
      "source": [
        "#Remove reviews of users with less than 10 reviews\n",
        "df2 = df[df['reviewCount'] >= 10]\n",
        "df2.shape[0]"
      ],
      "metadata": {
        "colab": {
          "base_uri": "https://localhost:8080/"
        },
        "id": "BYgSNNrSr20H",
        "outputId": "95e4b2b8-83e9-4244-dd85-e5ba1d099bfd"
      },
      "execution_count": null,
      "outputs": [
        {
          "output_type": "execute_result",
          "data": {
            "text/plain": [
              "173448"
            ]
          },
          "metadata": {},
          "execution_count": 12
        }
      ]
    },
    {
      "cell_type": "code",
      "source": [
        "#Add 2 columns: realReviewsCount, fakeReviewsCount\n",
        "df2['realReviewsCount']=df2.groupby('user_id')['label'].transform(lambda x : x.loc[x==1].count())\n",
        "df2['fakeReviewsCount']=df2['reviewCount'] - df2['realReviewsCount']\n",
        "\n",
        "#Label users: if fakeReviewsCount >= realReviewsCount: Fake user\n",
        "#Fake user: 1, real user: 0\n",
        "df2['userLabel'] = np.where(df2 ['fakeReviewsCount'] > 0, 1, 0)\n",
        "\n",
        "print(df2.head())"
      ],
      "metadata": {
        "colab": {
          "base_uri": "https://localhost:8080/"
        },
        "id": "Pfs4xojvsksY",
        "outputId": "d7af8d45-3494-49f6-f20b-9b529db73b30"
      },
      "execution_count": null,
      "outputs": [
        {
          "output_type": "stream",
          "name": "stdout",
          "text": [
            "   Unnamed: 0  user_id  prod_id  rating  label        date  \\\n",
            "0           0     8367     3889     4.0      1  2013-01-23   \n",
            "1           1     8367     2857     4.0      1  2011-02-23   \n",
            "2           2     8367       46     4.0      1  2013-05-20   \n",
            "3           3     8367       57     3.0      1  2011-01-30   \n",
            "4           4     8367      113     3.0      1  2011-05-25   \n",
            "\n",
            "                                              review             prod_name  \\\n",
            "0  I had a hankering for Thai and Jasmine Rice wa...          Jasmine Rice   \n",
            "1  Knock fills the much-needed niche of the class...                 Knock   \n",
            "2  So a pitcher of margaritas will set you back f...       Las Bugambilias   \n",
            "3  In all honesty, I really do like Continental M...  Continental Mid-town   \n",
            "4  Everyone always told me how much better Vietna...    Vietnam Restaurant   \n",
            "\n",
            "   reviewCount  daysInSystem  ...   RD    OOR   WC  compound    neg    neu  \\\n",
            "0          197             0  ...  0.0   54.0  126    0.9199  0.000  0.869   \n",
            "1          197             0  ...  0.0   40.0  117    0.9647  0.033  0.765   \n",
            "2          197             0  ...  0.0  165.0  106    0.8858  0.000  0.896   \n",
            "3          197             0  ...  0.0  290.0  287    0.9270  0.062  0.837   \n",
            "4          197             0  ...  0.0  154.0  155    0.9926  0.022  0.719   \n",
            "\n",
            "     pos  realReviewsCount  fakeReviewsCount  userLabel  \n",
            "0  0.131               197                 0          0  \n",
            "1  0.201               197                 0          0  \n",
            "2  0.104               197                 0          0  \n",
            "3  0.101               197                 0          0  \n",
            "4  0.259               197                 0          0  \n",
            "\n",
            "[5 rows x 25 columns]\n"
          ]
        },
        {
          "output_type": "stream",
          "name": "stderr",
          "text": [
            "/usr/local/lib/python3.7/dist-packages/ipykernel_launcher.py:2: SettingWithCopyWarning: \n",
            "A value is trying to be set on a copy of a slice from a DataFrame.\n",
            "Try using .loc[row_indexer,col_indexer] = value instead\n",
            "\n",
            "See the caveats in the documentation: https://pandas.pydata.org/pandas-docs/stable/user_guide/indexing.html#returning-a-view-versus-a-copy\n",
            "  \n",
            "/usr/local/lib/python3.7/dist-packages/ipykernel_launcher.py:3: SettingWithCopyWarning: \n",
            "A value is trying to be set on a copy of a slice from a DataFrame.\n",
            "Try using .loc[row_indexer,col_indexer] = value instead\n",
            "\n",
            "See the caveats in the documentation: https://pandas.pydata.org/pandas-docs/stable/user_guide/indexing.html#returning-a-view-versus-a-copy\n",
            "  This is separate from the ipykernel package so we can avoid doing imports until\n",
            "/usr/local/lib/python3.7/dist-packages/ipykernel_launcher.py:7: SettingWithCopyWarning: \n",
            "A value is trying to be set on a copy of a slice from a DataFrame.\n",
            "Try using .loc[row_indexer,col_indexer] = value instead\n",
            "\n",
            "See the caveats in the documentation: https://pandas.pydata.org/pandas-docs/stable/user_guide/indexing.html#returning-a-view-versus-a-copy\n",
            "  import sys\n"
          ]
        }
      ]
    },
    {
      "cell_type": "code",
      "source": [
        "#Create a file with labels of all users:\n",
        "YZ2_labels = df2[['user_id', 'userLabel']].drop_duplicates()\n",
        "YZ2_labels.to_csv('YZ2_labels.txt', header=None, index=None, sep=' ', mode='a')"
      ],
      "metadata": {
        "id": "L9HnR4Glwinl"
      },
      "execution_count": null,
      "outputs": []
    },
    {
      "cell_type": "code",
      "source": [
        "print(\"Number of reviewers in the dataset: \", YZ2_labels['user_id'].nunique())"
      ],
      "metadata": {
        "colab": {
          "base_uri": "https://localhost:8080/"
        },
        "id": "pRpPrQcxxLm5",
        "outputId": "cf6c9308-7263-4f08-cdc1-5935cc032878"
      },
      "execution_count": null,
      "outputs": [
        {
          "output_type": "stream",
          "name": "stdout",
          "text": [
            "Number of reviewers in the dataset:  8453\n"
          ]
        }
      ]
    },
    {
      "cell_type": "code",
      "source": [
        "#Create a file with all the ratings:\n",
        "YZ2_profiles = df2[['user_id', 'prod_id', 'rating']]\n",
        "print(YZ2_profiles.head())\n",
        "YZ2_profiles.to_csv('YZ2_profiles.txt', header=None, index=None, sep=' ', mode='a')"
      ],
      "metadata": {
        "colab": {
          "base_uri": "https://localhost:8080/"
        },
        "id": "YHOHjJoOul3e",
        "outputId": "983f8395-1cb7-4455-9c35-686268703df4"
      },
      "execution_count": null,
      "outputs": [
        {
          "output_type": "stream",
          "name": "stdout",
          "text": [
            "   user_id  prod_id  rating\n",
            "0     8367     3889     4.0\n",
            "1     8367     2857     4.0\n",
            "2     8367       46     4.0\n",
            "3     8367       57     3.0\n",
            "4     8367      113     3.0\n"
          ]
        }
      ]
    },
    {
      "cell_type": "markdown",
      "source": [
        "#### (Dropped) Create testset with 25% fake users and 25% real users"
      ],
      "metadata": {
        "id": "eDAhhDz4WsXh"
      }
    },
    {
      "cell_type": "code",
      "source": [
        "#Extract a dataframe with 2 columns: user_id and userLabel\n",
        "userLabels = df2[['user_id', 'reviewCount', 'userLabel']].drop_duplicates()\n",
        "print(userLabels.head())\n",
        "#labels.to_csv('labels.txt', header=None, index=None, sep=' ', mode='a')"
      ],
      "metadata": {
        "colab": {
          "base_uri": "https://localhost:8080/"
        },
        "id": "bPGToRNO2EJi",
        "outputId": "e218a4e5-849b-424d-f51d-d5ea651c0453"
      },
      "execution_count": null,
      "outputs": [
        {
          "output_type": "stream",
          "name": "stdout",
          "text": [
            "     user_id  reviewCount  userLabel\n",
            "0       8367          197          0\n",
            "197     9501          185          0\n",
            "382     7871          178          0\n",
            "560     8225          159          0\n",
            "719    10934          155          0\n"
          ]
        }
      ]
    },
    {
      "cell_type": "code",
      "source": [
        "#Create test set based on user_id: 25% of fake users and 25% of real users\n",
        "import random\n",
        "\n",
        "testLabels = df2\n",
        "sample_size = df.shape[0]\n",
        "test_size = sample_size*0.2\n",
        "\n",
        "fake_testdf = userLabels[userLabels['userLabel'] == 1].sample(frac=0.25, random_state=1)\n",
        "real_testdf = userLabels[userLabels['userLabel'] == 0].sample(frac=0.25, random_state=1)\n",
        "\n",
        "test_userdf = pd.concat([fake_testdf, real_testdf])\n",
        "\n",
        "print(test_userdf.head())\n",
        "print(\"Number of fake users in the dataset: \", test_userdf.query('userLabel == 1')['user_id'].nunique())\n",
        "print(\"Number of real review authors in the dataset: \", test_userdf.query('userLabel == 0')['user_id'].nunique())"
      ],
      "metadata": {
        "colab": {
          "base_uri": "https://localhost:8080/"
        },
        "id": "jFv6QhQM1pVs",
        "outputId": "2db2ef01-9b3a-42ae-c782-6ea0c1503fdd"
      },
      "execution_count": null,
      "outputs": [
        {
          "output_type": "stream",
          "name": "stdout",
          "text": [
            "        user_id  reviewCount  userLabel\n",
            "110245    22260           18          1\n",
            "112026    14879           17          1\n",
            "167098    84660           10          1\n",
            "127246     9151           15          1\n",
            "169518     9159           10          1\n",
            "Number of fake users in the dataset:  42\n",
            "Number of real review authors in the dataset:  2072\n"
          ]
        }
      ]
    },
    {
      "cell_type": "code",
      "source": [
        "#Create testset for reviews from test_userdf\n",
        "test_reviews = pd.merge(df2,test_userdf[['user_id']],on='user_id')\n",
        "print(test_reviews.head())"
      ],
      "metadata": {
        "colab": {
          "base_uri": "https://localhost:8080/"
        },
        "id": "MHrE5589TAFs",
        "outputId": "d60046da-5ca9-4e32-d46b-4c57b94790c5"
      },
      "execution_count": null,
      "outputs": [
        {
          "output_type": "stream",
          "name": "stdout",
          "text": [
            "   Unnamed: 0  user_id  prod_id  rating  label        date  \\\n",
            "0        1158     7777        9     1.0      1  2010-09-21   \n",
            "1        1159     7777       71     3.0      1  2014-04-06   \n",
            "2        1160     7777      646     4.0      1  2011-09-17   \n",
            "3        1161     7777      127     3.0      1  2012-02-21   \n",
            "4        1162     7777      143     3.0      1  2012-05-21   \n",
            "\n",
            "                                              review  \\\n",
            "0  Sorry, but everyone's right when they say they...   \n",
            "1  Eight of us sat outside on a chilly day (note,...   \n",
            "2  My boo would rate this terribly because his du...   \n",
            "3  If you can call in, that'd be nice. Came here,...   \n",
            "4  'Eh....I really expected more from this place....   \n",
            "\n",
            "                       prod_name  reviewCount  daysInSystem  ...        RD  \\\n",
            "0                  Geno’s Steaks          136             0  ...  0.002174   \n",
            "1                   Pig And Khao          136             0  ...  0.000000   \n",
            "2                        Pio Pio          136             0  ...  0.000000   \n",
            "3  Clinton Street Baking Company          136             0  ...  0.010204   \n",
            "4                       Kobeyaki          136             0  ...  0.008734   \n",
            "\n",
            "     OOR   WC  compound    neg    neu    pos  realReviewsCount  \\\n",
            "0  425.0  168    0.8810  0.058  0.837  0.104               136   \n",
            "1  240.0   82    0.9594  0.017  0.750  0.233               136   \n",
            "2  160.0  119    0.9703  0.047  0.747  0.206               136   \n",
            "3  882.0  150    0.9625  0.010  0.835  0.155               136   \n",
            "4   53.0   45   -0.6154  0.111  0.865  0.024               136   \n",
            "\n",
            "   fakeReviewsCount  userLabel  \n",
            "0                 0          0  \n",
            "1                 0          0  \n",
            "2                 0          0  \n",
            "3                 0          0  \n",
            "4                 0          0  \n",
            "\n",
            "[5 rows x 25 columns]\n"
          ]
        }
      ]
    },
    {
      "cell_type": "code",
      "source": [
        "#Number of fake and real reviews in test_reviews\n",
        "print('Number of fake and real reviews in test_reviews:')\n",
        "print(test_reviews.groupby('label').size())\n",
        "\n",
        "print('Number of fake and real reviews in df2:')\n",
        "print(df2.groupby('label').size())\n"
      ],
      "metadata": {
        "colab": {
          "base_uri": "https://localhost:8080/"
        },
        "id": "DlRj1WuFUDTN",
        "outputId": "9439140f-cb25-4867-e1e8-434f249f8275"
      },
      "execution_count": null,
      "outputs": [
        {
          "output_type": "stream",
          "name": "stdout",
          "text": [
            "Number of fake and real reviews in test_reviews:\n",
            "label\n",
            "-1      760\n",
            " 1    41615\n",
            "dtype: int64\n",
            "Number of fake and real reviews in df2:\n",
            "label\n",
            "-1      2947\n",
            " 1    170501\n",
            "dtype: int64\n"
          ]
        }
      ]
    },
    {
      "cell_type": "code",
      "source": [
        "#Safe test_reviews to csv:\n",
        "test_reviews.to_csv('test_reviews.csv')"
      ],
      "metadata": {
        "id": "OHSLH7iyXMK0"
      },
      "execution_count": null,
      "outputs": []
    },
    {
      "cell_type": "code",
      "source": [
        "#Extract test_profiles.txt for shilling attack models:\n",
        "test_profiles = test_reviews[['user_id', 'prod_id', 'rating']]\n",
        "print(test_profiles.head())\n",
        "test_profiles.to_csv('test_profiles.txt', header=None, index=None, sep=' ', mode='a')"
      ],
      "metadata": {
        "colab": {
          "base_uri": "https://localhost:8080/"
        },
        "id": "O5KTg0sHW92b",
        "outputId": "28230484-7f82-4bb4-dd20-7a19b02e185e"
      },
      "execution_count": null,
      "outputs": [
        {
          "output_type": "stream",
          "name": "stdout",
          "text": [
            "   user_id  prod_id  rating\n",
            "0     7777        9     1.0\n",
            "1     7777       71     3.0\n",
            "2     7777      646     4.0\n",
            "3     7777      127     3.0\n",
            "4     7777      143     3.0\n"
          ]
        }
      ]
    },
    {
      "cell_type": "code",
      "source": [
        "#Extract test_labels.txt for shilling attack models:\n",
        "test_labels = test_userdf[['user_id', 'userLabel']]\n",
        "\n",
        "print(test_labels.head(), '\\n')\n",
        "test_labels.to_csv('test_labels.txt', header=None, index=None, sep=' ', mode='a')"
      ],
      "metadata": {
        "colab": {
          "base_uri": "https://localhost:8080/"
        },
        "id": "fe-XEHTVX2K4",
        "outputId": "e9a95cf1-cd34-43e5-f677-5bb110ac9072"
      },
      "execution_count": null,
      "outputs": [
        {
          "output_type": "stream",
          "name": "stdout",
          "text": [
            "        user_id  userLabel\n",
            "110245    22260          1\n",
            "112026    14879          1\n",
            "167098    84660          1\n",
            "127246     9151          1\n",
            "169518     9159          1 \n",
            "\n"
          ]
        }
      ]
    },
    {
      "cell_type": "markdown",
      "source": [
        "#### (Dropped) Create trainset from the rest of the dataset"
      ],
      "metadata": {
        "id": "omH9u6BOW4mk"
      }
    },
    {
      "cell_type": "code",
      "source": [
        "#Extract train_userdf:\n",
        "train_userdf = userLabels[~userLabels.isin(test_userdf)].dropna()\n",
        "print(train_userdf.head())"
      ],
      "metadata": {
        "colab": {
          "base_uri": "https://localhost:8080/"
        },
        "id": "rXWTDcy4VTBG",
        "outputId": "d1c9a7ab-6c13-4bb9-95ce-91c1cf4ce491"
      },
      "execution_count": null,
      "outputs": [
        {
          "output_type": "stream",
          "name": "stdout",
          "text": [
            "     user_id  reviewCount  userLabel\n",
            "0     8367.0        197.0        0.0\n",
            "197   9501.0        185.0        0.0\n",
            "382   7871.0        178.0        0.0\n",
            "560   8225.0        159.0        0.0\n",
            "719  10934.0        155.0        0.0\n"
          ]
        }
      ]
    },
    {
      "cell_type": "code",
      "source": [
        "#Create trainset for reviews from train_userdf\n",
        "train_reviews = pd.merge(df2,train_userdf[['user_id']],on='user_id')\n",
        "print(train_reviews.head())"
      ],
      "metadata": {
        "colab": {
          "base_uri": "https://localhost:8080/"
        },
        "id": "uHa3qT8leBV7",
        "outputId": "b3b39858-4e08-4e28-cd5a-56675fb57a04"
      },
      "execution_count": null,
      "outputs": [
        {
          "output_type": "stream",
          "name": "stdout",
          "text": [
            "   Unnamed: 0  user_id  prod_id  rating  label        date  \\\n",
            "0           0     8367     3889     4.0      1  2013-01-23   \n",
            "1           1     8367     2857     4.0      1  2011-02-23   \n",
            "2           2     8367       46     4.0      1  2013-05-20   \n",
            "3           3     8367       57     3.0      1  2011-01-30   \n",
            "4           4     8367      113     3.0      1  2011-05-25   \n",
            "\n",
            "                                              review             prod_name  \\\n",
            "0  I had a hankering for Thai and Jasmine Rice wa...          Jasmine Rice   \n",
            "1  Knock fills the much-needed niche of the class...                 Knock   \n",
            "2  So a pitcher of margaritas will set you back f...       Las Bugambilias   \n",
            "3  In all honesty, I really do like Continental M...  Continental Mid-town   \n",
            "4  Everyone always told me how much better Vietna...    Vietnam Restaurant   \n",
            "\n",
            "   reviewCount  daysInSystem  ...   RD    OOR   WC  compound    neg    neu  \\\n",
            "0          197             0  ...  0.0   54.0  126    0.9199  0.000  0.869   \n",
            "1          197             0  ...  0.0   40.0  117    0.9647  0.033  0.765   \n",
            "2          197             0  ...  0.0  165.0  106    0.8858  0.000  0.896   \n",
            "3          197             0  ...  0.0  290.0  287    0.9270  0.062  0.837   \n",
            "4          197             0  ...  0.0  154.0  155    0.9926  0.022  0.719   \n",
            "\n",
            "     pos  realReviewsCount  fakeReviewsCount  userLabel  \n",
            "0  0.131               197                 0          0  \n",
            "1  0.201               197                 0          0  \n",
            "2  0.104               197                 0          0  \n",
            "3  0.101               197                 0          0  \n",
            "4  0.259               197                 0          0  \n",
            "\n",
            "[5 rows x 25 columns]\n"
          ]
        }
      ]
    },
    {
      "cell_type": "code",
      "source": [
        "#Number of fake and real reviews in train_reviews\n",
        "print('Number of fake and real reviews in train_reviews:')\n",
        "print(train_reviews.groupby('label').size())\n",
        "\n",
        "print('Number of fake and real reviews in df2:')\n",
        "print(df2.groupby('label').size())\n"
      ],
      "metadata": {
        "colab": {
          "base_uri": "https://localhost:8080/"
        },
        "id": "TbyY6X9zeS3J",
        "outputId": "ee41c10c-9074-4bc7-9fae-1cb2de254c1d"
      },
      "execution_count": null,
      "outputs": [
        {
          "output_type": "stream",
          "name": "stdout",
          "text": [
            "Number of fake and real reviews in train_reviews:\n",
            "label\n",
            "-1      2187\n",
            " 1    128886\n",
            "dtype: int64\n",
            "Number of fake and real reviews in df2:\n",
            "label\n",
            "-1      2947\n",
            " 1    170501\n",
            "dtype: int64\n"
          ]
        }
      ]
    },
    {
      "cell_type": "code",
      "source": [
        "#Safe train_reviews to csv:\n",
        "train_reviews.to_csv('train_reviews.csv')"
      ],
      "metadata": {
        "id": "LwBYW5D2edp6"
      },
      "execution_count": null,
      "outputs": []
    },
    {
      "cell_type": "code",
      "source": [
        "#Extract train_profiles.txt for shilling attack models:\n",
        "train_profiles = train_reviews[['user_id', 'prod_id', 'rating']]\n",
        "print(train_profiles.head())\n",
        "train_profiles.to_csv('train_profiles.txt', header=None, index=None, sep=' ', mode='a')"
      ],
      "metadata": {
        "colab": {
          "base_uri": "https://localhost:8080/"
        },
        "id": "UGy7TiJ_g_DA",
        "outputId": "49cd3933-fc1e-4c52-8913-5186853a595f"
      },
      "execution_count": null,
      "outputs": [
        {
          "output_type": "stream",
          "name": "stdout",
          "text": [
            "   user_id  prod_id  rating\n",
            "0     8367     3889     4.0\n",
            "1     8367     2857     4.0\n",
            "2     8367       46     4.0\n",
            "3     8367       57     3.0\n",
            "4     8367      113     3.0\n"
          ]
        }
      ]
    },
    {
      "cell_type": "code",
      "source": [
        "#Extract test_labels.txt for shilling attack models:\n",
        "train_labels = train_userdf[['user_id', 'userLabel']]\n",
        "\n",
        "print(train_labels.head(), '\\n')\n",
        "train_labels.to_csv('train_labels.txt', header=None, index=None, sep=' ', mode='a')"
      ],
      "metadata": {
        "colab": {
          "base_uri": "https://localhost:8080/"
        },
        "id": "BBVGbeYbhNQW",
        "outputId": "7100c2f4-3ff1-458a-e8da-26190cdb1b0d"
      },
      "execution_count": null,
      "outputs": [
        {
          "output_type": "stream",
          "name": "stdout",
          "text": [
            "     user_id  userLabel\n",
            "0     8367.0        0.0\n",
            "197   9501.0        0.0\n",
            "382   7871.0        0.0\n",
            "560   8225.0        0.0\n",
            "719  10934.0        0.0 \n",
            "\n"
          ]
        }
      ]
    },
    {
      "cell_type": "markdown",
      "source": [
        "#### Data Exploration"
      ],
      "metadata": {
        "id": "Bw3rHWza4_rV"
      }
    },
    {
      "cell_type": "code",
      "source": [
        "#Number of users:\n",
        "print(\"Number of users in the dataset: \", YZ2_labels['user_id'].count())\n",
        "\n",
        "#Count the users of 2 classes (Genuine/Fake)\n",
        "print('Number of fake and real users:')\n",
        "print(YZ2_labels.groupby('userLabel').size())\n",
        "\n",
        "#Create pie chart\n",
        "import matplotlib.pyplot as plt\n",
        "YZ2_labels.groupby('userLabel').size().plot(kind='pie', autopct='%1.0f%%',\n",
        "                                colors = ['red', 'pink', 'steelblue'],\n",
        "                                title='Percentages of real and fake reviews')"
      ],
      "metadata": {
        "colab": {
          "base_uri": "https://localhost:8080/",
          "height": 386
        },
        "id": "5OY5uLLOVNIS",
        "outputId": "2ad44513-d4b4-4b31-a2ad-5fcefc06a73d"
      },
      "execution_count": null,
      "outputs": [
        {
          "output_type": "stream",
          "name": "stdout",
          "text": [
            "Number of users in the dataset:  8453\n",
            "Number of fake and real users:\n",
            "userLabel\n",
            "0    8124\n",
            "1     329\n",
            "dtype: int64\n"
          ]
        },
        {
          "output_type": "execute_result",
          "data": {
            "text/plain": [
              "<matplotlib.axes._subplots.AxesSubplot at 0x7f0c20fa5850>"
            ]
          },
          "metadata": {},
          "execution_count": 17
        },
        {
          "output_type": "display_data",
          "data": {
            "text/plain": [
              "<Figure size 432x288 with 1 Axes>"
            ],
            "image/png": "[encoded data removed]"
          },
          "metadata": {}
        }
      ]
    },
    {
      "cell_type": "code",
      "source": [
        "#Number of ratings:\n",
        "print(\"Number of rating in the dataset: \", YZ2_profiles['rating'].count())\n",
        "\n",
        "#Count the number of ratings\n",
        "print('Number of ratings:')\n",
        "print(YZ2_profiles.groupby('rating').size())\n",
        "\n",
        "#Create pie chart\n",
        "import matplotlib.pyplot as plt\n",
        "YZ2_profiles.groupby('rating').size().plot(kind='pie', autopct='%1.0f%%',\n",
        "                                title='Percentages of ratings')"
      ],
      "metadata": {
        "colab": {
          "base_uri": "https://localhost:8080/",
          "height": 438
        },
        "id": "lB8BwcXx85l9",
        "outputId": "c596ea74-2f3c-4488-d9ea-1afbd4f49c4a"
      },
      "execution_count": null,
      "outputs": [
        {
          "output_type": "stream",
          "name": "stdout",
          "text": [
            "Number of rating in the dataset:  173448\n",
            "Number of ratings:\n",
            "rating\n",
            "1.0     3870\n",
            "2.0    11545\n",
            "3.0    34859\n",
            "4.0    76558\n",
            "5.0    46616\n",
            "dtype: int64\n"
          ]
        },
        {
          "output_type": "execute_result",
          "data": {
            "text/plain": [
              "<matplotlib.axes._subplots.AxesSubplot at 0x7f0c20f0a4d0>"
            ]
          },
          "metadata": {},
          "execution_count": 18
        },
        {
          "output_type": "display_data",
          "data": {
            "text/plain": [
              "<Figure size 432x288 with 1 Axes>"
            ],
            "image/png": "[encoded data removed]"
          },
          "metadata": {}
        }
      ]
    },
    {
      "cell_type": "code",
      "source": [
        "#Calculate rating count:\n",
        "# find out the number of ratings by users\n",
        "\n",
        "#Create a new dataframe with user_id and a count column:\n",
        "pd.set_option('max_colwidth', 50)\n",
        "userdf2 = YZ2_profiles['user_id'].value_counts().to_frame('ratingCount').rename_axis('user_id').reset_index().sort_values(by='ratingCount',ascending=False)\n",
        "print(userdf2.head(20))"
      ],
      "metadata": {
        "colab": {
          "base_uri": "https://localhost:8080/"
        },
        "id": "mN9gBVZ7-Lud",
        "outputId": "996b29eb-06ab-4fec-e700-989d5d6fea16"
      },
      "execution_count": null,
      "outputs": [
        {
          "output_type": "stream",
          "name": "stdout",
          "text": [
            "    user_id  ratingCount\n",
            "0      8367          197\n",
            "1      9501          185\n",
            "2      7871          178\n",
            "3      8225          159\n",
            "4     10934          155\n",
            "5      8351          142\n",
            "6      7781          142\n",
            "7      7777          136\n",
            "8      8467          135\n",
            "9      8011          133\n",
            "10     9105          132\n",
            "11     8337          132\n",
            "12    19044          131\n",
            "13    18780          127\n",
            "14    13937          126\n",
            "15    12874          123\n",
            "16    14510          121\n",
            "17    25871          118\n",
            "18    14255          116\n",
            "19     5095          112\n"
          ]
        }
      ]
    },
    {
      "cell_type": "code",
      "source": [
        "ratingcountdf2 = userdf2['ratingCount'].value_counts().to_frame('countFrequent').rename_axis('ratingCount').reset_index().sort_values(by='countFrequent',ascending=False)\n",
        "print(ratingcountdf2.head(20))"
      ],
      "metadata": {
        "colab": {
          "base_uri": "https://localhost:8080/"
        },
        "id": "gqk-QBF2-anu",
        "outputId": "14a78381-7129-4daa-9da4-9338aa75a33f"
      },
      "execution_count": null,
      "outputs": [
        {
          "output_type": "stream",
          "name": "stdout",
          "text": [
            "    ratingCount  countFrequent\n",
            "0            10           1120\n",
            "1            11            839\n",
            "2            12            746\n",
            "3            13            625\n",
            "4            14            499\n",
            "5            15            475\n",
            "6            16            378\n",
            "7            17            312\n",
            "8            18            286\n",
            "9            19            280\n",
            "10           20            238\n",
            "11           21            194\n",
            "12           23            179\n",
            "13           22            177\n",
            "14           24            156\n",
            "16           26            146\n",
            "15           25            146\n",
            "17           27            112\n",
            "18           28            102\n",
            "19           29             96\n"
          ]
        }
      ]
    },
    {
      "cell_type": "code",
      "source": [
        "#merge:\n",
        "YZ2 = pd.merge(YZ2_profiles, YZ2_labels, on=['user_id'])\n",
        "YZ2.head()"
      ],
      "metadata": {
        "colab": {
          "base_uri": "https://localhost:8080/",
          "height": 206
        },
        "id": "9buTtCr1-hFW",
        "outputId": "f964b589-dfb0-4c74-bd39-9479b3b94c87"
      },
      "execution_count": null,
      "outputs": [
        {
          "output_type": "execute_result",
          "data": {
            "text/plain": [
              "   user_id  prod_id  rating  userLabel\n",
              "0     8367     3889     4.0          0\n",
              "1     8367     2857     4.0          0\n",
              "2     8367       46     4.0          0\n",
              "3     8367       57     3.0          0\n",
              "4     8367      113     3.0          0"
            ],
            "text/html": [
              "\n",
              "  <div id=\"df-af702f1c-4e17-47c1-990e-80d6789e5e09\">\n",
              "    <div class=\"colab-df-container\">\n",
              "      <div>\n",
              "<style scoped>\n",
              "    .dataframe tbody tr th:only-of-type {\n",
              "        vertical-align: middle;\n",
              "    }\n",
              "\n",
              "    .dataframe tbody tr th {\n",
              "        vertical-align: top;\n",
              "    }\n",
              "\n",
              "    .dataframe thead th {\n",
              "        text-align: right;\n",
              "    }\n",
              "</style>\n",
              "<table border=\"1\" class=\"dataframe\">\n",
              "  <thead>\n",
              "    <tr style=\"text-align: right;\">\n",
              "      <th></th>\n",
              "      <th>user_id</th>\n",
              "      <th>prod_id</th>\n",
              "      <th>rating</th>\n",
              "      <th>userLabel</th>\n",
              "    </tr>\n",
              "  </thead>\n",
              "  <tbody>\n",
              "    <tr>\n",
              "      <th>0</th>\n",
              "      <td>8367</td>\n",
              "      <td>3889</td>\n",
              "      <td>4.0</td>\n",
              "      <td>0</td>\n",
              "    </tr>\n",
              "    <tr>\n",
              "      <th>1</th>\n",
              "      <td>8367</td>\n",
              "      <td>2857</td>\n",
              "      <td>4.0</td>\n",
              "      <td>0</td>\n",
              "    </tr>\n",
              "    <tr>\n",
              "      <th>2</th>\n",
              "      <td>8367</td>\n",
              "      <td>46</td>\n",
              "      <td>4.0</td>\n",
              "      <td>0</td>\n",
              "    </tr>\n",
              "    <tr>\n",
              "      <th>3</th>\n",
              "      <td>8367</td>\n",
              "      <td>57</td>\n",
              "      <td>3.0</td>\n",
              "      <td>0</td>\n",
              "    </tr>\n",
              "    <tr>\n",
              "      <th>4</th>\n",
              "      <td>8367</td>\n",
              "      <td>113</td>\n",
              "      <td>3.0</td>\n",
              "      <td>0</td>\n",
              "    </tr>\n",
              "  </tbody>\n",
              "</table>\n",
              "</div>\n",
              "      <button class=\"colab-df-convert\" onclick=\"convertToInteractive('df-af702f1c-4e17-47c1-990e-80d6789e5e09')\"\n",
              "              title=\"Convert this dataframe to an interactive table.\"\n",
              "              style=\"display:none;\">\n",
              "        \n",
              "  <svg xmlns=\"http://www.w3.org/2000/svg\" height=\"24px\"viewBox=\"0 0 24 24\"\n",
              "       width=\"24px\">\n",
              "    <path d=\"M0 0h24v24H0V0z\" fill=\"none\"/>\n",
              "    <path d=\"M18.56 5.44l.94 2.06.94-2.06 2.06-.94-2.06-.94-.94-2.06-.94 2.06-2.06.94zm-11 1L8.5 8.5l.94-2.06 2.06-.94-2.06-.94L8.5 2.5l-.94 2.06-2.06.94zm10 10l.94 2.06.94-2.06 2.06-.94-2.06-.94-.94-2.06-.94 2.06-2.06.94z\"/><path d=\"M17.41 7.96l-1.37-1.37c-.4-.4-.92-.59-1.43-.59-.52 0-1.04.2-1.43.59L10.3 9.45l-7.72 7.72c-.78.78-.78 2.05 0 2.83L4 21.41c.39.39.9.59 1.41.59.51 0 1.02-.2 1.41-.59l7.78-7.78 2.81-2.81c.8-.78.8-2.07 0-2.86zM5.41 20L4 18.59l7.72-7.72 1.47 1.35L5.41 20z\"/>\n",
              "  </svg>\n",
              "      </button>\n",
              "      \n",
              "  <style>\n",
              "    .colab-df-container {\n",
              "      display:flex;\n",
              "      flex-wrap:wrap;\n",
              "      gap: 12px;\n",
              "    }\n",
              "\n",
              "    .colab-df-convert {\n",
              "      background-color: #E8F0FE;\n",
              "      border: none;\n",
              "      border-radius: 50%;\n",
              "      cursor: pointer;\n",
              "      display: none;\n",
              "      fill: #1967D2;\n",
              "      height: 32px;\n",
              "      padding: 0 0 0 0;\n",
              "      width: 32px;\n",
              "    }\n",
              "\n",
              "    .colab-df-convert:hover {\n",
              "      background-color: #E2EBFA;\n",
              "      box-shadow: 0px 1px 2px rgba(60, 64, 67, 0.3), 0px 1px 3px 1px rgba(60, 64, 67, 0.15);\n",
              "      fill: #174EA6;\n",
              "    }\n",
              "\n",
              "    [theme=dark] .colab-df-convert {\n",
              "      background-color: #3B4455;\n",
              "      fill: #D2E3FC;\n",
              "    }\n",
              "\n",
              "    [theme=dark] .colab-df-convert:hover {\n",
              "      background-color: #434B5C;\n",
              "      box-shadow: 0px 1px 3px 1px rgba(0, 0, 0, 0.15);\n",
              "      filter: drop-shadow(0px 1px 2px rgba(0, 0, 0, 0.3));\n",
              "      fill: #FFFFFF;\n",
              "    }\n",
              "  </style>\n",
              "\n",
              "      <script>\n",
              "        const buttonEl =\n",
              "          document.querySelector('#df-af702f1c-4e17-47c1-990e-80d6789e5e09 button.colab-df-convert');\n",
              "        buttonEl.style.display =\n",
              "          google.colab.kernel.accessAllowed ? 'block' : 'none';\n",
              "\n",
              "        async function convertToInteractive(key) {\n",
              "          const element = document.querySelector('#df-af702f1c-4e17-47c1-990e-80d6789e5e09');\n",
              "          const dataTable =\n",
              "            await google.colab.kernel.invokeFunction('convertToInteractive',\n",
              "                                                     [key], {});\n",
              "          if (!dataTable) return;\n",
              "\n",
              "          const docLinkHtml = 'Like what you see? Visit the ' +\n",
              "            '<a target=\"_blank\" href=https://colab.research.google.com/notebooks/data_table.ipynb>data table notebook</a>'\n",
              "            + ' to learn more about interactive tables.';\n",
              "          element.innerHTML = '';\n",
              "          dataTable['output_type'] = 'display_data';\n",
              "          await google.colab.output.renderOutput(dataTable, element);\n",
              "          const docLink = document.createElement('div');\n",
              "          docLink.innerHTML = docLinkHtml;\n",
              "          element.appendChild(docLink);\n",
              "        }\n",
              "      </script>\n",
              "    </div>\n",
              "  </div>\n",
              "  "
            ]
          },
          "metadata": {},
          "execution_count": 71
        }
      ]
    },
    {
      "cell_type": "code",
      "source": [
        "YZ2_chart = sns.countplot(x=\"rating\", hue=\"userLabel\", data=YZ2)"
      ],
      "metadata": {
        "colab": {
          "base_uri": "https://localhost:8080/",
          "height": 285
        },
        "id": "xLm0Cdtl-uX8",
        "outputId": "a9e567c1-3938-4c2e-f99c-bda0aea449a1"
      },
      "execution_count": null,
      "outputs": [
        {
          "output_type": "display_data",
          "data": {
            "text/plain": [
              "<Figure size 432x288 with 1 Axes>"
            ],
            "image/png": "[encoded data removed]"
          },
          "metadata": {}
        }
      ]
    },
    {
      "cell_type": "code",
      "source": [
        "#Count the number of ratings\n",
        "print(\"Number of rating by fake users: \", YZ2[(YZ2.userLabel == 1)]['rating'].count())\n",
        "print('Number of ratings for fake users:')\n",
        "print(YZ2[(YZ2.userLabel == 1)].groupby('rating').size())"
      ],
      "metadata": {
        "colab": {
          "base_uri": "https://localhost:8080/"
        },
        "id": "4RgtEyTQ-3-q",
        "outputId": "55ce5165-6fdf-4608-b347-fec07e456148"
      },
      "execution_count": null,
      "outputs": [
        {
          "output_type": "stream",
          "name": "stdout",
          "text": [
            "Number of rating by fake users:  6041\n",
            "Number of ratings for fake users:\n",
            "rating\n",
            "1.0     241\n",
            "2.0     415\n",
            "3.0    1029\n",
            "4.0    2279\n",
            "5.0    2077\n",
            "dtype: int64\n"
          ]
        }
      ]
    },
    {
      "cell_type": "code",
      "source": [
        "#Count the number of ratings\n",
        "print(\"Number of rating by real users: \", YZ2[(YZ2.userLabel == 0)]['rating'].count())\n",
        "print('Number of ratings for real users:')\n",
        "print(YZ2[(YZ2.userLabel == 0)].groupby('rating').size())"
      ],
      "metadata": {
        "colab": {
          "base_uri": "https://localhost:8080/"
        },
        "id": "jBBKthNl_LtC",
        "outputId": "f7d96049-774f-4ff8-b4f7-477d6f323fe5"
      },
      "execution_count": null,
      "outputs": [
        {
          "output_type": "stream",
          "name": "stdout",
          "text": [
            "Number of rating by real users:  167407\n",
            "Number of ratings for real users:\n",
            "rating\n",
            "1.0     3629\n",
            "2.0    11130\n",
            "3.0    33830\n",
            "4.0    74279\n",
            "5.0    44539\n",
            "dtype: int64\n"
          ]
        }
      ]
    },
    {
      "cell_type": "markdown",
      "source": [
        "### Scenario 3: Remove some genuine users randomly"
      ],
      "metadata": {
        "id": "Pxm5wBv1_1fX"
      }
    },
    {
      "cell_type": "markdown",
      "source": [
        "#### Extracting data"
      ],
      "metadata": {
        "id": "eqQJDrRCAo6Z"
      }
    },
    {
      "cell_type": "code",
      "source": [
        "YZ3_labels=YZ2_labels.drop(YZ2_labels.query('userLabel == 0').sample(frac=.84).index)\n"
      ],
      "metadata": {
        "id": "qQwzALCf_98l"
      },
      "execution_count": null,
      "outputs": []
    },
    {
      "cell_type": "code",
      "source": [
        "#Number of users:\n",
        "print(\"Number of users in the dataset: \", YZ3_labels['user_id'].count())\n",
        "\n",
        "#Count the users of 2 classes (Genuine/Fake)\n",
        "print('Number of fake and real users:')\n",
        "print(YZ3_labels.groupby('userLabel').size())\n",
        "\n",
        "#Create pie chart\n",
        "import matplotlib.pyplot as plt\n",
        "YZ3_labels.groupby('userLabel').size().plot(kind='pie', autopct='%1.0f%%',\n",
        "                                colors = ['red', 'pink', 'steelblue'],\n",
        "                                title='Percentages of real and fake reviews')"
      ],
      "metadata": {
        "colab": {
          "base_uri": "https://localhost:8080/",
          "height": 386
        },
        "id": "JTCeE-CvDElS",
        "outputId": "97dc8668-e1e3-4f67-d4ae-fa6d0c024dc4"
      },
      "execution_count": null,
      "outputs": [
        {
          "output_type": "stream",
          "name": "stdout",
          "text": [
            "Number of users in the dataset:  1629\n",
            "Number of fake and real users:\n",
            "userLabel\n",
            "0    1300\n",
            "1     329\n",
            "dtype: int64\n"
          ]
        },
        {
          "output_type": "execute_result",
          "data": {
            "text/plain": [
              "<matplotlib.axes._subplots.AxesSubplot at 0x7f1e1d81fd50>"
            ]
          },
          "metadata": {},
          "execution_count": 89
        },
        {
          "output_type": "display_data",
          "data": {
            "text/plain": [
              "<Figure size 432x288 with 1 Axes>"
            ],
            "image/png": "[encoded data removed]"
          },
          "metadata": {}
        }
      ]
    },
    {
      "cell_type": "code",
      "source": [
        "YZ3_profiles = pd.merge(YZ2_profiles,YZ3_labels[['user_id']],on='user_id')"
      ],
      "metadata": {
        "id": "fVys0ZixA6rf"
      },
      "execution_count": null,
      "outputs": []
    },
    {
      "cell_type": "code",
      "source": [
        "#Number of ratings:\n",
        "print(\"Number of rating in the dataset: \", YZ3_profiles['rating'].count())\n",
        "\n",
        "#Count the number of ratings\n",
        "print('Number of ratings:')\n",
        "print(YZ3_profiles.groupby('rating').size())\n",
        "\n",
        "#Create pie chart\n",
        "import matplotlib.pyplot as plt\n",
        "YZ3_profiles.groupby('rating').size().plot(kind='pie', autopct='%1.0f%%',\n",
        "                                title='Percentages of ratings')"
      ],
      "metadata": {
        "colab": {
          "base_uri": "https://localhost:8080/",
          "height": 438
        },
        "id": "IByGVKA3EuZ5",
        "outputId": "e75d114b-ab6c-4ed0-ba4a-6e3558662789"
      },
      "execution_count": null,
      "outputs": [
        {
          "output_type": "stream",
          "name": "stdout",
          "text": [
            "Number of rating in the dataset:  33682\n",
            "Number of ratings:\n",
            "rating\n",
            "1.0      841\n",
            "2.0     2240\n",
            "3.0     6673\n",
            "4.0    14714\n",
            "5.0     9214\n",
            "dtype: int64\n"
          ]
        },
        {
          "output_type": "execute_result",
          "data": {
            "text/plain": [
              "<matplotlib.axes._subplots.AxesSubplot at 0x7f1e1d3a6450>"
            ]
          },
          "metadata": {},
          "execution_count": 92
        },
        {
          "output_type": "display_data",
          "data": {
            "text/plain": [
              "<Figure size 432x288 with 1 Axes>"
            ],
            "image/png": "[encoded data removed]"
          },
          "metadata": {}
        }
      ]
    },
    {
      "cell_type": "code",
      "source": [
        "#Write to txt files\n",
        "YZ3_labels.to_csv('YZ3_labels.txt', header=None, index=None, sep=' ', mode='a')\n",
        "YZ3_profiles.to_csv('YZ3_profiles.txt', header=None, index=None, sep=' ', mode='a')"
      ],
      "metadata": {
        "id": "zDeWdD09EWxY"
      },
      "execution_count": null,
      "outputs": []
    },
    {
      "cell_type": "markdown",
      "source": [
        "#### Data Exploration"
      ],
      "metadata": {
        "id": "G-52dSCCE_cT"
      }
    },
    {
      "cell_type": "code",
      "source": [
        "#Calculate rating count:\n",
        "# find out the number of ratings by users\n",
        "\n",
        "#Create a new dataframe with user_id and a count column:\n",
        "pd.set_option('max_colwidth', 50)\n",
        "userdf3 = YZ3_profiles['user_id'].value_counts().to_frame('ratingCount').rename_axis('user_id').reset_index().sort_values(by='ratingCount',ascending=False)\n",
        "print(userdf3.head(20))"
      ],
      "metadata": {
        "colab": {
          "base_uri": "https://localhost:8080/"
        },
        "id": "D0S4cAP_E_B7",
        "outputId": "e30bbc0a-5550-4b38-d11c-6b2aaa9a2cb3"
      },
      "execution_count": null,
      "outputs": [
        {
          "output_type": "stream",
          "name": "stdout",
          "text": [
            "    user_id  ratingCount\n",
            "0      7777          136\n",
            "1      9105          132\n",
            "2     13937          126\n",
            "3     14255          116\n",
            "4      9679          109\n",
            "5     17116          109\n",
            "6      6901           99\n",
            "7     10252           97\n",
            "8     10339           97\n",
            "9      8572           95\n",
            "10     9102           91\n",
            "11     5577           89\n",
            "12    13718           88\n",
            "13     5527           87\n",
            "14     7848           82\n",
            "15    10119           81\n",
            "16     5612           80\n",
            "17    10640           80\n",
            "18     8226           79\n",
            "19     7035           78\n"
          ]
        }
      ]
    },
    {
      "cell_type": "code",
      "source": [
        "ratingcountdf3 = userdf3['ratingCount'].value_counts().to_frame('countFrequent').rename_axis('ratingCount').reset_index().sort_values(by='countFrequent',ascending=False)\n",
        "print(ratingcountdf3.head(20))"
      ],
      "metadata": {
        "colab": {
          "base_uri": "https://localhost:8080/"
        },
        "id": "M5UGP4--Fqp8",
        "outputId": "2bc4ca09-3a9a-4412-f500-d2b1c102e590"
      },
      "execution_count": null,
      "outputs": [
        {
          "output_type": "stream",
          "name": "stdout",
          "text": [
            "    ratingCount  countFrequent\n",
            "0            10            233\n",
            "1            11            186\n",
            "2            12            145\n",
            "3            13            100\n",
            "4            15             90\n",
            "5            14             86\n",
            "6            17             63\n",
            "7            16             63\n",
            "8            18             61\n",
            "9            21             45\n",
            "10           20             44\n",
            "11           19             42\n",
            "12           23             33\n",
            "13           26             32\n",
            "14           24             26\n",
            "15           29             25\n",
            "16           25             24\n",
            "17           28             21\n",
            "18           22             21\n",
            "19           27             19\n"
          ]
        }
      ]
    },
    {
      "cell_type": "code",
      "source": [
        "YZ3 = pd.merge(YZ3_profiles, YZ3_labels, on=['user_id'])\n",
        "YZ3.head()"
      ],
      "metadata": {
        "colab": {
          "base_uri": "https://localhost:8080/",
          "height": 206
        },
        "id": "EY1ZwUNVGLx0",
        "outputId": "0f1d2590-581b-452a-9b6f-68589b900b28"
      },
      "execution_count": null,
      "outputs": [
        {
          "output_type": "execute_result",
          "data": {
            "text/plain": [
              "   user_id  prod_id  rating  userLabel\n",
              "0     7777        9     1.0          0\n",
              "1     7777       71     3.0          0\n",
              "2     7777      646     4.0          0\n",
              "3     7777      127     3.0          0\n",
              "4     7777      143     3.0          0"
            ],
            "text/html": [
              "\n",
              "  <div id=\"df-6442d91a-ed1f-4a2a-bad1-3501e2ba86c4\">\n",
              "    <div class=\"colab-df-container\">\n",
              "      <div>\n",
              "<style scoped>\n",
              "    .dataframe tbody tr th:only-of-type {\n",
              "        vertical-align: middle;\n",
              "    }\n",
              "\n",
              "    .dataframe tbody tr th {\n",
              "        vertical-align: top;\n",
              "    }\n",
              "\n",
              "    .dataframe thead th {\n",
              "        text-align: right;\n",
              "    }\n",
              "</style>\n",
              "<table border=\"1\" class=\"dataframe\">\n",
              "  <thead>\n",
              "    <tr style=\"text-align: right;\">\n",
              "      <th></th>\n",
              "      <th>user_id</th>\n",
              "      <th>prod_id</th>\n",
              "      <th>rating</th>\n",
              "      <th>userLabel</th>\n",
              "    </tr>\n",
              "  </thead>\n",
              "  <tbody>\n",
              "    <tr>\n",
              "      <th>0</th>\n",
              "      <td>7777</td>\n",
              "      <td>9</td>\n",
              "      <td>1.0</td>\n",
              "      <td>0</td>\n",
              "    </tr>\n",
              "    <tr>\n",
              "      <th>1</th>\n",
              "      <td>7777</td>\n",
              "      <td>71</td>\n",
              "      <td>3.0</td>\n",
              "      <td>0</td>\n",
              "    </tr>\n",
              "    <tr>\n",
              "      <th>2</th>\n",
              "      <td>7777</td>\n",
              "      <td>646</td>\n",
              "      <td>4.0</td>\n",
              "      <td>0</td>\n",
              "    </tr>\n",
              "    <tr>\n",
              "      <th>3</th>\n",
              "      <td>7777</td>\n",
              "      <td>127</td>\n",
              "      <td>3.0</td>\n",
              "      <td>0</td>\n",
              "    </tr>\n",
              "    <tr>\n",
              "      <th>4</th>\n",
              "      <td>7777</td>\n",
              "      <td>143</td>\n",
              "      <td>3.0</td>\n",
              "      <td>0</td>\n",
              "    </tr>\n",
              "  </tbody>\n",
              "</table>\n",
              "</div>\n",
              "      <button class=\"colab-df-convert\" onclick=\"convertToInteractive('df-6442d91a-ed1f-4a2a-bad1-3501e2ba86c4')\"\n",
              "              title=\"Convert this dataframe to an interactive table.\"\n",
              "              style=\"display:none;\">\n",
              "        \n",
              "  <svg xmlns=\"http://www.w3.org/2000/svg\" height=\"24px\"viewBox=\"0 0 24 24\"\n",
              "       width=\"24px\">\n",
              "    <path d=\"M0 0h24v24H0V0z\" fill=\"none\"/>\n",
              "    <path d=\"M18.56 5.44l.94 2.06.94-2.06 2.06-.94-2.06-.94-.94-2.06-.94 2.06-2.06.94zm-11 1L8.5 8.5l.94-2.06 2.06-.94-2.06-.94L8.5 2.5l-.94 2.06-2.06.94zm10 10l.94 2.06.94-2.06 2.06-.94-2.06-.94-.94-2.06-.94 2.06-2.06.94z\"/><path d=\"M17.41 7.96l-1.37-1.37c-.4-.4-.92-.59-1.43-.59-.52 0-1.04.2-1.43.59L10.3 9.45l-7.72 7.72c-.78.78-.78 2.05 0 2.83L4 21.41c.39.39.9.59 1.41.59.51 0 1.02-.2 1.41-.59l7.78-7.78 2.81-2.81c.8-.78.8-2.07 0-2.86zM5.41 20L4 18.59l7.72-7.72 1.47 1.35L5.41 20z\"/>\n",
              "  </svg>\n",
              "      </button>\n",
              "      \n",
              "  <style>\n",
              "    .colab-df-container {\n",
              "      display:flex;\n",
              "      flex-wrap:wrap;\n",
              "      gap: 12px;\n",
              "    }\n",
              "\n",
              "    .colab-df-convert {\n",
              "      background-color: #E8F0FE;\n",
              "      border: none;\n",
              "      border-radius: 50%;\n",
              "      cursor: pointer;\n",
              "      display: none;\n",
              "      fill: #1967D2;\n",
              "      height: 32px;\n",
              "      padding: 0 0 0 0;\n",
              "      width: 32px;\n",
              "    }\n",
              "\n",
              "    .colab-df-convert:hover {\n",
              "      background-color: #E2EBFA;\n",
              "      box-shadow: 0px 1px 2px rgba(60, 64, 67, 0.3), 0px 1px 3px 1px rgba(60, 64, 67, 0.15);\n",
              "      fill: #174EA6;\n",
              "    }\n",
              "\n",
              "    [theme=dark] .colab-df-convert {\n",
              "      background-color: #3B4455;\n",
              "      fill: #D2E3FC;\n",
              "    }\n",
              "\n",
              "    [theme=dark] .colab-df-convert:hover {\n",
              "      background-color: #434B5C;\n",
              "      box-shadow: 0px 1px 3px 1px rgba(0, 0, 0, 0.15);\n",
              "      filter: drop-shadow(0px 1px 2px rgba(0, 0, 0, 0.3));\n",
              "      fill: #FFFFFF;\n",
              "    }\n",
              "  </style>\n",
              "\n",
              "      <script>\n",
              "        const buttonEl =\n",
              "          document.querySelector('#df-6442d91a-ed1f-4a2a-bad1-3501e2ba86c4 button.colab-df-convert');\n",
              "        buttonEl.style.display =\n",
              "          google.colab.kernel.accessAllowed ? 'block' : 'none';\n",
              "\n",
              "        async function convertToInteractive(key) {\n",
              "          const element = document.querySelector('#df-6442d91a-ed1f-4a2a-bad1-3501e2ba86c4');\n",
              "          const dataTable =\n",
              "            await google.colab.kernel.invokeFunction('convertToInteractive',\n",
              "                                                     [key], {});\n",
              "          if (!dataTable) return;\n",
              "\n",
              "          const docLinkHtml = 'Like what you see? Visit the ' +\n",
              "            '<a target=\"_blank\" href=https://colab.research.google.com/notebooks/data_table.ipynb>data table notebook</a>'\n",
              "            + ' to learn more about interactive tables.';\n",
              "          element.innerHTML = '';\n",
              "          dataTable['output_type'] = 'display_data';\n",
              "          await google.colab.output.renderOutput(dataTable, element);\n",
              "          const docLink = document.createElement('div');\n",
              "          docLink.innerHTML = docLinkHtml;\n",
              "          element.appendChild(docLink);\n",
              "        }\n",
              "      </script>\n",
              "    </div>\n",
              "  </div>\n",
              "  "
            ]
          },
          "metadata": {},
          "execution_count": 96
        }
      ]
    },
    {
      "cell_type": "code",
      "source": [
        "YZ3_chart = sns.countplot(x=\"rating\", hue=\"userLabel\", data=YZ3)"
      ],
      "metadata": {
        "colab": {
          "base_uri": "https://localhost:8080/",
          "height": 285
        },
        "id": "e3883LbxGU6X",
        "outputId": "7370f1d7-ab04-403e-9bee-5e2fb00e8885"
      },
      "execution_count": null,
      "outputs": [
        {
          "output_type": "display_data",
          "data": {
            "text/plain": [
              "<Figure size 432x288 with 1 Axes>"
            ],
            "image/png": "[encoded data removed]"
          },
          "metadata": {}
        }
      ]
    },
    {
      "cell_type": "code",
      "source": [
        "#Count the number of ratings\n",
        "print(\"Number of rating by fake users: \", YZ3[(YZ3.userLabel == 1)]['rating'].count())\n",
        "print('Number of ratings for fake users:')\n",
        "print(YZ3[(YZ3.userLabel == 1)].groupby('rating').size())"
      ],
      "metadata": {
        "colab": {
          "base_uri": "https://localhost:8080/"
        },
        "id": "wrlT8P2PIFN_",
        "outputId": "28638943-b75c-4442-c835-b4a1a8521e20"
      },
      "execution_count": null,
      "outputs": [
        {
          "output_type": "stream",
          "name": "stdout",
          "text": [
            "Number of rating by fake users:  6041\n",
            "Number of ratings for fake users:\n",
            "rating\n",
            "1.0     241\n",
            "2.0     415\n",
            "3.0    1029\n",
            "4.0    2279\n",
            "5.0    2077\n",
            "dtype: int64\n"
          ]
        }
      ]
    },
    {
      "cell_type": "code",
      "source": [
        "#Count the number of ratings\n",
        "print(\"Number of rating by real users: \", YZ3[(YZ3.userLabel == 0)]['rating'].count())\n",
        "print('Number of ratings for real users:')\n",
        "print(YZ3[(YZ3.userLabel == 0)].groupby('rating').size())"
      ],
      "metadata": {
        "colab": {
          "base_uri": "https://localhost:8080/"
        },
        "id": "qr70CCcHIb8W",
        "outputId": "91152c01-a3a0-4b2f-ef27-d315dfc2b3c5"
      },
      "execution_count": null,
      "outputs": [
        {
          "output_type": "stream",
          "name": "stdout",
          "text": [
            "Number of rating by real users:  27641\n",
            "Number of ratings for real users:\n",
            "rating\n",
            "1.0      600\n",
            "2.0     1825\n",
            "3.0     5644\n",
            "4.0    12435\n",
            "5.0     7137\n",
            "dtype: int64\n"
          ]
        }
      ]
    },
    {
      "cell_type": "markdown",
      "source": [
        "### Scenario 4: >=10 reviews, 35% fake users"
      ],
      "metadata": {
        "id": "N9DqdzQGem2V"
      }
    },
    {
      "cell_type": "code",
      "source": [
        "#Remove reviews of users with less than 5 reviews\n",
        "df3 = df[df['reviewCount'] >= 10]\n",
        "df3.shape[0]"
      ],
      "metadata": {
        "colab": {
          "base_uri": "https://localhost:8080/"
        },
        "id": "ORMPkiWEeltU",
        "outputId": "66247d5c-ff40-4f98-e274-90219e078848"
      },
      "execution_count": null,
      "outputs": [
        {
          "output_type": "execute_result",
          "data": {
            "text/plain": [
              "173448"
            ]
          },
          "metadata": {},
          "execution_count": 51
        }
      ]
    },
    {
      "cell_type": "code",
      "source": [
        "df3['realReviewsCount']=df3.groupby('user_id')['label'].transform(lambda x : x.loc[x==1].count())\n",
        "df3['fakeReviewsCount']=df3['reviewCount'] - df3['realReviewsCount']\n",
        "\n",
        "#Label users: if fakeReviewsCount >= realReviewsCount: Fake user\n",
        "#Fake user: 1, real user: 0\n",
        "df3['userLabel'] = np.where(df3 ['fakeReviewsCount'] > 0, 1, 0)\n",
        "\n",
        "print(df3.head())"
      ],
      "metadata": {
        "colab": {
          "base_uri": "https://localhost:8080/"
        },
        "id": "3RQBT_DzfuwC",
        "outputId": "943aadc4-39da-48cf-932e-b36a239904ec"
      },
      "execution_count": null,
      "outputs": [
        {
          "output_type": "stream",
          "name": "stdout",
          "text": [
            "   Unnamed: 0  user_id  prod_id  rating  label        date  \\\n",
            "0           0     8367     3889     4.0      1  2013-01-23   \n",
            "1           1     8367     2857     4.0      1  2011-02-23   \n",
            "2           2     8367       46     4.0      1  2013-05-20   \n",
            "3           3     8367       57     3.0      1  2011-01-30   \n",
            "4           4     8367      113     3.0      1  2011-05-25   \n",
            "\n",
            "                                              review             prod_name  \\\n",
            "0  I had a hankering for Thai and Jasmine Rice wa...          Jasmine Rice   \n",
            "1  Knock fills the much-needed niche of the class...                 Knock   \n",
            "2  So a pitcher of margaritas will set you back f...       Las Bugambilias   \n",
            "3  In all honesty, I really do like Continental M...  Continental Mid-town   \n",
            "4  Everyone always told me how much better Vietna...    Vietnam Restaurant   \n",
            "\n",
            "   reviewCount  daysInSystem  ...   RD    OOR   WC  compound    neg    neu  \\\n",
            "0          197             0  ...  0.0   54.0  126    0.9199  0.000  0.869   \n",
            "1          197             0  ...  0.0   40.0  117    0.9647  0.033  0.765   \n",
            "2          197             0  ...  0.0  165.0  106    0.8858  0.000  0.896   \n",
            "3          197             0  ...  0.0  290.0  287    0.9270  0.062  0.837   \n",
            "4          197             0  ...  0.0  154.0  155    0.9926  0.022  0.719   \n",
            "\n",
            "     pos  realReviewsCount  fakeReviewsCount  userLabel  \n",
            "0  0.131               197                 0          0  \n",
            "1  0.201               197                 0          0  \n",
            "2  0.104               197                 0          0  \n",
            "3  0.101               197                 0          0  \n",
            "4  0.259               197                 0          0  \n",
            "\n",
            "[5 rows x 25 columns]\n"
          ]
        },
        {
          "output_type": "stream",
          "name": "stderr",
          "text": [
            "/usr/local/lib/python3.7/dist-packages/ipykernel_launcher.py:1: SettingWithCopyWarning: \n",
            "A value is trying to be set on a copy of a slice from a DataFrame.\n",
            "Try using .loc[row_indexer,col_indexer] = value instead\n",
            "\n",
            "See the caveats in the documentation: https://pandas.pydata.org/pandas-docs/stable/user_guide/indexing.html#returning-a-view-versus-a-copy\n",
            "  \"\"\"Entry point for launching an IPython kernel.\n",
            "/usr/local/lib/python3.7/dist-packages/ipykernel_launcher.py:2: SettingWithCopyWarning: \n",
            "A value is trying to be set on a copy of a slice from a DataFrame.\n",
            "Try using .loc[row_indexer,col_indexer] = value instead\n",
            "\n",
            "See the caveats in the documentation: https://pandas.pydata.org/pandas-docs/stable/user_guide/indexing.html#returning-a-view-versus-a-copy\n",
            "  \n",
            "/usr/local/lib/python3.7/dist-packages/ipykernel_launcher.py:6: SettingWithCopyWarning: \n",
            "A value is trying to be set on a copy of a slice from a DataFrame.\n",
            "Try using .loc[row_indexer,col_indexer] = value instead\n",
            "\n",
            "See the caveats in the documentation: https://pandas.pydata.org/pandas-docs/stable/user_guide/indexing.html#returning-a-view-versus-a-copy\n",
            "  \n"
          ]
        }
      ]
    },
    {
      "cell_type": "code",
      "source": [
        "#Create a file with labels of all users:\n",
        "YZ4a_labels = df3[['user_id', 'userLabel']].drop_duplicates()\n",
        "YZ4a_profiles = df3[['user_id', 'prod_id', 'rating']]"
      ],
      "metadata": {
        "id": "gYwsChlmgDzk"
      },
      "execution_count": null,
      "outputs": []
    },
    {
      "cell_type": "code",
      "source": [
        "YZ4_labels=YZ4a_labels.drop(YZ4a_labels.query('userLabel == 0').sample(frac=.925).index)"
      ],
      "metadata": {
        "id": "-W4kw6BHgMQ5"
      },
      "execution_count": null,
      "outputs": []
    },
    {
      "cell_type": "code",
      "source": [
        "#Number of users:\n",
        "print(\"Number of users in the dataset: \", YZ4_labels['user_id'].count())\n",
        "\n",
        "#Count the users of 2 classes (Genuine/Fake)\n",
        "print('Number of fake and real users:')\n",
        "print(YZ4_labels.groupby('userLabel').size())\n",
        "\n",
        "#Create pie chart\n",
        "import matplotlib.pyplot as plt\n",
        "YZ4_labels.groupby('userLabel').size().plot(kind='pie', autopct='%1.0f%%',\n",
        "                                colors = ['red', 'pink', 'steelblue'],\n",
        "                                title='Percentages of real and fake reviews')"
      ],
      "metadata": {
        "colab": {
          "base_uri": "https://localhost:8080/",
          "height": 386
        },
        "id": "fsfkgTJUgVla",
        "outputId": "69c293f1-0417-4944-afed-5455a2b36651"
      },
      "execution_count": null,
      "outputs": [
        {
          "output_type": "stream",
          "name": "stdout",
          "text": [
            "Number of users in the dataset:  938\n",
            "Number of fake and real users:\n",
            "userLabel\n",
            "0    609\n",
            "1    329\n",
            "dtype: int64\n"
          ]
        },
        {
          "output_type": "execute_result",
          "data": {
            "text/plain": [
              "<matplotlib.axes._subplots.AxesSubplot at 0x7f0c1e70bd10>"
            ]
          },
          "metadata": {},
          "execution_count": 57
        },
        {
          "output_type": "display_data",
          "data": {
            "text/plain": [
              "<Figure size 432x288 with 1 Axes>"
            ],
            "image/png": "[encoded data removed]"
          },
          "metadata": {}
        }
      ]
    },
    {
      "cell_type": "code",
      "source": [
        "YZ4_profiles = pd.merge(YZ4a_profiles,YZ4_labels[['user_id']],on='user_id')"
      ],
      "metadata": {
        "id": "SqPdDOT-g6uP"
      },
      "execution_count": null,
      "outputs": []
    },
    {
      "cell_type": "code",
      "source": [
        "#Number of ratings:\n",
        "print(\"Number of rating in the dataset: \", YZ4_profiles['rating'].count())\n",
        "\n",
        "#Count the number of ratings\n",
        "print('Number of ratings:')\n",
        "print(YZ4_profiles.groupby('rating').size())\n",
        "\n",
        "#Create pie chart\n",
        "import matplotlib.pyplot as plt\n",
        "YZ4_profiles.groupby('rating').size().plot(kind='pie', autopct='%1.0f%%',\n",
        "                                title='Percentages of ratings')"
      ],
      "metadata": {
        "colab": {
          "base_uri": "https://localhost:8080/",
          "height": 438
        },
        "id": "cS4PhV-LhSX1",
        "outputId": "ae7bc4fe-1264-46d9-cd88-81f7bdf4b65f"
      },
      "execution_count": null,
      "outputs": [
        {
          "output_type": "stream",
          "name": "stdout",
          "text": [
            "Number of rating in the dataset:  18533\n",
            "Number of ratings:\n",
            "rating\n",
            "1.0     508\n",
            "2.0    1240\n",
            "3.0    3600\n",
            "4.0    7883\n",
            "5.0    5302\n",
            "dtype: int64\n"
          ]
        },
        {
          "output_type": "execute_result",
          "data": {
            "text/plain": [
              "<matplotlib.axes._subplots.AxesSubplot at 0x7f0c1e6dcf50>"
            ]
          },
          "metadata": {},
          "execution_count": 59
        },
        {
          "output_type": "display_data",
          "data": {
            "text/plain": [
              "<Figure size 432x288 with 1 Axes>"
            ],
            "image/png": "[encoded data removed]"
          },
          "metadata": {}
        }
      ]
    },
    {
      "cell_type": "code",
      "source": [
        "#Write to txt files\n",
        "YZ4_labels.to_csv('YZ4_labels.txt', header=None, index=None, sep=' ', mode='a')\n",
        "YZ4_profiles.to_csv('YZ4_profiles.txt', header=None, index=None, sep=' ', mode='a')"
      ],
      "metadata": {
        "id": "Tf8Ej0LmhYlm"
      },
      "execution_count": null,
      "outputs": []
    },
    {
      "cell_type": "code",
      "source": [
        "#Calculate rating count:\n",
        "# find out the number of ratings by users\n",
        "\n",
        "#Create a new dataframe with user_id and a count column:\n",
        "pd.set_option('max_colwidth', 50)\n",
        "userdf4 = YZ4_profiles['user_id'].value_counts().to_frame('ratingCount').rename_axis('user_id').reset_index().sort_values(by='ratingCount',ascending=False)\n",
        "print(userdf4.head(20))"
      ],
      "metadata": {
        "colab": {
          "base_uri": "https://localhost:8080/"
        },
        "id": "2VI7lBHI6vvz",
        "outputId": "532c7150-a409-416c-ae73-768fe68e4d2f"
      },
      "execution_count": null,
      "outputs": [
        {
          "output_type": "stream",
          "name": "stdout",
          "text": [
            "    user_id  ratingCount\n",
            "0      7777          136\n",
            "1      8011          133\n",
            "2      9105          132\n",
            "3     13937          126\n",
            "4     14255          116\n",
            "5      7087          102\n",
            "6     13850           96\n",
            "7      7315           87\n",
            "8     13604           82\n",
            "9      8226           79\n",
            "10    15855           73\n",
            "11    16818           72\n",
            "12    15663           72\n",
            "13    24640           70\n",
            "16    12241           65\n",
            "15    13875           65\n",
            "14    13847           65\n",
            "17     5671           63\n",
            "18     8997           63\n",
            "19    12533           62\n"
          ]
        }
      ]
    },
    {
      "cell_type": "code",
      "source": [
        "ratingcountdf4 = userdf4['ratingCount'].value_counts().to_frame('countFrequent').rename_axis('ratingCount').reset_index().sort_values(by='countFrequent',ascending=False)\n",
        "print(ratingcountdf4.head(20))"
      ],
      "metadata": {
        "colab": {
          "base_uri": "https://localhost:8080/"
        },
        "id": "pMyPCVsT7H8w",
        "outputId": "809aa856-70b4-4003-c5ed-79fbd5a454b8"
      },
      "execution_count": null,
      "outputs": [
        {
          "output_type": "stream",
          "name": "stdout",
          "text": [
            "    ratingCount  countFrequent\n",
            "0            10            136\n",
            "1            11            112\n",
            "2            12             84\n",
            "3            13             76\n",
            "4            15             57\n",
            "5            14             49\n",
            "6            16             37\n",
            "7            18             33\n",
            "8            17             31\n",
            "9            19             25\n",
            "10           23             21\n",
            "11           30             20\n",
            "12           20             18\n",
            "13           22             17\n",
            "15           21             16\n",
            "14           24             16\n",
            "17           28             14\n",
            "18           25             14\n",
            "16           26             14\n",
            "19           27             13\n"
          ]
        }
      ]
    },
    {
      "cell_type": "code",
      "source": [
        "YZ4 = pd.merge(YZ4_profiles, YZ4_labels, on=['user_id'])\n",
        "YZ4.head()"
      ],
      "metadata": {
        "colab": {
          "base_uri": "https://localhost:8080/",
          "height": 206
        },
        "id": "qNfKyUjMhkgA",
        "outputId": "2f856dc1-a68f-4f54-ceb4-d206f7d33c40"
      },
      "execution_count": null,
      "outputs": [
        {
          "output_type": "execute_result",
          "data": {
            "text/plain": [
              "   user_id  prod_id  rating  userLabel\n",
              "0     7777        9     1.0          0\n",
              "1     7777       71     3.0          0\n",
              "2     7777      646     4.0          0\n",
              "3     7777      127     3.0          0\n",
              "4     7777      143     3.0          0"
            ],
            "text/html": [
              "\n",
              "  <div id=\"df-3b0a25ef-da22-443d-927f-d98052aaa863\">\n",
              "    <div class=\"colab-df-container\">\n",
              "      <div>\n",
              "<style scoped>\n",
              "    .dataframe tbody tr th:only-of-type {\n",
              "        vertical-align: middle;\n",
              "    }\n",
              "\n",
              "    .dataframe tbody tr th {\n",
              "        vertical-align: top;\n",
              "    }\n",
              "\n",
              "    .dataframe thead th {\n",
              "        text-align: right;\n",
              "    }\n",
              "</style>\n",
              "<table border=\"1\" class=\"dataframe\">\n",
              "  <thead>\n",
              "    <tr style=\"text-align: right;\">\n",
              "      <th></th>\n",
              "      <th>user_id</th>\n",
              "      <th>prod_id</th>\n",
              "      <th>rating</th>\n",
              "      <th>userLabel</th>\n",
              "    </tr>\n",
              "  </thead>\n",
              "  <tbody>\n",
              "    <tr>\n",
              "      <th>0</th>\n",
              "      <td>7777</td>\n",
              "      <td>9</td>\n",
              "      <td>1.0</td>\n",
              "      <td>0</td>\n",
              "    </tr>\n",
              "    <tr>\n",
              "      <th>1</th>\n",
              "      <td>7777</td>\n",
              "      <td>71</td>\n",
              "      <td>3.0</td>\n",
              "      <td>0</td>\n",
              "    </tr>\n",
              "    <tr>\n",
              "      <th>2</th>\n",
              "      <td>7777</td>\n",
              "      <td>646</td>\n",
              "      <td>4.0</td>\n",
              "      <td>0</td>\n",
              "    </tr>\n",
              "    <tr>\n",
              "      <th>3</th>\n",
              "      <td>7777</td>\n",
              "      <td>127</td>\n",
              "      <td>3.0</td>\n",
              "      <td>0</td>\n",
              "    </tr>\n",
              "    <tr>\n",
              "      <th>4</th>\n",
              "      <td>7777</td>\n",
              "      <td>143</td>\n",
              "      <td>3.0</td>\n",
              "      <td>0</td>\n",
              "    </tr>\n",
              "  </tbody>\n",
              "</table>\n",
              "</div>\n",
              "      <button class=\"colab-df-convert\" onclick=\"convertToInteractive('df-3b0a25ef-da22-443d-927f-d98052aaa863')\"\n",
              "              title=\"Convert this dataframe to an interactive table.\"\n",
              "              style=\"display:none;\">\n",
              "        \n",
              "  <svg xmlns=\"http://www.w3.org/2000/svg\" height=\"24px\"viewBox=\"0 0 24 24\"\n",
              "       width=\"24px\">\n",
              "    <path d=\"M0 0h24v24H0V0z\" fill=\"none\"/>\n",
              "    <path d=\"M18.56 5.44l.94 2.06.94-2.06 2.06-.94-2.06-.94-.94-2.06-.94 2.06-2.06.94zm-11 1L8.5 8.5l.94-2.06 2.06-.94-2.06-.94L8.5 2.5l-.94 2.06-2.06.94zm10 10l.94 2.06.94-2.06 2.06-.94-2.06-.94-.94-2.06-.94 2.06-2.06.94z\"/><path d=\"M17.41 7.96l-1.37-1.37c-.4-.4-.92-.59-1.43-.59-.52 0-1.04.2-1.43.59L10.3 9.45l-7.72 7.72c-.78.78-.78 2.05 0 2.83L4 21.41c.39.39.9.59 1.41.59.51 0 1.02-.2 1.41-.59l7.78-7.78 2.81-2.81c.8-.78.8-2.07 0-2.86zM5.41 20L4 18.59l7.72-7.72 1.47 1.35L5.41 20z\"/>\n",
              "  </svg>\n",
              "      </button>\n",
              "      \n",
              "  <style>\n",
              "    .colab-df-container {\n",
              "      display:flex;\n",
              "      flex-wrap:wrap;\n",
              "      gap: 12px;\n",
              "    }\n",
              "\n",
              "    .colab-df-convert {\n",
              "      background-color: #E8F0FE;\n",
              "      border: none;\n",
              "      border-radius: 50%;\n",
              "      cursor: pointer;\n",
              "      display: none;\n",
              "      fill: #1967D2;\n",
              "      height: 32px;\n",
              "      padding: 0 0 0 0;\n",
              "      width: 32px;\n",
              "    }\n",
              "\n",
              "    .colab-df-convert:hover {\n",
              "      background-color: #E2EBFA;\n",
              "      box-shadow: 0px 1px 2px rgba(60, 64, 67, 0.3), 0px 1px 3px 1px rgba(60, 64, 67, 0.15);\n",
              "      fill: #174EA6;\n",
              "    }\n",
              "\n",
              "    [theme=dark] .colab-df-convert {\n",
              "      background-color: #3B4455;\n",
              "      fill: #D2E3FC;\n",
              "    }\n",
              "\n",
              "    [theme=dark] .colab-df-convert:hover {\n",
              "      background-color: #434B5C;\n",
              "      box-shadow: 0px 1px 3px 1px rgba(0, 0, 0, 0.15);\n",
              "      filter: drop-shadow(0px 1px 2px rgba(0, 0, 0, 0.3));\n",
              "      fill: #FFFFFF;\n",
              "    }\n",
              "  </style>\n",
              "\n",
              "      <script>\n",
              "        const buttonEl =\n",
              "          document.querySelector('#df-3b0a25ef-da22-443d-927f-d98052aaa863 button.colab-df-convert');\n",
              "        buttonEl.style.display =\n",
              "          google.colab.kernel.accessAllowed ? 'block' : 'none';\n",
              "\n",
              "        async function convertToInteractive(key) {\n",
              "          const element = document.querySelector('#df-3b0a25ef-da22-443d-927f-d98052aaa863');\n",
              "          const dataTable =\n",
              "            await google.colab.kernel.invokeFunction('convertToInteractive',\n",
              "                                                     [key], {});\n",
              "          if (!dataTable) return;\n",
              "\n",
              "          const docLinkHtml = 'Like what you see? Visit the ' +\n",
              "            '<a target=\"_blank\" href=https://colab.research.google.com/notebooks/data_table.ipynb>data table notebook</a>'\n",
              "            + ' to learn more about interactive tables.';\n",
              "          element.innerHTML = '';\n",
              "          dataTable['output_type'] = 'display_data';\n",
              "          await google.colab.output.renderOutput(dataTable, element);\n",
              "          const docLink = document.createElement('div');\n",
              "          docLink.innerHTML = docLinkHtml;\n",
              "          element.appendChild(docLink);\n",
              "        }\n",
              "      </script>\n",
              "    </div>\n",
              "  </div>\n",
              "  "
            ]
          },
          "metadata": {},
          "execution_count": 63
        }
      ]
    },
    {
      "cell_type": "code",
      "source": [
        "import seaborn as sns\n",
        "\n",
        "sns.set_theme(style=\"darkgrid\")\n",
        "\n",
        "YZ4_chart = sns.countplot(x=\"rating\", hue=\"userLabel\", data=YZ4)"
      ],
      "metadata": {
        "id": "LYXXHxsThq0t",
        "outputId": "50f9624c-ff1b-4c3b-affe-ec09f2c23141",
        "colab": {
          "base_uri": "https://localhost:8080/",
          "height": 285
        }
      },
      "execution_count": null,
      "outputs": [
        {
          "output_type": "display_data",
          "data": {
            "text/plain": [
              "<Figure size 432x288 with 1 Axes>"
            ],
            "image/png": "[encoded data removed]"
          },
          "metadata": {}
        }
      ]
    },
    {
      "cell_type": "code",
      "source": [
        "#Count the number of ratings\n",
        "print(\"Number of rating by fake users: \", YZ4[(YZ4.userLabel == 1)]['rating'].count())\n",
        "print('Number of ratings for fake users:')\n",
        "print(YZ4[(YZ4.userLabel == 1)].groupby('rating').size())"
      ],
      "metadata": {
        "colab": {
          "base_uri": "https://localhost:8080/"
        },
        "id": "F-M-XJFu-P35",
        "outputId": "7274e19e-bfe2-4efb-c8f7-6f3a3e7873f1"
      },
      "execution_count": null,
      "outputs": [
        {
          "output_type": "stream",
          "name": "stdout",
          "text": [
            "Number of rating by fake users:  6041\n",
            "Number of ratings for fake users:\n",
            "rating\n",
            "1.0     241\n",
            "2.0     415\n",
            "3.0    1029\n",
            "4.0    2279\n",
            "5.0    2077\n",
            "dtype: int64\n"
          ]
        }
      ]
    },
    {
      "cell_type": "code",
      "source": [
        "#Count the number of ratings\n",
        "print(\"Number of rating by real users: \", YZ4[(YZ4.userLabel == 0)]['rating'].count())\n",
        "print('Number of ratings for real users:')\n",
        "print(YZ4[(YZ4.userLabel == 0)].groupby('rating').size())"
      ],
      "metadata": {
        "colab": {
          "base_uri": "https://localhost:8080/"
        },
        "id": "jfHA6c-l-7tM",
        "outputId": "25e078d7-2c1a-4901-c66e-ef3d94af3d55"
      },
      "execution_count": null,
      "outputs": [
        {
          "output_type": "stream",
          "name": "stdout",
          "text": [
            "Number of rating by real users:  12492\n",
            "Number of ratings for real users:\n",
            "rating\n",
            "1.0     267\n",
            "2.0     825\n",
            "3.0    2571\n",
            "4.0    5604\n",
            "5.0    3225\n",
            "dtype: int64\n"
          ]
        }
      ]
    },
    {
      "cell_type": "markdown",
      "metadata": {
        "id": "dOcPziJO5Q1I"
      },
      "source": [
        "## (4) Prediction Model"
      ]
    },
    {
      "cell_type": "markdown",
      "source": [
        "### Pre-processing"
      ],
      "metadata": {
        "id": "yoDkwHbz2fR9"
      }
    },
    {
      "cell_type": "code",
      "execution_count": null,
      "metadata": {
        "id": "mNngQ7YI1y2A"
      },
      "outputs": [],
      "source": [
        "from sklearn.tree import DecisionTreeClassifier\n",
        "from sklearn.model_selection import cross_validate\n",
        "from sklearn.metrics import confusion_matrix\n",
        "from sklearn.model_selection import train_test_split\n",
        "from sklearn.metrics import classification_report,confusion_matrix,accuracy_score,roc_auc_score\n",
        "from sklearn.preprocessing import StandardScaler"
      ]
    },
    {
      "cell_type": "code",
      "source": [
        "#Load data:\n",
        "df = pd.read_csv('features_dataset.csv')\n",
        "print(df.head())"
      ],
      "metadata": {
        "id": "9JprZSFUvR5O",
        "colab": {
          "base_uri": "https://localhost:8080/"
        },
        "outputId": "414c3cd7-b79b-4469-cd58-86250a8b812c"
      },
      "execution_count": null,
      "outputs": [
        {
          "output_type": "stream",
          "name": "stdout",
          "text": [
            "   Unnamed: 0  user_id  prod_id  rating  label        date  \\\n",
            "0           0     8367     3889     4.0      1  2013-01-23   \n",
            "1           1     8367     2857     4.0      1  2011-02-23   \n",
            "2           2     8367       46     4.0      1  2013-05-20   \n",
            "3           3     8367       57     3.0      1  2011-01-30   \n",
            "4           4     8367      113     3.0      1  2011-05-25   \n",
            "\n",
            "                                              review             prod_name  \\\n",
            "0  I had a hankering for Thai and Jasmine Rice wa...          Jasmine Rice   \n",
            "1  Knock fills the much-needed niche of the class...                 Knock   \n",
            "2  So a pitcher of margaritas will set you back f...       Las Bugambilias   \n",
            "3  In all honesty, I really do like Continental M...  Continental Mid-town   \n",
            "4  Everyone always told me how much better Vietna...    Vietnam Restaurant   \n",
            "\n",
            "   reviewCount  daysInSystem  ...       MPR   RL       RCL   RD    OOR   WC  \\\n",
            "0          197             0  ...  3.753731  126  0.027231  0.0   54.0  126   \n",
            "1          197             0  ...  3.561404  117  0.026074  0.0   40.0  117   \n",
            "2          197             0  ...  4.048889  106  0.018868  0.0  165.0  106   \n",
            "3          197             0  ...  3.606776  287  0.027177  0.0  290.0  287   \n",
            "4          197             0  ...  3.742138  155  0.018980  0.0  154.0  155   \n",
            "\n",
            "   compound    neg    neu    pos  \n",
            "0    0.9199  0.000  0.869  0.131  \n",
            "1    0.9647  0.033  0.765  0.201  \n",
            "2    0.8858  0.000  0.896  0.104  \n",
            "3    0.9270  0.062  0.837  0.101  \n",
            "4    0.9926  0.022  0.719  0.259  \n",
            "\n",
            "[5 rows x 22 columns]\n"
          ]
        }
      ]
    },
    {
      "cell_type": "code",
      "source": [
        "#Count number of missing values:\n",
        "print(\" \\nTotal NaN at each column: \\n\", df.isnull().sum())"
      ],
      "metadata": {
        "colab": {
          "base_uri": "https://localhost:8080/"
        },
        "id": "9JWM8oBwF1yS",
        "outputId": "e96544fb-96d0-4dc3-9e90-024d949269db"
      },
      "execution_count": null,
      "outputs": [
        {
          "output_type": "stream",
          "name": "stdout",
          "text": [
            " \n",
            "Total NaN at each column: \n",
            " Unnamed: 0           0\n",
            "user_id              0\n",
            "prod_id              0\n",
            "rating               0\n",
            "label                0\n",
            "date                 0\n",
            "review               0\n",
            "prod_name            0\n",
            "reviewCount          0\n",
            "daysInSystem         0\n",
            "PR               53242\n",
            "NR              357633\n",
            "MPR                  0\n",
            "RL                   0\n",
            "RCL                  0\n",
            "RD                   0\n",
            "OOR                  0\n",
            "WC                   0\n",
            "compound             0\n",
            "neg                  0\n",
            "neu                  0\n",
            "pos                  0\n",
            "dtype: int64\n"
          ]
        }
      ]
    },
    {
      "cell_type": "code",
      "source": [
        "#Replace missing data by 0\n",
        "df['PR'] = df['PR'].fillna(0)\n",
        "df['NR'] = df['NR'].fillna(0)"
      ],
      "metadata": {
        "id": "XNmKuSoIE75Q"
      },
      "execution_count": null,
      "outputs": []
    },
    {
      "cell_type": "code",
      "source": [
        "from sklearn.neural_network import MLPClassifier\n",
        "from sklearn.model_selection import train_test_split\n",
        "from sklearn.metrics import classification_report,confusion_matrix,accuracy_score,roc_auc_score\n",
        "from sklearn.preprocessing import StandardScaler\n",
        "\n",
        "#Separate features and target values\n",
        "#df.set_index([\"reviewCount\",\"daysInSystem\"])\n",
        "#Separate features and target values\n",
        "#df.set_index([\"reviewCount\",\"daysInSystem\"])\n",
        "features = df[[\"reviewCount\",\"daysInSystem\", \"rating\", \"MPR\", \"PR\", \"NR\", \"RL\", \"RCL\", \"RD\", \"OOR\", \"WC\", \"compound\", \"neg\", \"neu\", \"pos\"]]\n",
        "labels = df[\"label\"]"
      ],
      "metadata": {
        "id": "4CbL61NDqoE4"
      },
      "execution_count": null,
      "outputs": []
    },
    {
      "cell_type": "code",
      "source": [
        "print(features.shape)\n",
        "print(labels.shape)"
      ],
      "metadata": {
        "colab": {
          "base_uri": "https://localhost:8080/"
        },
        "id": "dINyb_3Hn9L1",
        "outputId": "1dc1747c-0adf-4831-90ec-b1b40df28fa8"
      },
      "execution_count": null,
      "outputs": [
        {
          "output_type": "stream",
          "name": "stdout",
          "text": [
            "(608458, 15)\n",
            "(608458,)\n"
          ]
        }
      ]
    },
    {
      "cell_type": "code",
      "source": [
        "#Splitting Data\n",
        "X_train, X_test, y_train, y_test = train_test_split(features, labels,\n",
        "                                    test_size=0.25, random_state=123)"
      ],
      "metadata": {
        "id": "zzZUSX7XOX4R"
      },
      "execution_count": null,
      "outputs": []
    },
    {
      "cell_type": "code",
      "source": [
        "#Normalize to 0-1 range using MinMaxScaler\n",
        "from sklearn.preprocessing import MinMaxScaler\n",
        "\n",
        "#Apply normalization on the training set using StandardScaler:\n",
        "norm = MinMaxScaler().fit(X_train)\n",
        "X_train_norm = norm.transform(X_train)\n",
        "X_test_norm = norm.transform(X_test)"
      ],
      "metadata": {
        "id": "NcEO00ZPDyej"
      },
      "execution_count": null,
      "outputs": []
    },
    {
      "cell_type": "code",
      "source": [
        "#Handling unbalanced data using Over-sampling:\n",
        "import imblearn\n",
        "from imblearn.over_sampling import RandomOverSampler\n",
        "\n",
        "ros = RandomOverSampler(random_state=42)\n",
        "\n",
        "# fit predictor and target X_ros, y_ros = ros.fit_resample(X_train_norm, y_train)\n",
        "\n",
        "X_resampled, y_resampled = ros.fit_resample(X_train_norm, y_train)\n",
        "\n",
        "print('shape before oversampling', y_train.shape)\n",
        "print('shape after oversampling', y_resampled.shape)"
      ],
      "metadata": {
        "colab": {
          "base_uri": "https://localhost:8080/"
        },
        "id": "AwayOwnh_MA9",
        "outputId": "aa85c23b-f301-4d6a-cff0-27318394a7d8"
      },
      "execution_count": null,
      "outputs": [
        {
          "output_type": "stream",
          "name": "stdout",
          "text": [
            "shape before oversampling (456343,)\n",
            "shape after oversampling (792166,)\n"
          ]
        }
      ]
    },
    {
      "cell_type": "markdown",
      "source": [
        "### MLP"
      ],
      "metadata": {
        "id": "Mpqvm2CRpYxJ"
      }
    },
    {
      "cell_type": "code",
      "execution_count": null,
      "metadata": {
        "colab": {
          "base_uri": "https://localhost:8080/",
          "height": 692
        },
        "id": "xsY6Ie9PaOv_",
        "outputId": "5c2b7a87-204f-4cc7-9b28-c29b3d716b76"
      },
      "outputs": [
        {
          "output_type": "stream",
          "name": "stdout",
          "text": [
            "\n",
            "hidden_layer_size =  100\n",
            "activation =  relu\n",
            "learning_Rate_init =  0.002\n",
            "Accuracy = 0.7040528547480525\n",
            "Confusion Matrix: \n",
            " [[15844  4335]\n",
            " [40683 91253]]\n",
            "Sensitivity:  0.785172704296546\n",
            "Specificity:  0.6916459495512975\n",
            "AUC:  0.7384093269239217\n"
          ]
        },
        {
          "output_type": "display_data",
          "data": {
            "text/plain": [
              "<Figure size 750x500 with 1 Axes>"
            ],
            "image/png": "[encoded data removed]"
          },
          "metadata": {
            "needs_background": "light"
          }
        }
      ],
      "source": [
        "#Create an experiment with different parameters:\n",
        "hidden_layer = [100]\n",
        "activ = ['relu']\n",
        "learning_rate= [0.002]\n",
        "\n",
        "#Create a for loop for the experiment:\n",
        "for hd in hidden_layer:\n",
        "    for act in activ:\n",
        "        for lr in learning_rate:\n",
        "            #Print the parameters:\n",
        "            print('\\nhidden_layer_size = ', hd)\n",
        "            print('activation = ', act)\n",
        "            print('learning_Rate_init = ', lr)\n",
        "            \n",
        "            # Initialise the algorithm\n",
        "            mlp = MLPClassifier(hidden_layer_sizes=hd, \n",
        "                                activation=act, learning_rate_init=lr)\n",
        "            mlp.fit(X_resampled, y_resampled) # Train the algorithm\n",
        "            predictions = mlp.predict(X_test_norm) # Make predictions\n",
        "            \n",
        "            cm = confusion_matrix(y_test, predictions)\n",
        "            \n",
        "            #Print the results:\n",
        "            #print('Cost = ', cost)\n",
        "            print(\"Accuracy =\", accuracy_score(y_test, predictions))\n",
        "            print(\"Confusion Matrix: \\n\", cm)\n",
        "            print(\"Sensitivity: \", cm[0,0]/(cm[0,0]+cm[0,1]))\n",
        "            print(\"Specificity: \", cm[1,1]/(cm[1,0]+cm[1,1]))\n",
        "            print(\"AUC: \", roc_auc_score(y_test, predictions))\n",
        "\n",
        "            \"\"\"\n",
        "            Plotting the loss curve\n",
        "            \"\"\"\n",
        "            lossPerIteration = mlp.loss_curve_\n",
        "            plt.figure(dpi=125)\n",
        "            plt.plot(lossPerIteration)\n",
        "            plt.title(\"Loss curve for learningRate =\"+ str(lr))\n",
        "            plt.xlabel(\"Number of iterations\")\n",
        "            plt.ylabel(\"Training Loss\")\n",
        "            plt.show()"
      ]
    },
    {
      "cell_type": "markdown",
      "source": [
        "### RandomForest Classifier"
      ],
      "metadata": {
        "id": "oFRuecoWpr0e"
      }
    },
    {
      "cell_type": "code",
      "source": [
        "#Import Random Forest Model\n",
        "from sklearn.ensemble import RandomForestClassifier\n",
        "\n",
        "#Create a Gaussian Classifier\n",
        "clf=RandomForestClassifier(n_estimators=50)\n",
        "\n",
        "#Train the model using the training sets\n",
        "clf.fit(X_resampled,y_resampled)\n",
        "\n",
        "y_pred=clf.predict(X_test_norm)"
      ],
      "metadata": {
        "id": "pciS4FIaqDc4"
      },
      "execution_count": null,
      "outputs": []
    },
    {
      "cell_type": "code",
      "source": [
        "\n",
        "#Confusion Matrix:\n",
        "cm = confusion_matrix(y_test, y_pred)\n",
        "            \n",
        "#Print the results:\n",
        "print(\"Accuracy =\", accuracy_score(y_test, y_pred))\n",
        "print(\"Confusion Matrix: \\n\", cm)\n",
        "print(\"Sensitivity: \", cm[0,0]/(cm[0,0]+cm[0,1]))\n",
        "print(\"Specificity: \", cm[1,1]/(cm[1,0]+cm[1,1]))\n",
        "print(\"AUC: \", roc_auc_score(y_test, y_pred))"
      ],
      "metadata": {
        "colab": {
          "base_uri": "https://localhost:8080/"
        },
        "id": "qajYMMakOn2a",
        "outputId": "3dea2b4e-c051-437a-c33e-987bde6ea361"
      },
      "execution_count": null,
      "outputs": [
        {
          "output_type": "stream",
          "name": "stdout",
          "text": [
            "Accuracy = 0.8602636163428985\n",
            "Confusion Matrix: \n",
            " [[  4896  15283]\n",
            " [  5973 125963]]\n",
            "Sensitivity:  0.2426284751474305\n",
            "Specificity:  0.9547280499636187\n",
            "AUC:  0.5986782625555246\n"
          ]
        }
      ]
    },
    {
      "cell_type": "markdown",
      "source": [
        "### Decision Tree"
      ],
      "metadata": {
        "id": "JMdIIVSApLRJ"
      }
    },
    {
      "cell_type": "code",
      "source": [
        "# Load libraries\n",
        "import pandas as pd\n",
        "from sklearn.tree import DecisionTreeClassifier # Import Decision Tree Classifier\n",
        "from sklearn.model_selection import train_test_split # Import train_test_split function\n",
        "from sklearn import metrics #Import scikit-learn metrics module for accuracy calculation"
      ],
      "metadata": {
        "id": "I2aFNmSq4EEt"
      },
      "execution_count": null,
      "outputs": []
    },
    {
      "cell_type": "code",
      "source": [
        "# Create Decision Tree classifer object\n",
        "clf = DecisionTreeClassifier()\n",
        "\n",
        "# Train Decision Tree Classifer\n",
        "clf = clf.fit(X_resampled,y_resampled)\n",
        "\n",
        "#Predict the response for test dataset\n",
        "y_pred = clf.predict(X_test_norm)"
      ],
      "metadata": {
        "id": "hkPjrwQv7PKl"
      },
      "execution_count": null,
      "outputs": []
    },
    {
      "cell_type": "code",
      "source": [
        "#Confusion Matrix:\n",
        "cm = confusion_matrix(y_test, y_pred)\n",
        "\n",
        "# Get the results:\n",
        "print(\"Accuracy:\",metrics.accuracy_score(y_test, y_pred))\n",
        "print(\"Confusion Matrix: \\n\", cm)\n",
        "print(\"Sensitivity: \", cm[0,0]/(cm[0,0]+cm[0,1]))\n",
        "print(\"Specificity: \", cm[1,1]/(cm[1,0]+cm[1,1]))\n",
        "print(\"AUC: \", roc_auc_score(y_test, y_pred))"
      ],
      "metadata": {
        "colab": {
          "base_uri": "https://localhost:8080/"
        },
        "id": "_c-HEiJh7YUV",
        "outputId": "b32658aa-7b04-431e-da1c-5061439e9694"
      },
      "execution_count": null,
      "outputs": [
        {
          "output_type": "stream",
          "name": "stdout",
          "text": [
            "Accuracy: 0.8109325181606022\n",
            "Confusion Matrix: \n",
            " [[  5582  14597]\n",
            " [ 14163 117773]]\n",
            "Sensitivity:  0.27662421329104514\n",
            "Specificity:  0.8926524981809362\n",
            "AUC:  0.5846383557359907\n"
          ]
        }
      ]
    },
    {
      "cell_type": "markdown",
      "source": [
        "### LogisticRegression"
      ],
      "metadata": {
        "id": "NcJr2pGsHzUL"
      }
    },
    {
      "cell_type": "code",
      "source": [
        "from sklearn.linear_model import LogisticRegression\n",
        "\n",
        "lr = LogisticRegression()\n",
        "lr.fit(X_resampled,y_resampled)\n",
        "\n",
        "#Predict the response for test dataset\n",
        "y_pred = lr.predict(X_test_norm)"
      ],
      "metadata": {
        "id": "mfRt6HKoHhXy",
        "colab": {
          "base_uri": "https://localhost:8080/"
        },
        "outputId": "87175cdb-13d0-4d4a-9e05-ce129567bb86"
      },
      "execution_count": null,
      "outputs": [
        {
          "output_type": "stream",
          "name": "stderr",
          "text": [
            "/usr/local/lib/python3.7/dist-packages/sklearn/linear_model/_logistic.py:818: ConvergenceWarning: lbfgs failed to converge (status=1):\n",
            "STOP: TOTAL NO. of ITERATIONS REACHED LIMIT.\n",
            "\n",
            "Increase the number of iterations (max_iter) or scale the data as shown in:\n",
            "    https://scikit-learn.org/stable/modules/preprocessing.html\n",
            "Please also refer to the documentation for alternative solver options:\n",
            "    https://scikit-learn.org/stable/modules/linear_model.html#logistic-regression\n",
            "  extra_warning_msg=_LOGISTIC_SOLVER_CONVERGENCE_MSG,\n"
          ]
        }
      ]
    },
    {
      "cell_type": "code",
      "source": [
        "#Confusion Matrix:\n",
        "cm = confusion_matrix(y_test, y_pred)\n",
        "\n",
        "# Get the results:\n",
        "print(\"Accuracy:\",metrics.accuracy_score(y_test, y_pred))\n",
        "print(\"Confusion Matrix: \\n\", cm)\n",
        "print(\"Sensitivity: \", cm[0,0]/(cm[0,0]+cm[0,1]))\n",
        "print(\"Specificity: \", cm[1,1]/(cm[1,0]+cm[1,1]))\n",
        "print(\"AUC: \", roc_auc_score(y_test, y_pred))"
      ],
      "metadata": {
        "colab": {
          "base_uri": "https://localhost:8080/"
        },
        "id": "6Rzl1l-YIVqo",
        "outputId": "edd96445-5731-4e4e-ff7a-b06e8103784b"
      },
      "execution_count": null,
      "outputs": [
        {
          "output_type": "stream",
          "name": "stdout",
          "text": [
            "Accuracy: 0.610281694770404\n",
            "Confusion Matrix: \n",
            " [[17302  2877]\n",
            " [56405 75531]]\n",
            "Sensitivity:  0.8574260369691263\n",
            "Specificity:  0.5724821125394131\n",
            "AUC:  0.7149540747542698\n"
          ]
        }
      ]
    },
    {
      "cell_type": "markdown",
      "source": [
        "###  Multinomial Naive bayes"
      ],
      "metadata": {
        "id": "2-JdMqzB_0AE"
      }
    },
    {
      "cell_type": "code",
      "source": [
        "from sklearn.naive_bayes import MultinomialNB \n",
        "mnb = MultinomialNB().fit(X_resampled,y_resampled)\n",
        "#Predict the response for test dataset\n",
        "y_pred = mnb.predict(X_test_norm)"
      ],
      "metadata": {
        "id": "QlZseD3z_2cX"
      },
      "execution_count": null,
      "outputs": []
    },
    {
      "cell_type": "code",
      "source": [
        "#Confusion Matrix:\n",
        "cm = confusion_matrix(y_test, y_pred)\n",
        "\n",
        "# Get the results:\n",
        "print(\"Accuracy:\",metrics.accuracy_score(y_test, y_pred))\n",
        "print(\"Confusion Matrix: \\n\", cm)\n",
        "print(\"Sensitivity: \", cm[0,0]/(cm[0,0]+cm[0,1]))\n",
        "print(\"Specificity: \", cm[1,1]/(cm[1,0]+cm[1,1]))\n",
        "print(\"AUC: \", roc_auc_score(y_test, y_pred))"
      ],
      "metadata": {
        "colab": {
          "base_uri": "https://localhost:8080/"
        },
        "id": "VAcvT0JdErx5",
        "outputId": "da35199e-7aa0-4811-f870-dd04b9f9e2ea"
      },
      "execution_count": null,
      "outputs": [
        {
          "output_type": "stream",
          "name": "stdout",
          "text": [
            "Accuracy: 0.5148013016467804\n",
            "Confusion Matrix: \n",
            " [[18457  1722]\n",
            " [72084 59852]]\n",
            "Sensitivity:  0.9146637593537836\n",
            "Specificity:  0.4536441911229687\n",
            "AUC:  0.6841539752383762\n"
          ]
        }
      ]
    }
  ],
  "metadata": {
    "colab": {
      "collapsed_sections": [],
      "name": "YelpZip - Fake reviews detection model.ipynb",
      "provenance": [],
      "toc_visible": true
    },
    "kernelspec": {
      "display_name": "Python 3",
      "language": "python",
      "name": "python3"
    },
    "language_info": {
      "codemirror_mode": {
        "name": "ipython",
        "version": 3
      },
      "file_extension": ".py",
      "mimetype": "text/x-python",
      "name": "python",
      "nbconvert_exporter": "python",
      "pygments_lexer": "ipython3",
      "version": "3.8.5"
    }
  },
  "nbformat": 4,
  "nbformat_minor": 0
}